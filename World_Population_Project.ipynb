{
 "cells": [
  {
   "cell_type": "code",
   "execution_count": 21,
   "metadata": {},
   "outputs": [],
   "source": [
    "import pandas as pd\n",
    "# for visualizations\n",
    "import matplotlib.pyplot as plt\n",
    "import seaborn as sns\n",
    "plt.style.use('fivethirtyeight')\n",
    "\n",
    "# visualization\n",
    "import plotly.express as px\n",
    "import plotly.graph_objs as go\n",
    "import plotly.figure_factory as ff\n",
    "import folium\n",
    "\n",
    "%matplotlib inline"
   ]
  },
  {
   "cell_type": "code",
   "execution_count": 2,
   "metadata": {
    "scrolled": false
   },
   "outputs": [],
   "source": [
    "from IPython.core.display import display, HTML\n",
    "# display(HTML('<h1 style=\"font-size: 50px;background-color:DodgerBlue; color:white; order:2px solid Tomato;\"> <center>Data Analysis and Visualization Using Python</enter></h1><hr><br><h1 style=\"background-color:DodgerBlue;color:white;\"> <center>The World Population Project</enter></h1>'))"
   ]
  },
  {
   "cell_type": "code",
   "execution_count": 18,
   "metadata": {},
   "outputs": [
    {
     "data": {
      "text/html": [
       " <h1 style=\"font-size: 50px;background-color:Teal; height:200px; padding-top:40px; color:white; order:2px solid Tomato;\"> <center>Data Analysis and Visualization Using Python</enter></h1><hr><hr>"
      ],
      "text/plain": [
       "<IPython.core.display.HTML object>"
      ]
     },
     "metadata": {},
     "output_type": "display_data"
    }
   ],
   "source": [
    "display(HTML(' <h1 style=\"font-size: 50px;background-color:Teal; height:200px; padding-top:40px; color:white; order:2px solid Tomato;\"> <center>Data Analysis and Visualization Using Python</enter></h1><hr><hr>'))"
   ]
  },
  {
   "cell_type": "code",
   "execution_count": 17,
   "metadata": {},
   "outputs": [
    {
     "data": {
      "text/html": [
       "<h1 style=\"background-color:Teal;color:white; height:40px; padding-top:10px;\"> <center>The World Population data analyzation and Visualization Project</enter></h1>"
      ],
      "text/plain": [
       "<IPython.core.display.HTML object>"
      ]
     },
     "metadata": {},
     "output_type": "display_data"
    }
   ],
   "source": [
    "display(HTML('<h1 style=\"background-color:Teal;color:white; height:40px; padding-top:10px;\"> <center>The World Population data analyzation and Visualization Project</enter></h1>'))"
   ]
  },
  {
   "cell_type": "code",
   "execution_count": 294,
   "metadata": {},
   "outputs": [
    {
     "data": {
      "text/html": [
       "<center><img src=\"https://encrypted-tbn0.gstatic.com/images?q=tbn:ANd9GcQKWES0Ldzo4GsPjkJTNz2gedrwHpNrXiKf6g&usqp=CAU\" alt=\"Girl in a jacket\" width=\"1000\" height=\"600\"></center>"
      ],
      "text/plain": [
       "<IPython.core.display.HTML object>"
      ]
     },
     "metadata": {},
     "output_type": "display_data"
    }
   ],
   "source": [
    "display(HTML('<center><img src=\"https://encrypted-tbn0.gstatic.com/images?q=tbn:ANd9GcQKWES0Ldzo4GsPjkJTNz2gedrwHpNrXiKf6g&usqp=CAU\" alt=\"Girl in a jacket\" width=\"1000\" height=\"600\"></center>'))"
   ]
  },
  {
   "cell_type": "code",
   "execution_count": 295,
   "metadata": {},
   "outputs": [
    {
     "data": {
      "text/html": [
       "<h3> <center> <b>Presenters...</b></enter></h3>"
      ],
      "text/plain": [
       "<IPython.core.display.HTML object>"
      ]
     },
     "metadata": {},
     "output_type": "display_data"
    },
    {
     "data": {
      "text/html": [
       "<center style=\"color:blue;\">Ankit Kumar 190101120091</center>"
      ],
      "text/plain": [
       "<IPython.core.display.HTML object>"
      ]
     },
     "metadata": {},
     "output_type": "display_data"
    },
    {
     "data": {
      "text/html": [
       "<center style=\"color:navy;\">Manish Kumar 190101120086</center>"
      ],
      "text/plain": [
       "<IPython.core.display.HTML object>"
      ]
     },
     "metadata": {},
     "output_type": "display_data"
    },
    {
     "data": {
      "text/html": [
       "<center style=\"color:#0000CD;\">Amit Kumar 190101120096</center>"
      ],
      "text/plain": [
       "<IPython.core.display.HTML object>"
      ]
     },
     "metadata": {},
     "output_type": "display_data"
    },
    {
     "data": {
      "text/html": [
       "<center style=\"color:#000080;\">Rahul Kumar 190101120093</center>"
      ],
      "text/plain": [
       "<IPython.core.display.HTML object>"
      ]
     },
     "metadata": {},
     "output_type": "display_data"
    }
   ],
   "source": [
    "display(HTML('<h3> <center> <b>Presenters...</b></enter></h3>'))\n",
    "display(HTML('<center style=\"color:blue;\">Ankit Kumar 190101120091</center>'))\n",
    "display(HTML('<center style=\"color:navy;\">Manish Kumar 190101120086</center>'))\n",
    "display(HTML('<center style=\"color:#0000CD;\">Amit Kumar 190101120096</center>'))\n",
    "display(HTML('<center style=\"color:#000080;\">Rahul Kumar 190101120093</center>'))"
   ]
  },
  {
   "cell_type": "code",
   "execution_count": 296,
   "metadata": {},
   "outputs": [
    {
     "data": {
      "text/html": [
       "<h3> <center> <b>Presenting...</b></enter></h3>"
      ],
      "text/plain": [
       "<IPython.core.display.HTML object>"
      ]
     },
     "metadata": {},
     "output_type": "display_data"
    },
    {
     "data": {
      "text/html": [
       "<center style=\"color:green;\">Mr. Amit Kumar</center>"
      ],
      "text/plain": [
       "<IPython.core.display.HTML object>"
      ]
     },
     "metadata": {},
     "output_type": "display_data"
    }
   ],
   "source": [
    "display(HTML('<h3> <center> <b>Presenting...</b></enter></h3>'))\n",
    "display(HTML('<center style=\"color:green;\">Mr. Amit Kumar</center>'))"
   ]
  },
  {
   "cell_type": "code",
   "execution_count": 15,
   "metadata": {},
   "outputs": [
    {
     "data": {
      "text/html": [
       "<center><p style=\"background-color:Teal;color:white; height:100px;\">Data Collected from diffrent website <br> <a style=\"color:yellow;\">https://www.kaggle.com/tanuprabhu/population-by-country-2020</a>  </p></enter>"
      ],
      "text/plain": [
       "<IPython.core.display.HTML object>"
      ]
     },
     "metadata": {},
     "output_type": "display_data"
    }
   ],
   "source": [
    "display(HTML('<center><p style=\"background-color:Teal;color:white; height:100px;\">Data Collected from diffrent website <br> <a style=\"color:yellow;\">https://www.kaggle.com/tanuprabhu/population-by-country-2020</a>  </p></enter>'))"
   ]
  },
  {
   "cell_type": "code",
   "execution_count": 16,
   "metadata": {},
   "outputs": [
    {
     "data": {
      "text/html": [
       "<Center> <h2>Objectives</h3></center> "
      ],
      "text/plain": [
       "<IPython.core.display.HTML object>"
      ]
     },
     "metadata": {},
     "output_type": "display_data"
    },
    {
     "data": {
      "text/html": [
       "<center><pre><p style=\"background-color:Teal;color:white; height:400px;\">Described the world population data  <br> <span style=\"color:yellow;\">Checking that is there any null value or no</span><br>Population data according to the density in km2 <br> <span style=\"color:yellow;\">Top 30 countries data in 2020</span><br>Each country poputation in 2020 <br> <span style=\"color:yellow;\">total sharing the worlds population of top 10 countries</span><br>Analysed the total China Population between 1955 to 2020<br> <span style=\"color:yellow;\">Analysed the total India Population between 1955 to 2020</span><br>Yearly Population change in china<br> <span style=\"color:yellow;\">Yearly Population change in India</span><br>Aanalyzation of the China year of 1970s data with respect to Population and yearly Change<br> <span style=\"color:yellow;\">Aanalyzation of the Indias year of 1970s data with respect to Population and yearly Change</span><br>Aanalyzation of the Chinas year of 2020s data with respect to Population and yearly Change<br> <span style=\"color:yellow;\">Aanalyzation of the Indias year of 2020s data with respect to Population and yearly Change</span><br>Aanalyzation of the year of 2000 indias data with respect to Population and yearly Change<br> <span style=\"color:yellow;\">Analysed the total India Population between 1955 to 2020 </span><br>Yearly Population change in India </p></pre></enter>"
      ],
      "text/plain": [
       "<IPython.core.display.HTML object>"
      ]
     },
     "metadata": {},
     "output_type": "display_data"
    }
   ],
   "source": [
    "display(HTML('<Center> <h2>Objectives</h3></center> ')) \n",
    "display(HTML('<center><pre><p style=\"background-color:Teal;color:white; height:400px;\">Described the world population data  <br> <span style=\"color:yellow;\">Checking that is there any null value or no</span><br>Population data according to the density in km2 <br> <span style=\"color:yellow;\">Top 30 countries data in 2020</span><br>Each country poputation in 2020 <br> <span style=\"color:yellow;\">total sharing the worlds population of top 10 countries</span><br>Analysed the total China Population between 1955 to 2020<br> <span style=\"color:yellow;\">Analysed the total India Population between 1955 to 2020</span><br>Yearly Population change in china<br> <span style=\"color:yellow;\">Yearly Population change in India</span><br>Aanalyzation of the China year of 1970s data with respect to Population and yearly Change<br> <span style=\"color:yellow;\">Aanalyzation of the Indias year of 1970s data with respect to Population and yearly Change</span><br>Aanalyzation of the Chinas year of 2020s data with respect to Population and yearly Change<br> <span style=\"color:yellow;\">Aanalyzation of the Indias year of 2020s data with respect to Population and yearly Change</span><br>Aanalyzation of the year of 2000 indias data with respect to Population and yearly Change<br> <span style=\"color:yellow;\">Analysed the total India Population between 1955 to 2020 </span><br>Yearly Population change in India </p></pre></enter>'))"
   ]
  },
  {
   "cell_type": "code",
   "execution_count": 299,
   "metadata": {},
   "outputs": [
    {
     "data": {
      "text/html": [
       "<center><h1> What is Population</h1></center> <hr>"
      ],
      "text/plain": [
       "<IPython.core.display.HTML object>"
      ]
     },
     "metadata": {},
     "output_type": "display_data"
    }
   ],
   "source": [
    "display(HTML('<center><h1> What is Population</h1></center> <hr>')) "
   ]
  },
  {
   "cell_type": "code",
   "execution_count": 300,
   "metadata": {
    "scrolled": true
   },
   "outputs": [
    {
     "data": {
      "text/html": [
       "<center><p1>A population is a group of organisms of the same species occupying a given geographic location at the same time.\" The Glossary on pg. G-17 gives a slightly different wording of the same concept, \"members of the same species occupying a region\".  Indias current population in 2021 is estimated to be \"1,387,661,389.\" </p></center> "
      ],
      "text/plain": [
       "<IPython.core.display.HTML object>"
      ]
     },
     "metadata": {},
     "output_type": "display_data"
    }
   ],
   "source": [
    "display(HTML('<center><p1>A population is a group of organisms of the same species occupying a given geographic location at the same time.\" The Glossary on pg. G-17 gives a slightly different wording of the same concept, \"members of the same species occupying a region\".  Indias current population in 2021 is estimated to be \"1,387,661,389.\" </p></center> ')) "
   ]
  },
  {
   "cell_type": "code",
   "execution_count": 301,
   "metadata": {
    "scrolled": true
   },
   "outputs": [
    {
     "data": {
      "text/html": [
       "<center><h1> Population Growth</h1></center> <hr>"
      ],
      "text/plain": [
       "<IPython.core.display.HTML object>"
      ]
     },
     "metadata": {},
     "output_type": "display_data"
    },
    {
     "data": {
      "text/html": [
       "<center><p1>The world’s population is growing rapidly.The population of the world is growing at an exponential rate it’s growing faster and faster. There are two things that affect the population size of the world:Birth rate- the number of live babies born per thousand of the population per year.Death rate-the number of deaths per thousand of the population per year. </p></center> "
      ],
      "text/plain": [
       "<IPython.core.display.HTML object>"
      ]
     },
     "metadata": {},
     "output_type": "display_data"
    }
   ],
   "source": [
    "display(HTML('<center><h1> Population Growth</h1></center> <hr>')) \n",
    "display(HTML('<center><p1>The world’s population is growing rapidly.The population of the world is growing at an exponential rate it’s growing faster and faster. There are two things that affect the population size of the world:Birth rate- the number of live babies born per thousand of the population per year.Death rate-the number of deaths per thousand of the population per year. </p></center> ')) "
   ]
  },
  {
   "cell_type": "code",
   "execution_count": 302,
   "metadata": {},
   "outputs": [
    {
     "data": {
      "text/html": [
       "<center><h1> Population of countries</h1></center> <hr>"
      ],
      "text/plain": [
       "<IPython.core.display.HTML object>"
      ]
     },
     "metadata": {},
     "output_type": "display_data"
    },
    {
     "data": {
      "text/html": [
       "<center><p1>China\t1.354 billion <br> <b>India\t1.27 billion</b><br> USA\t313\tmillion <br>Indonesia\t248 million<br> Brazil\t199 million <br>Pakistan\t190 million </p></center> "
      ],
      "text/plain": [
       "<IPython.core.display.HTML object>"
      ]
     },
     "metadata": {},
     "output_type": "display_data"
    }
   ],
   "source": [
    "display(HTML('<center><h1> Population of countries</h1></center> <hr>')) \n",
    "display(HTML('<center><p1>China\t1.354 billion <br> <b>India\t1.27 billion</b><br> USA\t313\tmillion <br>Indonesia\t248 million<br> Brazil\t199 million <br>Pakistan\t190 million </p></center> ')) "
   ]
  },
  {
   "cell_type": "code",
   "execution_count": 303,
   "metadata": {},
   "outputs": [
    {
     "data": {
      "text/html": [
       "<center><h1> Processes of Population  Change/Growth</h1></center> <hr>"
      ],
      "text/plain": [
       "<IPython.core.display.HTML object>"
      ]
     },
     "metadata": {},
     "output_type": "display_data"
    },
    {
     "data": {
      "text/html": [
       "<center><p1>There are three main  processes of change of  population : <br> <b>birth rates</b><br> death rates <br>migration</p></center> "
      ],
      "text/plain": [
       "<IPython.core.display.HTML object>"
      ]
     },
     "metadata": {},
     "output_type": "display_data"
    }
   ],
   "source": [
    "display(HTML('<center><h1> Processes of Population  Change/Growth</h1></center> <hr>')) \n",
    "display(HTML('<center><p1>There are three main  processes of change of  population : <br> <b>birth rates</b><br> death rates <br>migration</p></center> ')) "
   ]
  },
  {
   "cell_type": "code",
   "execution_count": 304,
   "metadata": {},
   "outputs": [
    {
     "data": {
      "text/html": [
       "<center><h1> Population Growth of India</h1></center> <hr>"
      ],
      "text/plain": [
       "<IPython.core.display.HTML object>"
      ]
     },
     "metadata": {},
     "output_type": "display_data"
    },
    {
     "data": {
      "text/html": [
       "<center><p1>The india’s population is growing rapidly.The population of the india is growing at an exponential rate it’s growing faster and faster. There are two things that affect the population size of the world:The birth rate for India in 2020 was 17.592 births per 1000 people, a 1.2% decline from 2019.</p></center> "
      ],
      "text/plain": [
       "<IPython.core.display.HTML object>"
      ]
     },
     "metadata": {},
     "output_type": "display_data"
    }
   ],
   "source": [
    "display(HTML('<center><h1> Population Growth of India</h1></center> <hr>')) \n",
    "display(HTML('<center><p1>The india’s population is growing rapidly.The population of the india is growing at an exponential rate it’s growing faster and faster. There are two things that affect the population size of the world:The birth rate for India in 2020 was 17.592 births per 1000 people, a 1.2% decline from 2019.</p></center> ')) "
   ]
  },
  {
   "cell_type": "code",
   "execution_count": 305,
   "metadata": {
    "scrolled": true
   },
   "outputs": [
    {
     "data": {
      "text/html": [
       "<center><img src=\"data:image/jpeg;base64,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\" alt=\"Girl in a jacket\" width=\"500\" height=\"600\"></center><hr style=\"font-weight:bold;\">"
      ],
      "text/plain": [
       "<IPython.core.display.HTML object>"
      ]
     },
     "metadata": {},
     "output_type": "display_data"
    },
    {
     "data": {
      "text/html": [
       "<center><p> India, with 1395.57 billion people is the  second most populous country in the world, while China  is on the top with over 1,443,981,565 (1.35 billion) people. .</p></center>"
      ],
      "text/plain": [
       "<IPython.core.display.HTML object>"
      ]
     },
     "metadata": {},
     "output_type": "display_data"
    }
   ],
   "source": [
    "display(HTML('<center><img src=\"data:image/jpeg;base64,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\" alt=\"Girl in a jacket\" width=\"500\" height=\"600\"></center><hr style=\"font-weight:bold;\">'))\n",
    "display(HTML('<center><p> India, with 1395.57 billion people is the  second most populous country in the world, while China  is on the top with over 1,443,981,565 (1.35 billion) people. .</p></center>'))"
   ]
  },
  {
   "cell_type": "code",
   "execution_count": 306,
   "metadata": {},
   "outputs": [],
   "source": [
    "#Importing the dataset in CSV format"
   ]
  },
  {
   "cell_type": "code",
   "execution_count": 307,
   "metadata": {},
   "outputs": [],
   "source": [
    "# %time \n",
    "population = pd.read_csv('Countries Population from 1995 to 2020.csv')"
   ]
  },
  {
   "cell_type": "markdown",
   "metadata": {},
   "source": [
    "# Containing top 5 raw from the data"
   ]
  },
  {
   "cell_type": "code",
   "execution_count": 308,
   "metadata": {
    "scrolled": true
   },
   "outputs": [
    {
     "data": {
      "text/html": [
       "<div>\n",
       "<style scoped>\n",
       "    .dataframe tbody tr th:only-of-type {\n",
       "        vertical-align: middle;\n",
       "    }\n",
       "\n",
       "    .dataframe tbody tr th {\n",
       "        vertical-align: top;\n",
       "    }\n",
       "\n",
       "    .dataframe thead th {\n",
       "        text-align: right;\n",
       "    }\n",
       "</style>\n",
       "<table border=\"1\" class=\"dataframe\">\n",
       "  <thead>\n",
       "    <tr style=\"text-align: right;\">\n",
       "      <th></th>\n",
       "      <th>Year</th>\n",
       "      <th>Country</th>\n",
       "      <th>Population</th>\n",
       "      <th>Yearly % Change</th>\n",
       "      <th>Yearly Change</th>\n",
       "      <th>Migrants (net)</th>\n",
       "      <th>Median Age</th>\n",
       "      <th>Fertility Rate</th>\n",
       "      <th>Density (P/Km²)</th>\n",
       "      <th>Urban Pop %</th>\n",
       "      <th>Urban Population</th>\n",
       "      <th>Country's Share of World Pop %</th>\n",
       "      <th>World Population</th>\n",
       "      <th>Country Global Rank</th>\n",
       "    </tr>\n",
       "  </thead>\n",
       "  <tbody>\n",
       "    <tr>\n",
       "      <th>0</th>\n",
       "      <td>2020</td>\n",
       "      <td>China</td>\n",
       "      <td>1439323776</td>\n",
       "      <td>0.39</td>\n",
       "      <td>5540090</td>\n",
       "      <td>-348399.0</td>\n",
       "      <td>38.4</td>\n",
       "      <td>1.69</td>\n",
       "      <td>153</td>\n",
       "      <td>60.8</td>\n",
       "      <td>875075919.0</td>\n",
       "      <td>18.47</td>\n",
       "      <td>7794798739</td>\n",
       "      <td>1</td>\n",
       "    </tr>\n",
       "    <tr>\n",
       "      <th>1</th>\n",
       "      <td>2019</td>\n",
       "      <td>China</td>\n",
       "      <td>1433783686</td>\n",
       "      <td>0.43</td>\n",
       "      <td>6135900</td>\n",
       "      <td>-348399.0</td>\n",
       "      <td>37.0</td>\n",
       "      <td>1.65</td>\n",
       "      <td>153</td>\n",
       "      <td>59.7</td>\n",
       "      <td>856409297.0</td>\n",
       "      <td>18.59</td>\n",
       "      <td>7713468100</td>\n",
       "      <td>1</td>\n",
       "    </tr>\n",
       "    <tr>\n",
       "      <th>2</th>\n",
       "      <td>2018</td>\n",
       "      <td>China</td>\n",
       "      <td>1427647786</td>\n",
       "      <td>0.47</td>\n",
       "      <td>6625995</td>\n",
       "      <td>-348399.0</td>\n",
       "      <td>37.0</td>\n",
       "      <td>1.65</td>\n",
       "      <td>152</td>\n",
       "      <td>58.6</td>\n",
       "      <td>837022095.0</td>\n",
       "      <td>18.71</td>\n",
       "      <td>7631091040</td>\n",
       "      <td>1</td>\n",
       "    </tr>\n",
       "    <tr>\n",
       "      <th>3</th>\n",
       "      <td>2017</td>\n",
       "      <td>China</td>\n",
       "      <td>1421021791</td>\n",
       "      <td>0.49</td>\n",
       "      <td>6972440</td>\n",
       "      <td>-348399.0</td>\n",
       "      <td>37.0</td>\n",
       "      <td>1.65</td>\n",
       "      <td>151</td>\n",
       "      <td>57.5</td>\n",
       "      <td>816957613.0</td>\n",
       "      <td>18.83</td>\n",
       "      <td>7547858925</td>\n",
       "      <td>1</td>\n",
       "    </tr>\n",
       "    <tr>\n",
       "      <th>4</th>\n",
       "      <td>2016</td>\n",
       "      <td>China</td>\n",
       "      <td>1414049351</td>\n",
       "      <td>0.51</td>\n",
       "      <td>7201481</td>\n",
       "      <td>-348399.0</td>\n",
       "      <td>37.0</td>\n",
       "      <td>1.65</td>\n",
       "      <td>151</td>\n",
       "      <td>56.3</td>\n",
       "      <td>796289491.0</td>\n",
       "      <td>18.94</td>\n",
       "      <td>7464022049</td>\n",
       "      <td>1</td>\n",
       "    </tr>\n",
       "  </tbody>\n",
       "</table>\n",
       "</div>"
      ],
      "text/plain": [
       "   Year Country  Population  Yearly % Change  Yearly Change  Migrants (net)  \\\n",
       "0  2020   China  1439323776             0.39        5540090       -348399.0   \n",
       "1  2019   China  1433783686             0.43        6135900       -348399.0   \n",
       "2  2018   China  1427647786             0.47        6625995       -348399.0   \n",
       "3  2017   China  1421021791             0.49        6972440       -348399.0   \n",
       "4  2016   China  1414049351             0.51        7201481       -348399.0   \n",
       "\n",
       "   Median Age  Fertility Rate Density (P/Km²)  Urban Pop %  Urban Population  \\\n",
       "0        38.4            1.69             153         60.8       875075919.0   \n",
       "1        37.0            1.65             153         59.7       856409297.0   \n",
       "2        37.0            1.65             152         58.6       837022095.0   \n",
       "3        37.0            1.65             151         57.5       816957613.0   \n",
       "4        37.0            1.65             151         56.3       796289491.0   \n",
       "\n",
       "   Country's Share of World Pop %  World Population  Country Global Rank  \n",
       "0                           18.47        7794798739                    1  \n",
       "1                           18.59        7713468100                    1  \n",
       "2                           18.71        7631091040                    1  \n",
       "3                           18.83        7547858925                    1  \n",
       "4                           18.94        7464022049                    1  "
      ]
     },
     "execution_count": 308,
     "metadata": {},
     "output_type": "execute_result"
    }
   ],
   "source": [
    "# let\n",
    "population.head(5)"
   ]
  },
  {
   "cell_type": "markdown",
   "metadata": {},
   "source": [
    "# Shape of the Data"
   ]
  },
  {
   "cell_type": "code",
   "execution_count": 309,
   "metadata": {},
   "outputs": [
    {
     "data": {
      "text/plain": [
       "(4195, 14)"
      ]
     },
     "execution_count": 309,
     "metadata": {},
     "output_type": "execute_result"
    }
   ],
   "source": [
    "population.shape"
   ]
  },
  {
   "cell_type": "markdown",
   "metadata": {},
   "source": [
    "# All the information about the datafreme"
   ]
  },
  {
   "cell_type": "code",
   "execution_count": 310,
   "metadata": {},
   "outputs": [
    {
     "name": "stdout",
     "output_type": "stream",
     "text": [
      "<class 'pandas.core.frame.DataFrame'>\n",
      "RangeIndex: 4195 entries, 0 to 4194\n",
      "Data columns (total 14 columns):\n",
      " #   Column                          Non-Null Count  Dtype  \n",
      "---  ------                          --------------  -----  \n",
      " 0   Year                            4195 non-null   int64  \n",
      " 1   Country                         4195 non-null   object \n",
      " 2   Population                      4195 non-null   int64  \n",
      " 3   Yearly % Change                 4195 non-null   float64\n",
      " 4   Yearly Change                   4195 non-null   int64  \n",
      " 5   Migrants (net)                  3600 non-null   float64\n",
      " 6   Median Age                      3600 non-null   float64\n",
      " 7   Fertility Rate                  3600 non-null   float64\n",
      " 8   Density (P/Km²)                 4195 non-null   object \n",
      " 9   Urban Pop %                     4082 non-null   float64\n",
      " 10  Urban Population                4082 non-null   float64\n",
      " 11  Country's Share of World Pop %  4195 non-null   float64\n",
      " 12  World Population                4195 non-null   int64  \n",
      " 13  Country Global Rank             4195 non-null   int64  \n",
      "dtypes: float64(7), int64(5), object(2)\n",
      "memory usage: 459.0+ KB\n"
     ]
    }
   ],
   "source": [
    "population.info()"
   ]
  },
  {
   "cell_type": "markdown",
   "metadata": {},
   "source": [
    "# Describing the world population data"
   ]
  },
  {
   "cell_type": "code",
   "execution_count": 311,
   "metadata": {},
   "outputs": [
    {
     "data": {
      "text/html": [
       "<div>\n",
       "<style scoped>\n",
       "    .dataframe tbody tr th:only-of-type {\n",
       "        vertical-align: middle;\n",
       "    }\n",
       "\n",
       "    .dataframe tbody tr th {\n",
       "        vertical-align: top;\n",
       "    }\n",
       "\n",
       "    .dataframe thead th {\n",
       "        text-align: right;\n",
       "    }\n",
       "</style>\n",
       "<table border=\"1\" class=\"dataframe\">\n",
       "  <thead>\n",
       "    <tr style=\"text-align: right;\">\n",
       "      <th></th>\n",
       "      <th>Year</th>\n",
       "      <th>Population</th>\n",
       "      <th>Yearly % Change</th>\n",
       "      <th>Yearly Change</th>\n",
       "      <th>Migrants (net)</th>\n",
       "      <th>Median Age</th>\n",
       "      <th>Fertility Rate</th>\n",
       "      <th>Urban Pop %</th>\n",
       "      <th>Urban Population</th>\n",
       "      <th>Country's Share of World Pop %</th>\n",
       "      <th>World Population</th>\n",
       "      <th>Country Global Rank</th>\n",
       "    </tr>\n",
       "  </thead>\n",
       "  <tbody>\n",
       "    <tr>\n",
       "      <th>count</th>\n",
       "      <td>4195.000000</td>\n",
       "      <td>4.195000e+03</td>\n",
       "      <td>4195.000000</td>\n",
       "      <td>4.195000e+03</td>\n",
       "      <td>3.600000e+03</td>\n",
       "      <td>3600.000000</td>\n",
       "      <td>3600.000000</td>\n",
       "      <td>4082.000000</td>\n",
       "      <td>4.082000e+03</td>\n",
       "      <td>4195.000000</td>\n",
       "      <td>4.195000e+03</td>\n",
       "      <td>4195.000000</td>\n",
       "    </tr>\n",
       "    <tr>\n",
       "      <th>mean</th>\n",
       "      <td>1993.951132</td>\n",
       "      <td>2.443381e+07</td>\n",
       "      <td>1.668927</td>\n",
       "      <td>3.298374e+05</td>\n",
       "      <td>7.430833e+00</td>\n",
       "      <td>25.490278</td>\n",
       "      <td>3.885772</td>\n",
       "      <td>51.067369</td>\n",
       "      <td>1.203792e+07</td>\n",
       "      <td>0.428942</td>\n",
       "      <td>5.676982e+09</td>\n",
       "      <td>117.167342</td>\n",
       "    </tr>\n",
       "    <tr>\n",
       "      <th>std</th>\n",
       "      <td>21.685009</td>\n",
       "      <td>1.067417e+08</td>\n",
       "      <td>1.653519</td>\n",
       "      <td>1.334366e+06</td>\n",
       "      <td>1.063210e+05</td>\n",
       "      <td>8.233313</td>\n",
       "      <td>1.987803</td>\n",
       "      <td>25.996685</td>\n",
       "      <td>4.744380e+07</td>\n",
       "      <td>1.807324</td>\n",
       "      <td>1.732658e+09</td>\n",
       "      <td>67.503854</td>\n",
       "    </tr>\n",
       "    <tr>\n",
       "      <th>min</th>\n",
       "      <td>1955.000000</td>\n",
       "      <td>6.440000e+02</td>\n",
       "      <td>-12.930000</td>\n",
       "      <td>-6.730240e+05</td>\n",
       "      <td>-1.077397e+06</td>\n",
       "      <td>14.400000</td>\n",
       "      <td>0.850000</td>\n",
       "      <td>0.000000</td>\n",
       "      <td>0.000000e+00</td>\n",
       "      <td>0.000000</td>\n",
       "      <td>2.773020e+09</td>\n",
       "      <td>1.000000</td>\n",
       "    </tr>\n",
       "    <tr>\n",
       "      <th>25%</th>\n",
       "      <td>1975.000000</td>\n",
       "      <td>2.800885e+05</td>\n",
       "      <td>0.620000</td>\n",
       "      <td>1.293000e+03</td>\n",
       "      <td>-1.254925e+04</td>\n",
       "      <td>18.500000</td>\n",
       "      <td>2.080000</td>\n",
       "      <td>30.400000</td>\n",
       "      <td>1.381082e+05</td>\n",
       "      <td>0.010000</td>\n",
       "      <td>4.079481e+09</td>\n",
       "      <td>59.000000</td>\n",
       "    </tr>\n",
       "    <tr>\n",
       "      <th>50%</th>\n",
       "      <td>1995.000000</td>\n",
       "      <td>3.687898e+06</td>\n",
       "      <td>1.540000</td>\n",
       "      <td>3.895000e+04</td>\n",
       "      <td>-8.755000e+02</td>\n",
       "      <td>22.750000</td>\n",
       "      <td>3.400000</td>\n",
       "      <td>50.900000</td>\n",
       "      <td>1.579878e+06</td>\n",
       "      <td>0.070000</td>\n",
       "      <td>5.744213e+09</td>\n",
       "      <td>117.000000</td>\n",
       "    </tr>\n",
       "    <tr>\n",
       "      <th>75%</th>\n",
       "      <td>2016.000000</td>\n",
       "      <td>1.306608e+07</td>\n",
       "      <td>2.600000</td>\n",
       "      <td>2.076195e+05</td>\n",
       "      <td>5.000250e+03</td>\n",
       "      <td>31.600000</td>\n",
       "      <td>5.740000</td>\n",
       "      <td>72.700000</td>\n",
       "      <td>6.841242e+06</td>\n",
       "      <td>0.250000</td>\n",
       "      <td>7.464022e+09</td>\n",
       "      <td>175.000000</td>\n",
       "    </tr>\n",
       "    <tr>\n",
       "      <th>max</th>\n",
       "      <td>2020.000000</td>\n",
       "      <td>1.439324e+09</td>\n",
       "      <td>23.300000</td>\n",
       "      <td>2.067648e+07</td>\n",
       "      <td>1.771991e+06</td>\n",
       "      <td>48.400000</td>\n",
       "      <td>8.800000</td>\n",
       "      <td>100.000000</td>\n",
       "      <td>8.750759e+08</td>\n",
       "      <td>22.700000</td>\n",
       "      <td>7.794799e+09</td>\n",
       "      <td>235.000000</td>\n",
       "    </tr>\n",
       "  </tbody>\n",
       "</table>\n",
       "</div>"
      ],
      "text/plain": [
       "              Year    Population  Yearly % Change  Yearly Change  \\\n",
       "count  4195.000000  4.195000e+03      4195.000000   4.195000e+03   \n",
       "mean   1993.951132  2.443381e+07         1.668927   3.298374e+05   \n",
       "std      21.685009  1.067417e+08         1.653519   1.334366e+06   \n",
       "min    1955.000000  6.440000e+02       -12.930000  -6.730240e+05   \n",
       "25%    1975.000000  2.800885e+05         0.620000   1.293000e+03   \n",
       "50%    1995.000000  3.687898e+06         1.540000   3.895000e+04   \n",
       "75%    2016.000000  1.306608e+07         2.600000   2.076195e+05   \n",
       "max    2020.000000  1.439324e+09        23.300000   2.067648e+07   \n",
       "\n",
       "       Migrants (net)   Median Age  Fertility Rate  Urban Pop %  \\\n",
       "count    3.600000e+03  3600.000000     3600.000000  4082.000000   \n",
       "mean     7.430833e+00    25.490278        3.885772    51.067369   \n",
       "std      1.063210e+05     8.233313        1.987803    25.996685   \n",
       "min     -1.077397e+06    14.400000        0.850000     0.000000   \n",
       "25%     -1.254925e+04    18.500000        2.080000    30.400000   \n",
       "50%     -8.755000e+02    22.750000        3.400000    50.900000   \n",
       "75%      5.000250e+03    31.600000        5.740000    72.700000   \n",
       "max      1.771991e+06    48.400000        8.800000   100.000000   \n",
       "\n",
       "       Urban Population  Country's Share of World Pop %  World Population  \\\n",
       "count      4.082000e+03                     4195.000000      4.195000e+03   \n",
       "mean       1.203792e+07                        0.428942      5.676982e+09   \n",
       "std        4.744380e+07                        1.807324      1.732658e+09   \n",
       "min        0.000000e+00                        0.000000      2.773020e+09   \n",
       "25%        1.381082e+05                        0.010000      4.079481e+09   \n",
       "50%        1.579878e+06                        0.070000      5.744213e+09   \n",
       "75%        6.841242e+06                        0.250000      7.464022e+09   \n",
       "max        8.750759e+08                       22.700000      7.794799e+09   \n",
       "\n",
       "       Country Global Rank  \n",
       "count          4195.000000  \n",
       "mean            117.167342  \n",
       "std              67.503854  \n",
       "min               1.000000  \n",
       "25%              59.000000  \n",
       "50%             117.000000  \n",
       "75%             175.000000  \n",
       "max             235.000000  "
      ]
     },
     "execution_count": 311,
     "metadata": {},
     "output_type": "execute_result"
    }
   ],
   "source": [
    "population.describe()"
   ]
  },
  {
   "cell_type": "markdown",
   "metadata": {},
   "source": [
    "# Checking that is there any null value or not"
   ]
  },
  {
   "cell_type": "code",
   "execution_count": 312,
   "metadata": {},
   "outputs": [
    {
     "data": {
      "text/plain": [
       "Year                                0\n",
       "Country                             0\n",
       "Population                          0\n",
       "Yearly % Change                     0\n",
       "Yearly Change                       0\n",
       "Migrants (net)                    595\n",
       "Median Age                        595\n",
       "Fertility Rate                    595\n",
       "Density (P/Km²)                     0\n",
       "Urban Pop %                       113\n",
       "Urban Population                  113\n",
       "Country's Share of World Pop %      0\n",
       "World Population                    0\n",
       "Country Global Rank                 0\n",
       "dtype: int64"
      ]
     },
     "execution_count": 312,
     "metadata": {},
     "output_type": "execute_result"
    }
   ],
   "source": [
    "# checking NULL value\n",
    "\n",
    "population.isnull().sum()\n"
   ]
  },
  {
   "cell_type": "markdown",
   "metadata": {},
   "source": [
    "# It is showing the population data according to the density in km2"
   ]
  },
  {
   "cell_type": "code",
   "execution_count": 313,
   "metadata": {},
   "outputs": [
    {
     "data": {
      "text/html": [
       "<h3>and also replacing the data \"Densirt to (p/km2)\"</h3>"
      ],
      "text/plain": [
       "<IPython.core.display.HTML object>"
      ]
     },
     "metadata": {},
     "output_type": "display_data"
    }
   ],
   "source": [
    "display(HTML('<h3>and also replacing the data \"Densirt to (p/km2)\"</h3>'))"
   ]
  },
  {
   "cell_type": "code",
   "execution_count": 314,
   "metadata": {},
   "outputs": [
    {
     "data": {
      "text/plain": [
       "0        153\n",
       "1        153\n",
       "2        152\n",
       "3        151\n",
       "4        151\n",
       "        ... \n",
       "4190    1820\n",
       "4191    1610\n",
       "4192    2135\n",
       "4193    2265\n",
       "4194    2270\n",
       "Name: Density (P/Km²), Length: 4195, dtype: object"
      ]
     },
     "execution_count": 314,
     "metadata": {},
     "output_type": "execute_result"
    }
   ],
   "source": [
    "population['Density (P/Km²)'].astype(str).str.replace(\",\", \"\")"
   ]
  },
  {
   "cell_type": "markdown",
   "metadata": {},
   "source": [
    "# Showing the graph of top 30 countries data in 2020"
   ]
  },
  {
   "cell_type": "code",
   "execution_count": 315,
   "metadata": {},
   "outputs": [
    {
     "data": {
      "image/png": "[encoded data removed]",
      "text/plain": [
       "<Figure size 1800x504 with 1 Axes>"
      ]
     },
     "metadata": {
      "needs_background": "light"
     },
     "output_type": "display_data"
    }
   ],
   "source": [
    "# 2020 population data\n",
    "current_population = population[population['Year'] == 2020][:30]\n",
    "\n",
    "plt.rcParams['figure.figsize'] = (25, 7)\n",
    "ax = sns.barplot(x = current_population['Country'][:30], y = current_population['Population'][:30], palette = 'dark')\n",
    "ax.set_xlabel(xlabel = 'Countries', fontsize = 10)\n",
    "ax.set_ylabel(ylabel = 'Population in Billion', fontsize = 10)\n",
    "ax.set_title(label = 'Population of top 30 countries in 2020', fontsize = 20)\n",
    "plt.xticks(rotation = 90)\n",
    "plt.show()"
   ]
  },
  {
   "cell_type": "markdown",
   "metadata": {},
   "source": [
    "# This graph is showing each country poputation in 2020"
   ]
  },
  {
   "cell_type": "code",
   "execution_count": 316,
   "metadata": {
    "scrolled": true
   },
   "outputs": [
    {
     "data": {
      "image/png": "[encoded data removed]",
      "text/plain": [
       "<Figure size 648x1800 with 1 Axes>"
      ]
     },
     "metadata": {
      "needs_background": "light"
     },
     "output_type": "display_data"
    }
   ],
   "source": [
    "plt.figure(figsize=(9,25))\n",
    "ax = sns.barplot(x=\"Population\", y=\"Country\",\n",
    "                 data=current_population, palette=\"tab20c\",\n",
    "                 linewidth = 1)\n",
    "for i,j in enumerate(current_population[\"Population\"]):\n",
    "    ax.text(.5, i, j, weight=\"bold\", color = 'black', fontsize =10)\n",
    "plt.title(\"Population of each country in 2020\")\n",
    "ax.set_xlabel(xlabel = 'Population in Billion', fontsize = 10)\n",
    "ax.set_ylabel(ylabel = 'Countries', fontsize = 10)\n",
    "plt.show()"
   ]
  },
  {
   "cell_type": "markdown",
   "metadata": {},
   "source": [
    "# This is the analysation of total sharing the world's population of top 10 countries  "
   ]
  },
  {
   "cell_type": "code",
   "execution_count": 317,
   "metadata": {
    "scrolled": true
   },
   "outputs": [
    {
     "name": "stdout",
     "output_type": "stream",
     "text": [
      "Country\n",
      "China                  1439323776\n",
      "India                  1380004385\n",
      "United States           331002651\n",
      "Indonesia               273523615\n",
      "Pakistan                220892340\n",
      "                          ...    \n",
      "Aruba                      106766\n",
      "Tonga                      105695\n",
      "U.S. Virgin Islands        104425\n",
      "Seychelles                  98347\n",
      "Antigua and Barbuda         97929\n",
      "Name: Population, Length: 200, dtype: int64\n"
     ]
    }
   ],
   "source": [
    "unique_countries = population['Country'].unique()\n",
    "plt.style.use(\"seaborn-talk\")\n",
    "\n",
    "\n",
    "# set year\n",
    "year = 2020\n",
    "df_last_year = population[population['Year'] == year]\n",
    "series_last_year = df_last_year.groupby('Country')['Population'].sum().sort_values(ascending=False)\n",
    "print(series_last_year)\n",
    "\n",
    "labels = []\n",
    "values = []\n",
    "country_count = 10\n",
    "other_total = 0\n",
    "for country in series_last_year.index:\n",
    "    if country_count > 0:\n",
    "        labels.append(country)\n",
    "        values.append(series_last_year[country])\n",
    "        country_count -= 1\n",
    "    else:\n",
    "        other_total += series_last_year[country]\n",
    "labels.append(\"Other\")\n",
    "values.append(other_total)\n",
    "\n",
    "wedge_dict = {\n",
    "    'edgecolor': 'black',\n",
    "    'linewidth': 2        \n",
    "}\n",
    "\n",
    "explode = (0, 0.1, 0, 0, 0, 0, 0, 0, 0, 0, 0)\n",
    "\n"
   ]
  },
  {
   "cell_type": "markdown",
   "metadata": {},
   "source": [
    "# This graph is showing that \"Total Share of in World's Population the top 10 countries in\""
   ]
  },
  {
   "cell_type": "code",
   "execution_count": 318,
   "metadata": {},
   "outputs": [
    {
     "data": {
      "image/png": "[encoded data removed]",
      "text/plain": [
       "<Figure size 748.8x514.8 with 1 Axes>"
      ]
     },
     "metadata": {},
     "output_type": "display_data"
    }
   ],
   "source": [
    "plt.title(f\"Total Share of in World's Population the top 10 countries in {year}\")\n",
    "plt.pie(values, labels=labels, explode=explode, autopct='%1.2f%%', wedgeprops=wedge_dict)\n",
    "plt.show()"
   ]
  },
  {
   "cell_type": "code",
   "execution_count": 319,
   "metadata": {},
   "outputs": [],
   "source": [
    "def country_wise_population(country):\n",
    "    return population[population['Country'] == country]"
   ]
  },
  {
   "cell_type": "code",
   "execution_count": 320,
   "metadata": {},
   "outputs": [],
   "source": [
    "china_population = country_wise_population('China')"
   ]
  },
  {
   "cell_type": "markdown",
   "metadata": {},
   "source": [
    "# Analysed the total China Population between 1955 to 2020 "
   ]
  },
  {
   "cell_type": "code",
   "execution_count": 321,
   "metadata": {},
   "outputs": [
    {
     "data": {
      "text/html": [
       "<div>\n",
       "<style scoped>\n",
       "    .dataframe tbody tr th:only-of-type {\n",
       "        vertical-align: middle;\n",
       "    }\n",
       "\n",
       "    .dataframe tbody tr th {\n",
       "        vertical-align: top;\n",
       "    }\n",
       "\n",
       "    .dataframe thead th {\n",
       "        text-align: right;\n",
       "    }\n",
       "</style>\n",
       "<table border=\"1\" class=\"dataframe\">\n",
       "  <thead>\n",
       "    <tr style=\"text-align: right;\">\n",
       "      <th></th>\n",
       "      <th>Year</th>\n",
       "      <th>Country</th>\n",
       "      <th>Population</th>\n",
       "      <th>Yearly % Change</th>\n",
       "      <th>Yearly Change</th>\n",
       "      <th>Migrants (net)</th>\n",
       "      <th>Median Age</th>\n",
       "      <th>Fertility Rate</th>\n",
       "      <th>Density (P/Km²)</th>\n",
       "      <th>Urban Pop %</th>\n",
       "      <th>Urban Population</th>\n",
       "      <th>Country's Share of World Pop %</th>\n",
       "      <th>World Population</th>\n",
       "      <th>Country Global Rank</th>\n",
       "    </tr>\n",
       "  </thead>\n",
       "  <tbody>\n",
       "    <tr>\n",
       "      <th>0</th>\n",
       "      <td>2020</td>\n",
       "      <td>China</td>\n",
       "      <td>1439323776</td>\n",
       "      <td>0.39</td>\n",
       "      <td>5540090</td>\n",
       "      <td>-348399.0</td>\n",
       "      <td>38.4</td>\n",
       "      <td>1.69</td>\n",
       "      <td>153</td>\n",
       "      <td>60.8</td>\n",
       "      <td>875075919.0</td>\n",
       "      <td>18.47</td>\n",
       "      <td>7794798739</td>\n",
       "      <td>1</td>\n",
       "    </tr>\n",
       "    <tr>\n",
       "      <th>1</th>\n",
       "      <td>2019</td>\n",
       "      <td>China</td>\n",
       "      <td>1433783686</td>\n",
       "      <td>0.43</td>\n",
       "      <td>6135900</td>\n",
       "      <td>-348399.0</td>\n",
       "      <td>37.0</td>\n",
       "      <td>1.65</td>\n",
       "      <td>153</td>\n",
       "      <td>59.7</td>\n",
       "      <td>856409297.0</td>\n",
       "      <td>18.59</td>\n",
       "      <td>7713468100</td>\n",
       "      <td>1</td>\n",
       "    </tr>\n",
       "    <tr>\n",
       "      <th>2</th>\n",
       "      <td>2018</td>\n",
       "      <td>China</td>\n",
       "      <td>1427647786</td>\n",
       "      <td>0.47</td>\n",
       "      <td>6625995</td>\n",
       "      <td>-348399.0</td>\n",
       "      <td>37.0</td>\n",
       "      <td>1.65</td>\n",
       "      <td>152</td>\n",
       "      <td>58.6</td>\n",
       "      <td>837022095.0</td>\n",
       "      <td>18.71</td>\n",
       "      <td>7631091040</td>\n",
       "      <td>1</td>\n",
       "    </tr>\n",
       "    <tr>\n",
       "      <th>3</th>\n",
       "      <td>2017</td>\n",
       "      <td>China</td>\n",
       "      <td>1421021791</td>\n",
       "      <td>0.49</td>\n",
       "      <td>6972440</td>\n",
       "      <td>-348399.0</td>\n",
       "      <td>37.0</td>\n",
       "      <td>1.65</td>\n",
       "      <td>151</td>\n",
       "      <td>57.5</td>\n",
       "      <td>816957613.0</td>\n",
       "      <td>18.83</td>\n",
       "      <td>7547858925</td>\n",
       "      <td>1</td>\n",
       "    </tr>\n",
       "    <tr>\n",
       "      <th>4</th>\n",
       "      <td>2016</td>\n",
       "      <td>China</td>\n",
       "      <td>1414049351</td>\n",
       "      <td>0.51</td>\n",
       "      <td>7201481</td>\n",
       "      <td>-348399.0</td>\n",
       "      <td>37.0</td>\n",
       "      <td>1.65</td>\n",
       "      <td>151</td>\n",
       "      <td>56.3</td>\n",
       "      <td>796289491.0</td>\n",
       "      <td>18.94</td>\n",
       "      <td>7464022049</td>\n",
       "      <td>1</td>\n",
       "    </tr>\n",
       "    <tr>\n",
       "      <th>5</th>\n",
       "      <td>2015</td>\n",
       "      <td>China</td>\n",
       "      <td>1406847870</td>\n",
       "      <td>0.55</td>\n",
       "      <td>7607451</td>\n",
       "      <td>-310442.0</td>\n",
       "      <td>36.7</td>\n",
       "      <td>1.64</td>\n",
       "      <td>150</td>\n",
       "      <td>55.1</td>\n",
       "      <td>775352918.0</td>\n",
       "      <td>19.06</td>\n",
       "      <td>7379797139</td>\n",
       "      <td>1</td>\n",
       "    </tr>\n",
       "    <tr>\n",
       "      <th>6</th>\n",
       "      <td>2010</td>\n",
       "      <td>China</td>\n",
       "      <td>1368810615</td>\n",
       "      <td>0.57</td>\n",
       "      <td>7606847</td>\n",
       "      <td>-435677.0</td>\n",
       "      <td>35.0</td>\n",
       "      <td>1.62</td>\n",
       "      <td>146</td>\n",
       "      <td>48.9</td>\n",
       "      <td>669353557.0</td>\n",
       "      <td>19.68</td>\n",
       "      <td>6956823603</td>\n",
       "      <td>1</td>\n",
       "    </tr>\n",
       "    <tr>\n",
       "      <th>7</th>\n",
       "      <td>2005</td>\n",
       "      <td>China</td>\n",
       "      <td>1330776380</td>\n",
       "      <td>0.62</td>\n",
       "      <td>8045123</td>\n",
       "      <td>-393116.0</td>\n",
       "      <td>32.6</td>\n",
       "      <td>1.61</td>\n",
       "      <td>142</td>\n",
       "      <td>42.2</td>\n",
       "      <td>561983323.0</td>\n",
       "      <td>20.34</td>\n",
       "      <td>6541907027</td>\n",
       "      <td>1</td>\n",
       "    </tr>\n",
       "    <tr>\n",
       "      <th>8</th>\n",
       "      <td>2000</td>\n",
       "      <td>China</td>\n",
       "      <td>1290550765</td>\n",
       "      <td>0.79</td>\n",
       "      <td>9926046</td>\n",
       "      <td>-76600.0</td>\n",
       "      <td>30.0</td>\n",
       "      <td>1.62</td>\n",
       "      <td>137</td>\n",
       "      <td>35.7</td>\n",
       "      <td>460377048.0</td>\n",
       "      <td>21.01</td>\n",
       "      <td>6143493823</td>\n",
       "      <td>1</td>\n",
       "    </tr>\n",
       "    <tr>\n",
       "      <th>9</th>\n",
       "      <td>1995</td>\n",
       "      <td>China</td>\n",
       "      <td>1240920535</td>\n",
       "      <td>1.07</td>\n",
       "      <td>12807372</td>\n",
       "      <td>-155996.0</td>\n",
       "      <td>27.4</td>\n",
       "      <td>1.83</td>\n",
       "      <td>132</td>\n",
       "      <td>30.9</td>\n",
       "      <td>383901711.0</td>\n",
       "      <td>21.60</td>\n",
       "      <td>5744212979</td>\n",
       "      <td>1</td>\n",
       "    </tr>\n",
       "    <tr>\n",
       "      <th>10</th>\n",
       "      <td>1990</td>\n",
       "      <td>China</td>\n",
       "      <td>1176883674</td>\n",
       "      <td>1.82</td>\n",
       "      <td>20258863</td>\n",
       "      <td>-86330.0</td>\n",
       "      <td>24.9</td>\n",
       "      <td>2.73</td>\n",
       "      <td>125</td>\n",
       "      <td>26.3</td>\n",
       "      <td>310022147.0</td>\n",
       "      <td>22.09</td>\n",
       "      <td>5327231061</td>\n",
       "      <td>1</td>\n",
       "    </tr>\n",
       "    <tr>\n",
       "      <th>11</th>\n",
       "      <td>1985</td>\n",
       "      <td>China</td>\n",
       "      <td>1075589361</td>\n",
       "      <td>1.47</td>\n",
       "      <td>15100025</td>\n",
       "      <td>-40000.0</td>\n",
       "      <td>23.5</td>\n",
       "      <td>2.52</td>\n",
       "      <td>115</td>\n",
       "      <td>22.8</td>\n",
       "      <td>244946241.0</td>\n",
       "      <td>22.08</td>\n",
       "      <td>4870921740</td>\n",
       "      <td>1</td>\n",
       "    </tr>\n",
       "    <tr>\n",
       "      <th>12</th>\n",
       "      <td>1980</td>\n",
       "      <td>China</td>\n",
       "      <td>1000089235</td>\n",
       "      <td>1.55</td>\n",
       "      <td>14769670</td>\n",
       "      <td>-9401.0</td>\n",
       "      <td>21.9</td>\n",
       "      <td>3.01</td>\n",
       "      <td>107</td>\n",
       "      <td>19.2</td>\n",
       "      <td>192392094.0</td>\n",
       "      <td>22.43</td>\n",
       "      <td>4458003514</td>\n",
       "      <td>1</td>\n",
       "    </tr>\n",
       "    <tr>\n",
       "      <th>13</th>\n",
       "      <td>1975</td>\n",
       "      <td>China</td>\n",
       "      <td>926240885</td>\n",
       "      <td>2.28</td>\n",
       "      <td>19727898</td>\n",
       "      <td>-221096.0</td>\n",
       "      <td>20.3</td>\n",
       "      <td>4.85</td>\n",
       "      <td>99</td>\n",
       "      <td>17.3</td>\n",
       "      <td>160244444.0</td>\n",
       "      <td>22.70</td>\n",
       "      <td>4079480606</td>\n",
       "      <td>1</td>\n",
       "    </tr>\n",
       "    <tr>\n",
       "      <th>14</th>\n",
       "      <td>1970</td>\n",
       "      <td>China</td>\n",
       "      <td>827601394</td>\n",
       "      <td>2.70</td>\n",
       "      <td>20676485</td>\n",
       "      <td>-32000.0</td>\n",
       "      <td>19.3</td>\n",
       "      <td>6.30</td>\n",
       "      <td>88</td>\n",
       "      <td>17.3</td>\n",
       "      <td>143513192.0</td>\n",
       "      <td>22.36</td>\n",
       "      <td>3700437046</td>\n",
       "      <td>1</td>\n",
       "    </tr>\n",
       "    <tr>\n",
       "      <th>15</th>\n",
       "      <td>1965</td>\n",
       "      <td>China</td>\n",
       "      <td>724218968</td>\n",
       "      <td>1.86</td>\n",
       "      <td>12762182</td>\n",
       "      <td>-225145.0</td>\n",
       "      <td>19.8</td>\n",
       "      <td>6.15</td>\n",
       "      <td>77</td>\n",
       "      <td>18.0</td>\n",
       "      <td>130684595.0</td>\n",
       "      <td>21.69</td>\n",
       "      <td>3339583597</td>\n",
       "      <td>1</td>\n",
       "    </tr>\n",
       "    <tr>\n",
       "      <th>16</th>\n",
       "      <td>1960</td>\n",
       "      <td>China</td>\n",
       "      <td>660408056</td>\n",
       "      <td>1.53</td>\n",
       "      <td>9633300</td>\n",
       "      <td>-11900.0</td>\n",
       "      <td>21.3</td>\n",
       "      <td>5.48</td>\n",
       "      <td>70</td>\n",
       "      <td>16.1</td>\n",
       "      <td>106561743.0</td>\n",
       "      <td>21.76</td>\n",
       "      <td>3034949748</td>\n",
       "      <td>1</td>\n",
       "    </tr>\n",
       "    <tr>\n",
       "      <th>17</th>\n",
       "      <td>1955</td>\n",
       "      <td>China</td>\n",
       "      <td>612241554</td>\n",
       "      <td>2.00</td>\n",
       "      <td>11564456</td>\n",
       "      <td>-51205.0</td>\n",
       "      <td>22.2</td>\n",
       "      <td>6.11</td>\n",
       "      <td>65</td>\n",
       "      <td>13.8</td>\n",
       "      <td>84639825.0</td>\n",
       "      <td>22.08</td>\n",
       "      <td>2773019936</td>\n",
       "      <td>1</td>\n",
       "    </tr>\n",
       "  </tbody>\n",
       "</table>\n",
       "</div>"
      ],
      "text/plain": [
       "    Year Country  Population  Yearly % Change  Yearly Change  Migrants (net)  \\\n",
       "0   2020   China  1439323776             0.39        5540090       -348399.0   \n",
       "1   2019   China  1433783686             0.43        6135900       -348399.0   \n",
       "2   2018   China  1427647786             0.47        6625995       -348399.0   \n",
       "3   2017   China  1421021791             0.49        6972440       -348399.0   \n",
       "4   2016   China  1414049351             0.51        7201481       -348399.0   \n",
       "5   2015   China  1406847870             0.55        7607451       -310442.0   \n",
       "6   2010   China  1368810615             0.57        7606847       -435677.0   \n",
       "7   2005   China  1330776380             0.62        8045123       -393116.0   \n",
       "8   2000   China  1290550765             0.79        9926046        -76600.0   \n",
       "9   1995   China  1240920535             1.07       12807372       -155996.0   \n",
       "10  1990   China  1176883674             1.82       20258863        -86330.0   \n",
       "11  1985   China  1075589361             1.47       15100025        -40000.0   \n",
       "12  1980   China  1000089235             1.55       14769670         -9401.0   \n",
       "13  1975   China   926240885             2.28       19727898       -221096.0   \n",
       "14  1970   China   827601394             2.70       20676485        -32000.0   \n",
       "15  1965   China   724218968             1.86       12762182       -225145.0   \n",
       "16  1960   China   660408056             1.53        9633300        -11900.0   \n",
       "17  1955   China   612241554             2.00       11564456        -51205.0   \n",
       "\n",
       "    Median Age  Fertility Rate Density (P/Km²)  Urban Pop %  Urban Population  \\\n",
       "0         38.4            1.69             153         60.8       875075919.0   \n",
       "1         37.0            1.65             153         59.7       856409297.0   \n",
       "2         37.0            1.65             152         58.6       837022095.0   \n",
       "3         37.0            1.65             151         57.5       816957613.0   \n",
       "4         37.0            1.65             151         56.3       796289491.0   \n",
       "5         36.7            1.64             150         55.1       775352918.0   \n",
       "6         35.0            1.62             146         48.9       669353557.0   \n",
       "7         32.6            1.61             142         42.2       561983323.0   \n",
       "8         30.0            1.62             137         35.7       460377048.0   \n",
       "9         27.4            1.83             132         30.9       383901711.0   \n",
       "10        24.9            2.73             125         26.3       310022147.0   \n",
       "11        23.5            2.52             115         22.8       244946241.0   \n",
       "12        21.9            3.01             107         19.2       192392094.0   \n",
       "13        20.3            4.85              99         17.3       160244444.0   \n",
       "14        19.3            6.30              88         17.3       143513192.0   \n",
       "15        19.8            6.15              77         18.0       130684595.0   \n",
       "16        21.3            5.48              70         16.1       106561743.0   \n",
       "17        22.2            6.11              65         13.8        84639825.0   \n",
       "\n",
       "    Country's Share of World Pop %  World Population  Country Global Rank  \n",
       "0                            18.47        7794798739                    1  \n",
       "1                            18.59        7713468100                    1  \n",
       "2                            18.71        7631091040                    1  \n",
       "3                            18.83        7547858925                    1  \n",
       "4                            18.94        7464022049                    1  \n",
       "5                            19.06        7379797139                    1  \n",
       "6                            19.68        6956823603                    1  \n",
       "7                            20.34        6541907027                    1  \n",
       "8                            21.01        6143493823                    1  \n",
       "9                            21.60        5744212979                    1  \n",
       "10                           22.09        5327231061                    1  \n",
       "11                           22.08        4870921740                    1  \n",
       "12                           22.43        4458003514                    1  \n",
       "13                           22.70        4079480606                    1  \n",
       "14                           22.36        3700437046                    1  \n",
       "15                           21.69        3339583597                    1  \n",
       "16                           21.76        3034949748                    1  \n",
       "17                           22.08        2773019936                    1  "
      ]
     },
     "execution_count": 321,
     "metadata": {},
     "output_type": "execute_result"
    }
   ],
   "source": [
    "china_population"
   ]
  },
  {
   "cell_type": "markdown",
   "metadata": {},
   "source": [
    "# Yearly Population change in china"
   ]
  },
  {
   "cell_type": "code",
   "execution_count": 322,
   "metadata": {},
   "outputs": [
    {
     "data": {
      "image/png": "[encoded data removed]",
      "text/plain": [
       "<Figure size 720x360 with 1 Axes>"
      ]
     },
     "metadata": {
      "needs_background": "light"
     },
     "output_type": "display_data"
    }
   ],
   "source": [
    "fig = plt.figure(figsize=(10,5))\n",
    "plt.plot(china_population['Year'], china_population['Yearly Change'])\n",
    "plt.title('Yearly Population Change in China')\n",
    "plt.xlabel('Year')\n",
    "plt.ylabel('Population in 10 Million')\n",
    "plt.show()"
   ]
  },
  {
   "cell_type": "markdown",
   "metadata": {},
   "source": [
    "#  The Aanalyzation of the maximum population data with respect to Chinas population"
   ]
  },
  {
   "cell_type": "code",
   "execution_count": 323,
   "metadata": {},
   "outputs": [
    {
     "data": {
      "text/html": [
       "<div>\n",
       "<style scoped>\n",
       "    .dataframe tbody tr th:only-of-type {\n",
       "        vertical-align: middle;\n",
       "    }\n",
       "\n",
       "    .dataframe tbody tr th {\n",
       "        vertical-align: top;\n",
       "    }\n",
       "\n",
       "    .dataframe thead th {\n",
       "        text-align: right;\n",
       "    }\n",
       "</style>\n",
       "<table border=\"1\" class=\"dataframe\">\n",
       "  <thead>\n",
       "    <tr style=\"text-align: right;\">\n",
       "      <th></th>\n",
       "      <th>Year</th>\n",
       "      <th>Population</th>\n",
       "      <th>Yearly % Change</th>\n",
       "      <th>Yearly Change</th>\n",
       "    </tr>\n",
       "  </thead>\n",
       "  <tbody>\n",
       "    <tr>\n",
       "      <th>14</th>\n",
       "      <td>1970</td>\n",
       "      <td>827601394</td>\n",
       "      <td>2.7</td>\n",
       "      <td>20676485</td>\n",
       "    </tr>\n",
       "  </tbody>\n",
       "</table>\n",
       "</div>"
      ],
      "text/plain": [
       "    Year  Population  Yearly % Change  Yearly Change\n",
       "14  1970   827601394              2.7       20676485"
      ]
     },
     "execution_count": 323,
     "metadata": {},
     "output_type": "execute_result"
    }
   ],
   "source": [
    "china_population[china_population['Yearly Change']==china_population['Yearly Change'].max()][['Year', 'Population', 'Yearly % Change',\n",
    "                                                                                             'Yearly Change']]"
   ]
  },
  {
   "cell_type": "markdown",
   "metadata": {},
   "source": [
    "# The Aanalyzation of the minimum population data with respect to Chinas population"
   ]
  },
  {
   "cell_type": "code",
   "execution_count": 324,
   "metadata": {},
   "outputs": [
    {
     "data": {
      "text/html": [
       "<div>\n",
       "<style scoped>\n",
       "    .dataframe tbody tr th:only-of-type {\n",
       "        vertical-align: middle;\n",
       "    }\n",
       "\n",
       "    .dataframe tbody tr th {\n",
       "        vertical-align: top;\n",
       "    }\n",
       "\n",
       "    .dataframe thead th {\n",
       "        text-align: right;\n",
       "    }\n",
       "</style>\n",
       "<table border=\"1\" class=\"dataframe\">\n",
       "  <thead>\n",
       "    <tr style=\"text-align: right;\">\n",
       "      <th></th>\n",
       "      <th>Year</th>\n",
       "      <th>Population</th>\n",
       "      <th>Yearly % Change</th>\n",
       "      <th>Yearly Change</th>\n",
       "    </tr>\n",
       "  </thead>\n",
       "  <tbody>\n",
       "    <tr>\n",
       "      <th>0</th>\n",
       "      <td>2020</td>\n",
       "      <td>1439323776</td>\n",
       "      <td>0.39</td>\n",
       "      <td>5540090</td>\n",
       "    </tr>\n",
       "  </tbody>\n",
       "</table>\n",
       "</div>"
      ],
      "text/plain": [
       "   Year  Population  Yearly % Change  Yearly Change\n",
       "0  2020  1439323776             0.39        5540090"
      ]
     },
     "execution_count": 324,
     "metadata": {},
     "output_type": "execute_result"
    }
   ],
   "source": [
    "china_population[china_population['Yearly Change']==china_population['Yearly Change'].min()][['Year', 'Population', 'Yearly % Change',\n",
    "                                                                                             'Yearly Change']]"
   ]
  },
  {
   "cell_type": "code",
   "execution_count": 325,
   "metadata": {},
   "outputs": [],
   "source": [
    "india_population = country_wise_population('India')"
   ]
  },
  {
   "cell_type": "markdown",
   "metadata": {},
   "source": [
    "# Analysed the total India Population between 1955 to 2020"
   ]
  },
  {
   "cell_type": "code",
   "execution_count": 326,
   "metadata": {},
   "outputs": [
    {
     "data": {
      "text/html": [
       "<div>\n",
       "<style scoped>\n",
       "    .dataframe tbody tr th:only-of-type {\n",
       "        vertical-align: middle;\n",
       "    }\n",
       "\n",
       "    .dataframe tbody tr th {\n",
       "        vertical-align: top;\n",
       "    }\n",
       "\n",
       "    .dataframe thead th {\n",
       "        text-align: right;\n",
       "    }\n",
       "</style>\n",
       "<table border=\"1\" class=\"dataframe\">\n",
       "  <thead>\n",
       "    <tr style=\"text-align: right;\">\n",
       "      <th></th>\n",
       "      <th>Year</th>\n",
       "      <th>Country</th>\n",
       "      <th>Population</th>\n",
       "      <th>Yearly % Change</th>\n",
       "      <th>Yearly Change</th>\n",
       "      <th>Migrants (net)</th>\n",
       "      <th>Median Age</th>\n",
       "      <th>Fertility Rate</th>\n",
       "      <th>Density (P/Km²)</th>\n",
       "      <th>Urban Pop %</th>\n",
       "      <th>Urban Population</th>\n",
       "      <th>Country's Share of World Pop %</th>\n",
       "      <th>World Population</th>\n",
       "      <th>Country Global Rank</th>\n",
       "    </tr>\n",
       "  </thead>\n",
       "  <tbody>\n",
       "    <tr>\n",
       "      <th>18</th>\n",
       "      <td>2020</td>\n",
       "      <td>India</td>\n",
       "      <td>1380004385</td>\n",
       "      <td>0.99</td>\n",
       "      <td>13586631</td>\n",
       "      <td>-532687.0</td>\n",
       "      <td>28.4</td>\n",
       "      <td>2.24</td>\n",
       "      <td>464</td>\n",
       "      <td>35.0</td>\n",
       "      <td>483098640.0</td>\n",
       "      <td>17.70</td>\n",
       "      <td>7794798739</td>\n",
       "      <td>2</td>\n",
       "    </tr>\n",
       "    <tr>\n",
       "      <th>19</th>\n",
       "      <td>2019</td>\n",
       "      <td>India</td>\n",
       "      <td>1366417754</td>\n",
       "      <td>1.02</td>\n",
       "      <td>13775474</td>\n",
       "      <td>-532687.0</td>\n",
       "      <td>27.1</td>\n",
       "      <td>2.36</td>\n",
       "      <td>460</td>\n",
       "      <td>34.5</td>\n",
       "      <td>471828295.0</td>\n",
       "      <td>17.71</td>\n",
       "      <td>7713468100</td>\n",
       "      <td>2</td>\n",
       "    </tr>\n",
       "    <tr>\n",
       "      <th>20</th>\n",
       "      <td>2018</td>\n",
       "      <td>India</td>\n",
       "      <td>1352642280</td>\n",
       "      <td>1.04</td>\n",
       "      <td>13965495</td>\n",
       "      <td>-532687.0</td>\n",
       "      <td>27.1</td>\n",
       "      <td>2.36</td>\n",
       "      <td>455</td>\n",
       "      <td>34.1</td>\n",
       "      <td>460779764.0</td>\n",
       "      <td>17.73</td>\n",
       "      <td>7631091040</td>\n",
       "      <td>2</td>\n",
       "    </tr>\n",
       "    <tr>\n",
       "      <th>21</th>\n",
       "      <td>2017</td>\n",
       "      <td>India</td>\n",
       "      <td>1338676785</td>\n",
       "      <td>1.07</td>\n",
       "      <td>14159536</td>\n",
       "      <td>-532687.0</td>\n",
       "      <td>27.1</td>\n",
       "      <td>2.36</td>\n",
       "      <td>450</td>\n",
       "      <td>33.6</td>\n",
       "      <td>449963381.0</td>\n",
       "      <td>17.74</td>\n",
       "      <td>7547858925</td>\n",
       "      <td>2</td>\n",
       "    </tr>\n",
       "    <tr>\n",
       "      <th>22</th>\n",
       "      <td>2016</td>\n",
       "      <td>India</td>\n",
       "      <td>1324517249</td>\n",
       "      <td>1.10</td>\n",
       "      <td>14364846</td>\n",
       "      <td>-532687.0</td>\n",
       "      <td>27.1</td>\n",
       "      <td>2.36</td>\n",
       "      <td>445</td>\n",
       "      <td>33.2</td>\n",
       "      <td>439391699.0</td>\n",
       "      <td>17.75</td>\n",
       "      <td>7464022049</td>\n",
       "      <td>2</td>\n",
       "    </tr>\n",
       "    <tr>\n",
       "      <th>23</th>\n",
       "      <td>2015</td>\n",
       "      <td>India</td>\n",
       "      <td>1310152403</td>\n",
       "      <td>1.20</td>\n",
       "      <td>15174247</td>\n",
       "      <td>-470015.0</td>\n",
       "      <td>26.8</td>\n",
       "      <td>2.40</td>\n",
       "      <td>441</td>\n",
       "      <td>32.7</td>\n",
       "      <td>429069459.0</td>\n",
       "      <td>17.75</td>\n",
       "      <td>7379797139</td>\n",
       "      <td>2</td>\n",
       "    </tr>\n",
       "    <tr>\n",
       "      <th>24</th>\n",
       "      <td>2010</td>\n",
       "      <td>India</td>\n",
       "      <td>1234281170</td>\n",
       "      <td>1.47</td>\n",
       "      <td>17334249</td>\n",
       "      <td>-531169.0</td>\n",
       "      <td>25.1</td>\n",
       "      <td>2.80</td>\n",
       "      <td>415</td>\n",
       "      <td>30.8</td>\n",
       "      <td>380744554.0</td>\n",
       "      <td>17.74</td>\n",
       "      <td>6956823603</td>\n",
       "      <td>2</td>\n",
       "    </tr>\n",
       "    <tr>\n",
       "      <th>25</th>\n",
       "      <td>2005</td>\n",
       "      <td>India</td>\n",
       "      <td>1147609927</td>\n",
       "      <td>1.67</td>\n",
       "      <td>18206876</td>\n",
       "      <td>-377797.0</td>\n",
       "      <td>23.8</td>\n",
       "      <td>3.14</td>\n",
       "      <td>386</td>\n",
       "      <td>29.1</td>\n",
       "      <td>334479406.0</td>\n",
       "      <td>17.54</td>\n",
       "      <td>6541907027</td>\n",
       "      <td>2</td>\n",
       "    </tr>\n",
       "    <tr>\n",
       "      <th>26</th>\n",
       "      <td>2000</td>\n",
       "      <td>India</td>\n",
       "      <td>1056575549</td>\n",
       "      <td>1.85</td>\n",
       "      <td>18530592</td>\n",
       "      <td>-136514.0</td>\n",
       "      <td>22.7</td>\n",
       "      <td>3.48</td>\n",
       "      <td>355</td>\n",
       "      <td>27.6</td>\n",
       "      <td>291350282.0</td>\n",
       "      <td>17.20</td>\n",
       "      <td>6143493823</td>\n",
       "      <td>2</td>\n",
       "    </tr>\n",
       "    <tr>\n",
       "      <th>27</th>\n",
       "      <td>1995</td>\n",
       "      <td>India</td>\n",
       "      <td>963922588</td>\n",
       "      <td>1.99</td>\n",
       "      <td>18128958</td>\n",
       "      <td>-110590.0</td>\n",
       "      <td>21.8</td>\n",
       "      <td>3.83</td>\n",
       "      <td>324</td>\n",
       "      <td>26.5</td>\n",
       "      <td>255558824.0</td>\n",
       "      <td>16.78</td>\n",
       "      <td>5744212979</td>\n",
       "      <td>2</td>\n",
       "    </tr>\n",
       "    <tr>\n",
       "      <th>28</th>\n",
       "      <td>1990</td>\n",
       "      <td>India</td>\n",
       "      <td>873277798</td>\n",
       "      <td>2.17</td>\n",
       "      <td>17783558</td>\n",
       "      <td>9030.0</td>\n",
       "      <td>21.1</td>\n",
       "      <td>4.27</td>\n",
       "      <td>294</td>\n",
       "      <td>25.5</td>\n",
       "      <td>222296728.0</td>\n",
       "      <td>16.39</td>\n",
       "      <td>5327231061</td>\n",
       "      <td>2</td>\n",
       "    </tr>\n",
       "    <tr>\n",
       "      <th>29</th>\n",
       "      <td>1985</td>\n",
       "      <td>India</td>\n",
       "      <td>784360008</td>\n",
       "      <td>2.33</td>\n",
       "      <td>17081433</td>\n",
       "      <td>115942.0</td>\n",
       "      <td>20.6</td>\n",
       "      <td>4.68</td>\n",
       "      <td>264</td>\n",
       "      <td>24.3</td>\n",
       "      <td>190321782.0</td>\n",
       "      <td>16.10</td>\n",
       "      <td>4870921740</td>\n",
       "      <td>2</td>\n",
       "    </tr>\n",
       "    <tr>\n",
       "      <th>30</th>\n",
       "      <td>1980</td>\n",
       "      <td>India</td>\n",
       "      <td>698952844</td>\n",
       "      <td>2.32</td>\n",
       "      <td>15169989</td>\n",
       "      <td>222247.0</td>\n",
       "      <td>20.2</td>\n",
       "      <td>4.97</td>\n",
       "      <td>235</td>\n",
       "      <td>23.0</td>\n",
       "      <td>160941941.0</td>\n",
       "      <td>15.68</td>\n",
       "      <td>4458003514</td>\n",
       "      <td>2</td>\n",
       "    </tr>\n",
       "    <tr>\n",
       "      <th>31</th>\n",
       "      <td>1975</td>\n",
       "      <td>India</td>\n",
       "      <td>623102897</td>\n",
       "      <td>2.33</td>\n",
       "      <td>13582621</td>\n",
       "      <td>421208.0</td>\n",
       "      <td>19.7</td>\n",
       "      <td>5.41</td>\n",
       "      <td>210</td>\n",
       "      <td>21.3</td>\n",
       "      <td>132533810.0</td>\n",
       "      <td>15.27</td>\n",
       "      <td>4079480606</td>\n",
       "      <td>2</td>\n",
       "    </tr>\n",
       "    <tr>\n",
       "      <th>32</th>\n",
       "      <td>1970</td>\n",
       "      <td>India</td>\n",
       "      <td>555189792</td>\n",
       "      <td>2.15</td>\n",
       "      <td>11213294</td>\n",
       "      <td>-68569.0</td>\n",
       "      <td>19.3</td>\n",
       "      <td>5.72</td>\n",
       "      <td>187</td>\n",
       "      <td>19.7</td>\n",
       "      <td>109388950.0</td>\n",
       "      <td>15.00</td>\n",
       "      <td>3700437046</td>\n",
       "      <td>2</td>\n",
       "    </tr>\n",
       "    <tr>\n",
       "      <th>33</th>\n",
       "      <td>1965</td>\n",
       "      <td>India</td>\n",
       "      <td>499123324</td>\n",
       "      <td>2.07</td>\n",
       "      <td>9715129</td>\n",
       "      <td>-17078.0</td>\n",
       "      <td>19.6</td>\n",
       "      <td>5.89</td>\n",
       "      <td>168</td>\n",
       "      <td>18.7</td>\n",
       "      <td>93493844.0</td>\n",
       "      <td>14.95</td>\n",
       "      <td>3339583597</td>\n",
       "      <td>2</td>\n",
       "    </tr>\n",
       "    <tr>\n",
       "      <th>34</th>\n",
       "      <td>1960</td>\n",
       "      <td>India</td>\n",
       "      <td>450547679</td>\n",
       "      <td>1.91</td>\n",
       "      <td>8133417</td>\n",
       "      <td>-30805.0</td>\n",
       "      <td>20.2</td>\n",
       "      <td>5.90</td>\n",
       "      <td>152</td>\n",
       "      <td>17.9</td>\n",
       "      <td>80565723.0</td>\n",
       "      <td>14.85</td>\n",
       "      <td>3034949748</td>\n",
       "      <td>2</td>\n",
       "    </tr>\n",
       "    <tr>\n",
       "      <th>35</th>\n",
       "      <td>1955</td>\n",
       "      <td>India</td>\n",
       "      <td>409880595</td>\n",
       "      <td>1.72</td>\n",
       "      <td>6711079</td>\n",
       "      <td>-21140.0</td>\n",
       "      <td>20.7</td>\n",
       "      <td>5.90</td>\n",
       "      <td>138</td>\n",
       "      <td>17.6</td>\n",
       "      <td>71958495.0</td>\n",
       "      <td>14.78</td>\n",
       "      <td>2773019936</td>\n",
       "      <td>2</td>\n",
       "    </tr>\n",
       "  </tbody>\n",
       "</table>\n",
       "</div>"
      ],
      "text/plain": [
       "    Year Country  Population  Yearly % Change  Yearly Change  Migrants (net)  \\\n",
       "18  2020   India  1380004385             0.99       13586631       -532687.0   \n",
       "19  2019   India  1366417754             1.02       13775474       -532687.0   \n",
       "20  2018   India  1352642280             1.04       13965495       -532687.0   \n",
       "21  2017   India  1338676785             1.07       14159536       -532687.0   \n",
       "22  2016   India  1324517249             1.10       14364846       -532687.0   \n",
       "23  2015   India  1310152403             1.20       15174247       -470015.0   \n",
       "24  2010   India  1234281170             1.47       17334249       -531169.0   \n",
       "25  2005   India  1147609927             1.67       18206876       -377797.0   \n",
       "26  2000   India  1056575549             1.85       18530592       -136514.0   \n",
       "27  1995   India   963922588             1.99       18128958       -110590.0   \n",
       "28  1990   India   873277798             2.17       17783558          9030.0   \n",
       "29  1985   India   784360008             2.33       17081433        115942.0   \n",
       "30  1980   India   698952844             2.32       15169989        222247.0   \n",
       "31  1975   India   623102897             2.33       13582621        421208.0   \n",
       "32  1970   India   555189792             2.15       11213294        -68569.0   \n",
       "33  1965   India   499123324             2.07        9715129        -17078.0   \n",
       "34  1960   India   450547679             1.91        8133417        -30805.0   \n",
       "35  1955   India   409880595             1.72        6711079        -21140.0   \n",
       "\n",
       "    Median Age  Fertility Rate Density (P/Km²)  Urban Pop %  Urban Population  \\\n",
       "18        28.4            2.24             464         35.0       483098640.0   \n",
       "19        27.1            2.36             460         34.5       471828295.0   \n",
       "20        27.1            2.36             455         34.1       460779764.0   \n",
       "21        27.1            2.36             450         33.6       449963381.0   \n",
       "22        27.1            2.36             445         33.2       439391699.0   \n",
       "23        26.8            2.40             441         32.7       429069459.0   \n",
       "24        25.1            2.80             415         30.8       380744554.0   \n",
       "25        23.8            3.14             386         29.1       334479406.0   \n",
       "26        22.7            3.48             355         27.6       291350282.0   \n",
       "27        21.8            3.83             324         26.5       255558824.0   \n",
       "28        21.1            4.27             294         25.5       222296728.0   \n",
       "29        20.6            4.68             264         24.3       190321782.0   \n",
       "30        20.2            4.97             235         23.0       160941941.0   \n",
       "31        19.7            5.41             210         21.3       132533810.0   \n",
       "32        19.3            5.72             187         19.7       109388950.0   \n",
       "33        19.6            5.89             168         18.7        93493844.0   \n",
       "34        20.2            5.90             152         17.9        80565723.0   \n",
       "35        20.7            5.90             138         17.6        71958495.0   \n",
       "\n",
       "    Country's Share of World Pop %  World Population  Country Global Rank  \n",
       "18                           17.70        7794798739                    2  \n",
       "19                           17.71        7713468100                    2  \n",
       "20                           17.73        7631091040                    2  \n",
       "21                           17.74        7547858925                    2  \n",
       "22                           17.75        7464022049                    2  \n",
       "23                           17.75        7379797139                    2  \n",
       "24                           17.74        6956823603                    2  \n",
       "25                           17.54        6541907027                    2  \n",
       "26                           17.20        6143493823                    2  \n",
       "27                           16.78        5744212979                    2  \n",
       "28                           16.39        5327231061                    2  \n",
       "29                           16.10        4870921740                    2  \n",
       "30                           15.68        4458003514                    2  \n",
       "31                           15.27        4079480606                    2  \n",
       "32                           15.00        3700437046                    2  \n",
       "33                           14.95        3339583597                    2  \n",
       "34                           14.85        3034949748                    2  \n",
       "35                           14.78        2773019936                    2  "
      ]
     },
     "execution_count": 326,
     "metadata": {},
     "output_type": "execute_result"
    }
   ],
   "source": [
    "india_population"
   ]
  },
  {
   "cell_type": "markdown",
   "metadata": {},
   "source": [
    "# Yearly Population change in India"
   ]
  },
  {
   "cell_type": "code",
   "execution_count": 327,
   "metadata": {},
   "outputs": [
    {
     "data": {
      "image/png": "[encoded data removed]",
      "text/plain": [
       "<Figure size 720x360 with 1 Axes>"
      ]
     },
     "metadata": {
      "needs_background": "light"
     },
     "output_type": "display_data"
    }
   ],
   "source": [
    "fig = plt.figure(figsize=(10,5))\n",
    "plt.plot(india_population['Year'], india_population['Yearly Change'])\n",
    "plt.title('Yearly Population Change in India')\n",
    "plt.xlabel('Year')\n",
    "plt.ylabel('Population in 10 Million')\n",
    "plt.show()"
   ]
  },
  {
   "cell_type": "markdown",
   "metadata": {},
   "source": [
    "#  The Aanalyzation of the maximum population data with respect to Indias population"
   ]
  },
  {
   "cell_type": "code",
   "execution_count": 328,
   "metadata": {},
   "outputs": [
    {
     "data": {
      "text/html": [
       "<div>\n",
       "<style scoped>\n",
       "    .dataframe tbody tr th:only-of-type {\n",
       "        vertical-align: middle;\n",
       "    }\n",
       "\n",
       "    .dataframe tbody tr th {\n",
       "        vertical-align: top;\n",
       "    }\n",
       "\n",
       "    .dataframe thead th {\n",
       "        text-align: right;\n",
       "    }\n",
       "</style>\n",
       "<table border=\"1\" class=\"dataframe\">\n",
       "  <thead>\n",
       "    <tr style=\"text-align: right;\">\n",
       "      <th></th>\n",
       "      <th>Year</th>\n",
       "      <th>Population</th>\n",
       "      <th>Yearly % Change</th>\n",
       "      <th>Yearly Change</th>\n",
       "    </tr>\n",
       "  </thead>\n",
       "  <tbody>\n",
       "    <tr>\n",
       "      <th>26</th>\n",
       "      <td>2000</td>\n",
       "      <td>1056575549</td>\n",
       "      <td>1.85</td>\n",
       "      <td>18530592</td>\n",
       "    </tr>\n",
       "  </tbody>\n",
       "</table>\n",
       "</div>"
      ],
      "text/plain": [
       "    Year  Population  Yearly % Change  Yearly Change\n",
       "26  2000  1056575549             1.85       18530592"
      ]
     },
     "execution_count": 328,
     "metadata": {},
     "output_type": "execute_result"
    }
   ],
   "source": [
    "india_population[india_population['Yearly Change']==india_population['Yearly Change'].max()][['Year', 'Population', 'Yearly % Change',\n",
    "                                                                                             'Yearly Change']]"
   ]
  },
  {
   "cell_type": "markdown",
   "metadata": {},
   "source": [
    "#  The Aanalyzation of the minimum population data with respect to Chinas population"
   ]
  },
  {
   "cell_type": "code",
   "execution_count": 329,
   "metadata": {},
   "outputs": [
    {
     "data": {
      "text/html": [
       "<div>\n",
       "<style scoped>\n",
       "    .dataframe tbody tr th:only-of-type {\n",
       "        vertical-align: middle;\n",
       "    }\n",
       "\n",
       "    .dataframe tbody tr th {\n",
       "        vertical-align: top;\n",
       "    }\n",
       "\n",
       "    .dataframe thead th {\n",
       "        text-align: right;\n",
       "    }\n",
       "</style>\n",
       "<table border=\"1\" class=\"dataframe\">\n",
       "  <thead>\n",
       "    <tr style=\"text-align: right;\">\n",
       "      <th></th>\n",
       "      <th>Year</th>\n",
       "      <th>Population</th>\n",
       "      <th>Yearly % Change</th>\n",
       "      <th>Yearly Change</th>\n",
       "    </tr>\n",
       "  </thead>\n",
       "  <tbody>\n",
       "    <tr>\n",
       "      <th>35</th>\n",
       "      <td>1955</td>\n",
       "      <td>409880595</td>\n",
       "      <td>1.72</td>\n",
       "      <td>6711079</td>\n",
       "    </tr>\n",
       "  </tbody>\n",
       "</table>\n",
       "</div>"
      ],
      "text/plain": [
       "    Year  Population  Yearly % Change  Yearly Change\n",
       "35  1955   409880595             1.72        6711079"
      ]
     },
     "execution_count": 329,
     "metadata": {},
     "output_type": "execute_result"
    }
   ],
   "source": [
    "india_population[india_population['Yearly Change']==india_population['Yearly Change'].min()][['Year', 'Population', 'Yearly % Change',\n",
    "                                                                                             'Yearly Change']]"
   ]
  },
  {
   "cell_type": "markdown",
   "metadata": {},
   "source": [
    "# Analysing the USA Data from 1955 to 2020"
   ]
  },
  {
   "cell_type": "code",
   "execution_count": 330,
   "metadata": {},
   "outputs": [],
   "source": [
    "usa_populaiton = country_wise_population('United States')"
   ]
  },
  {
   "cell_type": "code",
   "execution_count": 331,
   "metadata": {},
   "outputs": [
    {
     "data": {
      "text/html": [
       "<div>\n",
       "<style scoped>\n",
       "    .dataframe tbody tr th:only-of-type {\n",
       "        vertical-align: middle;\n",
       "    }\n",
       "\n",
       "    .dataframe tbody tr th {\n",
       "        vertical-align: top;\n",
       "    }\n",
       "\n",
       "    .dataframe thead th {\n",
       "        text-align: right;\n",
       "    }\n",
       "</style>\n",
       "<table border=\"1\" class=\"dataframe\">\n",
       "  <thead>\n",
       "    <tr style=\"text-align: right;\">\n",
       "      <th></th>\n",
       "      <th>Year</th>\n",
       "      <th>Country</th>\n",
       "      <th>Population</th>\n",
       "      <th>Yearly % Change</th>\n",
       "      <th>Yearly Change</th>\n",
       "      <th>Migrants (net)</th>\n",
       "      <th>Median Age</th>\n",
       "      <th>Fertility Rate</th>\n",
       "      <th>Density (P/Km²)</th>\n",
       "      <th>Urban Pop %</th>\n",
       "      <th>Urban Population</th>\n",
       "      <th>Country's Share of World Pop %</th>\n",
       "      <th>World Population</th>\n",
       "      <th>Country Global Rank</th>\n",
       "    </tr>\n",
       "  </thead>\n",
       "  <tbody>\n",
       "    <tr>\n",
       "      <th>36</th>\n",
       "      <td>2020</td>\n",
       "      <td>United States</td>\n",
       "      <td>331002651</td>\n",
       "      <td>0.59</td>\n",
       "      <td>1937734</td>\n",
       "      <td>954806.0</td>\n",
       "      <td>38.3</td>\n",
       "      <td>1.78</td>\n",
       "      <td>36</td>\n",
       "      <td>82.8</td>\n",
       "      <td>273975139.0</td>\n",
       "      <td>4.25</td>\n",
       "      <td>7794798739</td>\n",
       "      <td>3</td>\n",
       "    </tr>\n",
       "    <tr>\n",
       "      <th>37</th>\n",
       "      <td>2019</td>\n",
       "      <td>United States</td>\n",
       "      <td>329064917</td>\n",
       "      <td>0.60</td>\n",
       "      <td>1968652</td>\n",
       "      <td>954806.0</td>\n",
       "      <td>37.7</td>\n",
       "      <td>1.85</td>\n",
       "      <td>36</td>\n",
       "      <td>82.5</td>\n",
       "      <td>271365914.0</td>\n",
       "      <td>4.27</td>\n",
       "      <td>7713468100</td>\n",
       "      <td>3</td>\n",
       "    </tr>\n",
       "    <tr>\n",
       "      <th>38</th>\n",
       "      <td>2018</td>\n",
       "      <td>United States</td>\n",
       "      <td>327096265</td>\n",
       "      <td>0.62</td>\n",
       "      <td>2011509</td>\n",
       "      <td>954806.0</td>\n",
       "      <td>37.7</td>\n",
       "      <td>1.85</td>\n",
       "      <td>36</td>\n",
       "      <td>82.2</td>\n",
       "      <td>268786714.0</td>\n",
       "      <td>4.29</td>\n",
       "      <td>7631091040</td>\n",
       "      <td>3</td>\n",
       "    </tr>\n",
       "    <tr>\n",
       "      <th>39</th>\n",
       "      <td>2017</td>\n",
       "      <td>United States</td>\n",
       "      <td>325084756</td>\n",
       "      <td>0.64</td>\n",
       "      <td>2068761</td>\n",
       "      <td>954806.0</td>\n",
       "      <td>37.7</td>\n",
       "      <td>1.85</td>\n",
       "      <td>36</td>\n",
       "      <td>81.9</td>\n",
       "      <td>266243516.0</td>\n",
       "      <td>4.31</td>\n",
       "      <td>7547858925</td>\n",
       "      <td>3</td>\n",
       "    </tr>\n",
       "    <tr>\n",
       "      <th>40</th>\n",
       "      <td>2016</td>\n",
       "      <td>United States</td>\n",
       "      <td>323015995</td>\n",
       "      <td>0.67</td>\n",
       "      <td>2137685</td>\n",
       "      <td>954806.0</td>\n",
       "      <td>37.7</td>\n",
       "      <td>1.85</td>\n",
       "      <td>35</td>\n",
       "      <td>81.7</td>\n",
       "      <td>263743312.0</td>\n",
       "      <td>4.33</td>\n",
       "      <td>7464022049</td>\n",
       "      <td>3</td>\n",
       "    </tr>\n",
       "    <tr>\n",
       "      <th>41</th>\n",
       "      <td>2015</td>\n",
       "      <td>United States</td>\n",
       "      <td>320878310</td>\n",
       "      <td>0.76</td>\n",
       "      <td>2373367</td>\n",
       "      <td>992343.0</td>\n",
       "      <td>37.6</td>\n",
       "      <td>1.88</td>\n",
       "      <td>35</td>\n",
       "      <td>81.4</td>\n",
       "      <td>261287811.0</td>\n",
       "      <td>4.35</td>\n",
       "      <td>7379797139</td>\n",
       "      <td>3</td>\n",
       "    </tr>\n",
       "    <tr>\n",
       "      <th>42</th>\n",
       "      <td>2010</td>\n",
       "      <td>United States</td>\n",
       "      <td>309011475</td>\n",
       "      <td>0.93</td>\n",
       "      <td>2803593</td>\n",
       "      <td>1085751.0</td>\n",
       "      <td>36.9</td>\n",
       "      <td>2.06</td>\n",
       "      <td>34</td>\n",
       "      <td>80.7</td>\n",
       "      <td>249297076.0</td>\n",
       "      <td>4.44</td>\n",
       "      <td>6956823603</td>\n",
       "      <td>3</td>\n",
       "    </tr>\n",
       "    <tr>\n",
       "      <th>43</th>\n",
       "      <td>2005</td>\n",
       "      <td>United States</td>\n",
       "      <td>294993511</td>\n",
       "      <td>0.93</td>\n",
       "      <td>2656520</td>\n",
       "      <td>1066979.0</td>\n",
       "      <td>36.1</td>\n",
       "      <td>2.04</td>\n",
       "      <td>32</td>\n",
       "      <td>80.0</td>\n",
       "      <td>235892407.0</td>\n",
       "      <td>4.51</td>\n",
       "      <td>6541907027</td>\n",
       "      <td>3</td>\n",
       "    </tr>\n",
       "    <tr>\n",
       "      <th>44</th>\n",
       "      <td>2000</td>\n",
       "      <td>United States</td>\n",
       "      <td>281710909</td>\n",
       "      <td>1.22</td>\n",
       "      <td>3309433</td>\n",
       "      <td>1771991.0</td>\n",
       "      <td>35.2</td>\n",
       "      <td>2.00</td>\n",
       "      <td>31</td>\n",
       "      <td>79.1</td>\n",
       "      <td>222927913.0</td>\n",
       "      <td>4.59</td>\n",
       "      <td>6143493823</td>\n",
       "      <td>3</td>\n",
       "    </tr>\n",
       "    <tr>\n",
       "      <th>45</th>\n",
       "      <td>1995</td>\n",
       "      <td>United States</td>\n",
       "      <td>265163745</td>\n",
       "      <td>1.01</td>\n",
       "      <td>2608687</td>\n",
       "      <td>892751.0</td>\n",
       "      <td>34.0</td>\n",
       "      <td>2.03</td>\n",
       "      <td>29</td>\n",
       "      <td>77.4</td>\n",
       "      <td>205240402.0</td>\n",
       "      <td>4.62</td>\n",
       "      <td>5744212979</td>\n",
       "      <td>3</td>\n",
       "    </tr>\n",
       "    <tr>\n",
       "      <th>46</th>\n",
       "      <td>1990</td>\n",
       "      <td>United States</td>\n",
       "      <td>252120309</td>\n",
       "      <td>0.95</td>\n",
       "      <td>2324097</td>\n",
       "      <td>673371.0</td>\n",
       "      <td>32.8</td>\n",
       "      <td>1.91</td>\n",
       "      <td>28</td>\n",
       "      <td>75.4</td>\n",
       "      <td>190156233.0</td>\n",
       "      <td>4.73</td>\n",
       "      <td>5327231061</td>\n",
       "      <td>3</td>\n",
       "    </tr>\n",
       "    <tr>\n",
       "      <th>47</th>\n",
       "      <td>1985</td>\n",
       "      <td>United States</td>\n",
       "      <td>240499825</td>\n",
       "      <td>0.94</td>\n",
       "      <td>2204694</td>\n",
       "      <td>676492.0</td>\n",
       "      <td>31.4</td>\n",
       "      <td>1.80</td>\n",
       "      <td>26</td>\n",
       "      <td>74.6</td>\n",
       "      <td>179400645.0</td>\n",
       "      <td>4.94</td>\n",
       "      <td>4870921740</td>\n",
       "      <td>3</td>\n",
       "    </tr>\n",
       "    <tr>\n",
       "      <th>48</th>\n",
       "      <td>1980</td>\n",
       "      <td>United States</td>\n",
       "      <td>229476354</td>\n",
       "      <td>0.93</td>\n",
       "      <td>2079021</td>\n",
       "      <td>754176.0</td>\n",
       "      <td>30.0</td>\n",
       "      <td>1.77</td>\n",
       "      <td>25</td>\n",
       "      <td>73.8</td>\n",
       "      <td>169422683.0</td>\n",
       "      <td>5.15</td>\n",
       "      <td>4458003514</td>\n",
       "      <td>3</td>\n",
       "    </tr>\n",
       "    <tr>\n",
       "      <th>49</th>\n",
       "      <td>1975</td>\n",
       "      <td>United States</td>\n",
       "      <td>219081251</td>\n",
       "      <td>0.90</td>\n",
       "      <td>1913582</td>\n",
       "      <td>577869.0</td>\n",
       "      <td>29.0</td>\n",
       "      <td>2.03</td>\n",
       "      <td>24</td>\n",
       "      <td>73.7</td>\n",
       "      <td>161450209.0</td>\n",
       "      <td>5.37</td>\n",
       "      <td>4079480606</td>\n",
       "      <td>3</td>\n",
       "    </tr>\n",
       "    <tr>\n",
       "      <th>50</th>\n",
       "      <td>1970</td>\n",
       "      <td>United States</td>\n",
       "      <td>209513341</td>\n",
       "      <td>0.96</td>\n",
       "      <td>1955933</td>\n",
       "      <td>311211.0</td>\n",
       "      <td>28.4</td>\n",
       "      <td>2.54</td>\n",
       "      <td>23</td>\n",
       "      <td>73.6</td>\n",
       "      <td>154262109.0</td>\n",
       "      <td>5.66</td>\n",
       "      <td>3700437046</td>\n",
       "      <td>3</td>\n",
       "    </tr>\n",
       "    <tr>\n",
       "      <th>51</th>\n",
       "      <td>1965</td>\n",
       "      <td>United States</td>\n",
       "      <td>199733676</td>\n",
       "      <td>1.36</td>\n",
       "      <td>2602621</td>\n",
       "      <td>367146.0</td>\n",
       "      <td>28.6</td>\n",
       "      <td>3.23</td>\n",
       "      <td>22</td>\n",
       "      <td>71.9</td>\n",
       "      <td>143624659.0</td>\n",
       "      <td>5.98</td>\n",
       "      <td>3339583597</td>\n",
       "      <td>3</td>\n",
       "    </tr>\n",
       "    <tr>\n",
       "      <th>52</th>\n",
       "      <td>1960</td>\n",
       "      <td>United States</td>\n",
       "      <td>186720571</td>\n",
       "      <td>1.69</td>\n",
       "      <td>3007047</td>\n",
       "      <td>424979.0</td>\n",
       "      <td>29.7</td>\n",
       "      <td>3.58</td>\n",
       "      <td>20</td>\n",
       "      <td>70.0</td>\n",
       "      <td>130757407.0</td>\n",
       "      <td>6.15</td>\n",
       "      <td>3034949748</td>\n",
       "      <td>3</td>\n",
       "    </tr>\n",
       "    <tr>\n",
       "      <th>53</th>\n",
       "      <td>1955</td>\n",
       "      <td>United States</td>\n",
       "      <td>171685336</td>\n",
       "      <td>1.57</td>\n",
       "      <td>2576188</td>\n",
       "      <td>173553.0</td>\n",
       "      <td>30.3</td>\n",
       "      <td>3.31</td>\n",
       "      <td>19</td>\n",
       "      <td>67.2</td>\n",
       "      <td>115375863.0</td>\n",
       "      <td>6.19</td>\n",
       "      <td>2773019936</td>\n",
       "      <td>3</td>\n",
       "    </tr>\n",
       "  </tbody>\n",
       "</table>\n",
       "</div>"
      ],
      "text/plain": [
       "    Year        Country  Population  Yearly % Change  Yearly Change  \\\n",
       "36  2020  United States   331002651             0.59        1937734   \n",
       "37  2019  United States   329064917             0.60        1968652   \n",
       "38  2018  United States   327096265             0.62        2011509   \n",
       "39  2017  United States   325084756             0.64        2068761   \n",
       "40  2016  United States   323015995             0.67        2137685   \n",
       "41  2015  United States   320878310             0.76        2373367   \n",
       "42  2010  United States   309011475             0.93        2803593   \n",
       "43  2005  United States   294993511             0.93        2656520   \n",
       "44  2000  United States   281710909             1.22        3309433   \n",
       "45  1995  United States   265163745             1.01        2608687   \n",
       "46  1990  United States   252120309             0.95        2324097   \n",
       "47  1985  United States   240499825             0.94        2204694   \n",
       "48  1980  United States   229476354             0.93        2079021   \n",
       "49  1975  United States   219081251             0.90        1913582   \n",
       "50  1970  United States   209513341             0.96        1955933   \n",
       "51  1965  United States   199733676             1.36        2602621   \n",
       "52  1960  United States   186720571             1.69        3007047   \n",
       "53  1955  United States   171685336             1.57        2576188   \n",
       "\n",
       "    Migrants (net)  Median Age  Fertility Rate Density (P/Km²)  Urban Pop %  \\\n",
       "36        954806.0        38.3            1.78              36         82.8   \n",
       "37        954806.0        37.7            1.85              36         82.5   \n",
       "38        954806.0        37.7            1.85              36         82.2   \n",
       "39        954806.0        37.7            1.85              36         81.9   \n",
       "40        954806.0        37.7            1.85              35         81.7   \n",
       "41        992343.0        37.6            1.88              35         81.4   \n",
       "42       1085751.0        36.9            2.06              34         80.7   \n",
       "43       1066979.0        36.1            2.04              32         80.0   \n",
       "44       1771991.0        35.2            2.00              31         79.1   \n",
       "45        892751.0        34.0            2.03              29         77.4   \n",
       "46        673371.0        32.8            1.91              28         75.4   \n",
       "47        676492.0        31.4            1.80              26         74.6   \n",
       "48        754176.0        30.0            1.77              25         73.8   \n",
       "49        577869.0        29.0            2.03              24         73.7   \n",
       "50        311211.0        28.4            2.54              23         73.6   \n",
       "51        367146.0        28.6            3.23              22         71.9   \n",
       "52        424979.0        29.7            3.58              20         70.0   \n",
       "53        173553.0        30.3            3.31              19         67.2   \n",
       "\n",
       "    Urban Population  Country's Share of World Pop %  World Population  \\\n",
       "36       273975139.0                            4.25        7794798739   \n",
       "37       271365914.0                            4.27        7713468100   \n",
       "38       268786714.0                            4.29        7631091040   \n",
       "39       266243516.0                            4.31        7547858925   \n",
       "40       263743312.0                            4.33        7464022049   \n",
       "41       261287811.0                            4.35        7379797139   \n",
       "42       249297076.0                            4.44        6956823603   \n",
       "43       235892407.0                            4.51        6541907027   \n",
       "44       222927913.0                            4.59        6143493823   \n",
       "45       205240402.0                            4.62        5744212979   \n",
       "46       190156233.0                            4.73        5327231061   \n",
       "47       179400645.0                            4.94        4870921740   \n",
       "48       169422683.0                            5.15        4458003514   \n",
       "49       161450209.0                            5.37        4079480606   \n",
       "50       154262109.0                            5.66        3700437046   \n",
       "51       143624659.0                            5.98        3339583597   \n",
       "52       130757407.0                            6.15        3034949748   \n",
       "53       115375863.0                            6.19        2773019936   \n",
       "\n",
       "    Country Global Rank  \n",
       "36                    3  \n",
       "37                    3  \n",
       "38                    3  \n",
       "39                    3  \n",
       "40                    3  \n",
       "41                    3  \n",
       "42                    3  \n",
       "43                    3  \n",
       "44                    3  \n",
       "45                    3  \n",
       "46                    3  \n",
       "47                    3  \n",
       "48                    3  \n",
       "49                    3  \n",
       "50                    3  \n",
       "51                    3  \n",
       "52                    3  \n",
       "53                    3  "
      ]
     },
     "execution_count": 331,
     "metadata": {},
     "output_type": "execute_result"
    }
   ],
   "source": [
    "usa_populaiton"
   ]
  },
  {
   "cell_type": "markdown",
   "metadata": {},
   "source": [
    "# Visualising the USA Data from 1955 to 2020"
   ]
  },
  {
   "cell_type": "code",
   "execution_count": 332,
   "metadata": {},
   "outputs": [
    {
     "data": {
      "image/png": "[encoded data removed]",
      "text/plain": [
       "<Figure size 720x360 with 1 Axes>"
      ]
     },
     "metadata": {
      "needs_background": "light"
     },
     "output_type": "display_data"
    }
   ],
   "source": [
    "fig = plt.figure(figsize=(10,5))\n",
    "plt.plot(usa_populaiton['Year'], usa_populaiton['Yearly Change'])\n",
    "plt.title('Yearly Population Change in USA')\n",
    "plt.xlabel('Year')\n",
    "plt.ylabel('Population in 1 Million')\n",
    "plt.show()"
   ]
  },
  {
   "cell_type": "markdown",
   "metadata": {},
   "source": [
    "# The Aanalyzation of the maximum population data with respect to USA population"
   ]
  },
  {
   "cell_type": "code",
   "execution_count": 333,
   "metadata": {},
   "outputs": [
    {
     "data": {
      "text/html": [
       "<div>\n",
       "<style scoped>\n",
       "    .dataframe tbody tr th:only-of-type {\n",
       "        vertical-align: middle;\n",
       "    }\n",
       "\n",
       "    .dataframe tbody tr th {\n",
       "        vertical-align: top;\n",
       "    }\n",
       "\n",
       "    .dataframe thead th {\n",
       "        text-align: right;\n",
       "    }\n",
       "</style>\n",
       "<table border=\"1\" class=\"dataframe\">\n",
       "  <thead>\n",
       "    <tr style=\"text-align: right;\">\n",
       "      <th></th>\n",
       "      <th>Year</th>\n",
       "      <th>Population</th>\n",
       "      <th>Yearly % Change</th>\n",
       "      <th>Yearly Change</th>\n",
       "    </tr>\n",
       "  </thead>\n",
       "  <tbody>\n",
       "    <tr>\n",
       "      <th>44</th>\n",
       "      <td>2000</td>\n",
       "      <td>281710909</td>\n",
       "      <td>1.22</td>\n",
       "      <td>3309433</td>\n",
       "    </tr>\n",
       "  </tbody>\n",
       "</table>\n",
       "</div>"
      ],
      "text/plain": [
       "    Year  Population  Yearly % Change  Yearly Change\n",
       "44  2000   281710909             1.22        3309433"
      ]
     },
     "execution_count": 333,
     "metadata": {},
     "output_type": "execute_result"
    }
   ],
   "source": [
    "usa_populaiton[usa_populaiton['Yearly Change']==usa_populaiton['Yearly Change'].max()][['Year', 'Population', 'Yearly % Change',\n",
    "                                                                                             'Yearly Change']]"
   ]
  },
  {
   "cell_type": "markdown",
   "metadata": {},
   "source": [
    "# The Aanalyzation of the minimum population data with respect to USA population"
   ]
  },
  {
   "cell_type": "code",
   "execution_count": 334,
   "metadata": {},
   "outputs": [
    {
     "data": {
      "text/html": [
       "<div>\n",
       "<style scoped>\n",
       "    .dataframe tbody tr th:only-of-type {\n",
       "        vertical-align: middle;\n",
       "    }\n",
       "\n",
       "    .dataframe tbody tr th {\n",
       "        vertical-align: top;\n",
       "    }\n",
       "\n",
       "    .dataframe thead th {\n",
       "        text-align: right;\n",
       "    }\n",
       "</style>\n",
       "<table border=\"1\" class=\"dataframe\">\n",
       "  <thead>\n",
       "    <tr style=\"text-align: right;\">\n",
       "      <th></th>\n",
       "      <th>Year</th>\n",
       "      <th>Population</th>\n",
       "      <th>Yearly % Change</th>\n",
       "      <th>Yearly Change</th>\n",
       "    </tr>\n",
       "  </thead>\n",
       "  <tbody>\n",
       "    <tr>\n",
       "      <th>49</th>\n",
       "      <td>1975</td>\n",
       "      <td>219081251</td>\n",
       "      <td>0.9</td>\n",
       "      <td>1913582</td>\n",
       "    </tr>\n",
       "  </tbody>\n",
       "</table>\n",
       "</div>"
      ],
      "text/plain": [
       "    Year  Population  Yearly % Change  Yearly Change\n",
       "49  1975   219081251              0.9        1913582"
      ]
     },
     "execution_count": 334,
     "metadata": {},
     "output_type": "execute_result"
    }
   ],
   "source": [
    "usa_populaiton[usa_populaiton['Yearly Change']==usa_populaiton['Yearly Change'].min()][['Year', 'Population', 'Yearly % Change',\n",
    "                                                                                             'Yearly Change']]"
   ]
  },
  {
   "cell_type": "code",
   "execution_count": 335,
   "metadata": {},
   "outputs": [],
   "source": [
    "population_top5_2020 = population[population['Year'] == 2020][:5]\n",
    "top_5_countries = population_top5_2020['Country'].unique()"
   ]
  },
  {
   "cell_type": "markdown",
   "metadata": {},
   "source": [
    "# The Aanalyzation of the top 5 populated country data with respect to Worlds population"
   ]
  },
  {
   "cell_type": "code",
   "execution_count": 336,
   "metadata": {},
   "outputs": [
    {
     "data": {
      "text/html": [
       "<div>\n",
       "<style scoped>\n",
       "    .dataframe tbody tr th:only-of-type {\n",
       "        vertical-align: middle;\n",
       "    }\n",
       "\n",
       "    .dataframe tbody tr th {\n",
       "        vertical-align: top;\n",
       "    }\n",
       "\n",
       "    .dataframe thead th {\n",
       "        text-align: right;\n",
       "    }\n",
       "</style>\n",
       "<table border=\"1\" class=\"dataframe\">\n",
       "  <thead>\n",
       "    <tr style=\"text-align: right;\">\n",
       "      <th></th>\n",
       "      <th>Year</th>\n",
       "      <th>Country</th>\n",
       "      <th>Population</th>\n",
       "      <th>Yearly % Change</th>\n",
       "      <th>Yearly Change</th>\n",
       "      <th>Migrants (net)</th>\n",
       "      <th>Median Age</th>\n",
       "      <th>Fertility Rate</th>\n",
       "      <th>Density (P/Km²)</th>\n",
       "      <th>Urban Pop %</th>\n",
       "      <th>Urban Population</th>\n",
       "      <th>Country's Share of World Pop %</th>\n",
       "      <th>World Population</th>\n",
       "      <th>Country Global Rank</th>\n",
       "    </tr>\n",
       "  </thead>\n",
       "  <tbody>\n",
       "    <tr>\n",
       "      <th>0</th>\n",
       "      <td>2020</td>\n",
       "      <td>China</td>\n",
       "      <td>1439323776</td>\n",
       "      <td>0.39</td>\n",
       "      <td>5540090</td>\n",
       "      <td>-348399.0</td>\n",
       "      <td>38.4</td>\n",
       "      <td>1.69</td>\n",
       "      <td>153</td>\n",
       "      <td>60.8</td>\n",
       "      <td>875075919.0</td>\n",
       "      <td>18.47</td>\n",
       "      <td>7794798739</td>\n",
       "      <td>1</td>\n",
       "    </tr>\n",
       "    <tr>\n",
       "      <th>18</th>\n",
       "      <td>2020</td>\n",
       "      <td>India</td>\n",
       "      <td>1380004385</td>\n",
       "      <td>0.99</td>\n",
       "      <td>13586631</td>\n",
       "      <td>-532687.0</td>\n",
       "      <td>28.4</td>\n",
       "      <td>2.24</td>\n",
       "      <td>464</td>\n",
       "      <td>35.0</td>\n",
       "      <td>483098640.0</td>\n",
       "      <td>17.70</td>\n",
       "      <td>7794798739</td>\n",
       "      <td>2</td>\n",
       "    </tr>\n",
       "    <tr>\n",
       "      <th>36</th>\n",
       "      <td>2020</td>\n",
       "      <td>United States</td>\n",
       "      <td>331002651</td>\n",
       "      <td>0.59</td>\n",
       "      <td>1937734</td>\n",
       "      <td>954806.0</td>\n",
       "      <td>38.3</td>\n",
       "      <td>1.78</td>\n",
       "      <td>36</td>\n",
       "      <td>82.8</td>\n",
       "      <td>273975139.0</td>\n",
       "      <td>4.25</td>\n",
       "      <td>7794798739</td>\n",
       "      <td>3</td>\n",
       "    </tr>\n",
       "    <tr>\n",
       "      <th>54</th>\n",
       "      <td>2020</td>\n",
       "      <td>Indonesia</td>\n",
       "      <td>273523615</td>\n",
       "      <td>1.07</td>\n",
       "      <td>2898047</td>\n",
       "      <td>-98955.0</td>\n",
       "      <td>29.7</td>\n",
       "      <td>2.32</td>\n",
       "      <td>151</td>\n",
       "      <td>56.4</td>\n",
       "      <td>154188546.0</td>\n",
       "      <td>3.51</td>\n",
       "      <td>7794798739</td>\n",
       "      <td>4</td>\n",
       "    </tr>\n",
       "    <tr>\n",
       "      <th>72</th>\n",
       "      <td>2020</td>\n",
       "      <td>Pakistan</td>\n",
       "      <td>220892340</td>\n",
       "      <td>2.00</td>\n",
       "      <td>4327022</td>\n",
       "      <td>-233379.0</td>\n",
       "      <td>22.8</td>\n",
       "      <td>3.55</td>\n",
       "      <td>287</td>\n",
       "      <td>35.1</td>\n",
       "      <td>77437729.0</td>\n",
       "      <td>2.83</td>\n",
       "      <td>7794798739</td>\n",
       "      <td>5</td>\n",
       "    </tr>\n",
       "  </tbody>\n",
       "</table>\n",
       "</div>"
      ],
      "text/plain": [
       "    Year        Country  Population  Yearly % Change  Yearly Change  \\\n",
       "0   2020          China  1439323776             0.39        5540090   \n",
       "18  2020          India  1380004385             0.99       13586631   \n",
       "36  2020  United States   331002651             0.59        1937734   \n",
       "54  2020      Indonesia   273523615             1.07        2898047   \n",
       "72  2020       Pakistan   220892340             2.00        4327022   \n",
       "\n",
       "    Migrants (net)  Median Age  Fertility Rate Density (P/Km²)  Urban Pop %  \\\n",
       "0        -348399.0        38.4            1.69             153         60.8   \n",
       "18       -532687.0        28.4            2.24             464         35.0   \n",
       "36        954806.0        38.3            1.78              36         82.8   \n",
       "54        -98955.0        29.7            2.32             151         56.4   \n",
       "72       -233379.0        22.8            3.55             287         35.1   \n",
       "\n",
       "    Urban Population  Country's Share of World Pop %  World Population  \\\n",
       "0        875075919.0                           18.47        7794798739   \n",
       "18       483098640.0                           17.70        7794798739   \n",
       "36       273975139.0                            4.25        7794798739   \n",
       "54       154188546.0                            3.51        7794798739   \n",
       "72        77437729.0                            2.83        7794798739   \n",
       "\n",
       "    Country Global Rank  \n",
       "0                     1  \n",
       "18                    2  \n",
       "36                    3  \n",
       "54                    4  \n",
       "72                    5  "
      ]
     },
     "execution_count": 336,
     "metadata": {},
     "output_type": "execute_result"
    }
   ],
   "source": [
    "population_top5_2020"
   ]
  },
  {
   "cell_type": "code",
   "execution_count": 337,
   "metadata": {},
   "outputs": [
    {
     "data": {
      "text/plain": [
       "array(['China', 'India', 'United States', 'Indonesia', 'Pakistan'],\n",
       "      dtype=object)"
      ]
     },
     "execution_count": 337,
     "metadata": {},
     "output_type": "execute_result"
    }
   ],
   "source": [
    "top_5_countries"
   ]
  },
  {
   "cell_type": "markdown",
   "metadata": {},
   "source": [
    "# The Visualisation of the top 5 populated country data with respect to Worlds population"
   ]
  },
  {
   "cell_type": "code",
   "execution_count": 338,
   "metadata": {},
   "outputs": [
    {
     "data": {
      "text/html": [
       "<style  type=\"text/css\" >\n",
       "#T_b89a689d_b696_11eb_860e_b068e6db7bb0row0_col0,#T_b89a689d_b696_11eb_860e_b068e6db7bb0row0_col1,#T_b89a689d_b696_11eb_860e_b068e6db7bb0row0_col2,#T_b89a689d_b696_11eb_860e_b068e6db7bb0row0_col3,#T_b89a689d_b696_11eb_860e_b068e6db7bb0row0_col4{\n",
       "            background-color:  #fff7fb;\n",
       "            color:  #000000;\n",
       "        }#T_b89a689d_b696_11eb_860e_b068e6db7bb0row1_col0,#T_b89a689d_b696_11eb_860e_b068e6db7bb0row1_col2,#T_b89a689d_b696_11eb_860e_b068e6db7bb0row2_col3{\n",
       "            background-color:  #f7f0f7;\n",
       "            color:  #000000;\n",
       "        }#T_b89a689d_b696_11eb_860e_b068e6db7bb0row1_col1{\n",
       "            background-color:  #f9f2f8;\n",
       "            color:  #000000;\n",
       "        }#T_b89a689d_b696_11eb_860e_b068e6db7bb0row1_col3{\n",
       "            background-color:  #fbf4f9;\n",
       "            color:  #000000;\n",
       "        }#T_b89a689d_b696_11eb_860e_b068e6db7bb0row1_col4{\n",
       "            background-color:  #f1ebf4;\n",
       "            color:  #000000;\n",
       "        }#T_b89a689d_b696_11eb_860e_b068e6db7bb0row2_col0{\n",
       "            background-color:  #eae6f1;\n",
       "            color:  #000000;\n",
       "        }#T_b89a689d_b696_11eb_860e_b068e6db7bb0row2_col1{\n",
       "            background-color:  #f1ebf5;\n",
       "            color:  #000000;\n",
       "        }#T_b89a689d_b696_11eb_860e_b068e6db7bb0row2_col2{\n",
       "            background-color:  #eee8f3;\n",
       "            color:  #000000;\n",
       "        }#T_b89a689d_b696_11eb_860e_b068e6db7bb0row2_col4{\n",
       "            background-color:  #e0deed;\n",
       "            color:  #000000;\n",
       "        }#T_b89a689d_b696_11eb_860e_b068e6db7bb0row3_col0{\n",
       "            background-color:  #cdd0e5;\n",
       "            color:  #000000;\n",
       "        }#T_b89a689d_b696_11eb_860e_b068e6db7bb0row3_col1,#T_b89a689d_b696_11eb_860e_b068e6db7bb0row4_col3{\n",
       "            background-color:  #e7e3f0;\n",
       "            color:  #000000;\n",
       "        }#T_b89a689d_b696_11eb_860e_b068e6db7bb0row3_col2{\n",
       "            background-color:  #dedcec;\n",
       "            color:  #000000;\n",
       "        }#T_b89a689d_b696_11eb_860e_b068e6db7bb0row3_col3{\n",
       "            background-color:  #f0eaf4;\n",
       "            color:  #000000;\n",
       "        }#T_b89a689d_b696_11eb_860e_b068e6db7bb0row3_col4{\n",
       "            background-color:  #d3d4e7;\n",
       "            color:  #000000;\n",
       "        }#T_b89a689d_b696_11eb_860e_b068e6db7bb0row4_col0{\n",
       "            background-color:  #a4bcda;\n",
       "            color:  #000000;\n",
       "        }#T_b89a689d_b696_11eb_860e_b068e6db7bb0row4_col1{\n",
       "            background-color:  #d7d6e9;\n",
       "            color:  #000000;\n",
       "        }#T_b89a689d_b696_11eb_860e_b068e6db7bb0row4_col2{\n",
       "            background-color:  #c9cee4;\n",
       "            color:  #000000;\n",
       "        }#T_b89a689d_b696_11eb_860e_b068e6db7bb0row4_col4,#T_b89a689d_b696_11eb_860e_b068e6db7bb0row5_col1{\n",
       "            background-color:  #c0c9e2;\n",
       "            color:  #000000;\n",
       "        }#T_b89a689d_b696_11eb_860e_b068e6db7bb0row5_col0{\n",
       "            background-color:  #80aed2;\n",
       "            color:  #000000;\n",
       "        }#T_b89a689d_b696_11eb_860e_b068e6db7bb0row5_col2{\n",
       "            background-color:  #acc0dd;\n",
       "            color:  #000000;\n",
       "        }#T_b89a689d_b696_11eb_860e_b068e6db7bb0row5_col3{\n",
       "            background-color:  #d9d8ea;\n",
       "            color:  #000000;\n",
       "        }#T_b89a689d_b696_11eb_860e_b068e6db7bb0row5_col4{\n",
       "            background-color:  #abbfdc;\n",
       "            color:  #000000;\n",
       "        }#T_b89a689d_b696_11eb_860e_b068e6db7bb0row6_col0{\n",
       "            background-color:  #569dc8;\n",
       "            color:  #000000;\n",
       "        }#T_b89a689d_b696_11eb_860e_b068e6db7bb0row6_col1{\n",
       "            background-color:  #a2bcda;\n",
       "            color:  #000000;\n",
       "        }#T_b89a689d_b696_11eb_860e_b068e6db7bb0row6_col2{\n",
       "            background-color:  #89b1d4;\n",
       "            color:  #000000;\n",
       "        }#T_b89a689d_b696_11eb_860e_b068e6db7bb0row6_col3{\n",
       "            background-color:  #c4cbe3;\n",
       "            color:  #000000;\n",
       "        }#T_b89a689d_b696_11eb_860e_b068e6db7bb0row6_col4{\n",
       "            background-color:  #8fb4d6;\n",
       "            color:  #000000;\n",
       "        }#T_b89a689d_b696_11eb_860e_b068e6db7bb0row7_col0{\n",
       "            background-color:  #2081b9;\n",
       "            color:  #000000;\n",
       "        }#T_b89a689d_b696_11eb_860e_b068e6db7bb0row7_col1{\n",
       "            background-color:  #7dacd1;\n",
       "            color:  #000000;\n",
       "        }#T_b89a689d_b696_11eb_860e_b068e6db7bb0row7_col2{\n",
       "            background-color:  #65a3cb;\n",
       "            color:  #000000;\n",
       "        }#T_b89a689d_b696_11eb_860e_b068e6db7bb0row7_col3{\n",
       "            background-color:  #a7bddb;\n",
       "            color:  #000000;\n",
       "        }#T_b89a689d_b696_11eb_860e_b068e6db7bb0row7_col4{\n",
       "            background-color:  #71a8ce;\n",
       "            color:  #000000;\n",
       "        }#T_b89a689d_b696_11eb_860e_b068e6db7bb0row8_col0,#T_b89a689d_b696_11eb_860e_b068e6db7bb0row10_col1,#T_b89a689d_b696_11eb_860e_b068e6db7bb0row10_col2{\n",
       "            background-color:  #056ead;\n",
       "            color:  #f1f1f1;\n",
       "        }#T_b89a689d_b696_11eb_860e_b068e6db7bb0row8_col1{\n",
       "            background-color:  #509ac6;\n",
       "            color:  #000000;\n",
       "        }#T_b89a689d_b696_11eb_860e_b068e6db7bb0row8_col2{\n",
       "            background-color:  #3d93c2;\n",
       "            color:  #000000;\n",
       "        }#T_b89a689d_b696_11eb_860e_b068e6db7bb0row8_col3{\n",
       "            background-color:  #83afd3;\n",
       "            color:  #000000;\n",
       "        }#T_b89a689d_b696_11eb_860e_b068e6db7bb0row8_col4{\n",
       "            background-color:  #4897c4;\n",
       "            color:  #000000;\n",
       "        }#T_b89a689d_b696_11eb_860e_b068e6db7bb0row9_col0{\n",
       "            background-color:  #04649d;\n",
       "            color:  #f1f1f1;\n",
       "        }#T_b89a689d_b696_11eb_860e_b068e6db7bb0row9_col1,#T_b89a689d_b696_11eb_860e_b068e6db7bb0row10_col3{\n",
       "            background-color:  #2685bb;\n",
       "            color:  #000000;\n",
       "        }#T_b89a689d_b696_11eb_860e_b068e6db7bb0row9_col2{\n",
       "            background-color:  #1e80b8;\n",
       "            color:  #000000;\n",
       "        }#T_b89a689d_b696_11eb_860e_b068e6db7bb0row9_col3{\n",
       "            background-color:  #549cc7;\n",
       "            color:  #000000;\n",
       "        }#T_b89a689d_b696_11eb_860e_b068e6db7bb0row9_col4{\n",
       "            background-color:  #1c7fb8;\n",
       "            color:  #000000;\n",
       "        }#T_b89a689d_b696_11eb_860e_b068e6db7bb0row10_col0{\n",
       "            background-color:  #045b8e;\n",
       "            color:  #f1f1f1;\n",
       "        }#T_b89a689d_b696_11eb_860e_b068e6db7bb0row10_col4{\n",
       "            background-color:  #056ba9;\n",
       "            color:  #f1f1f1;\n",
       "        }#T_b89a689d_b696_11eb_860e_b068e6db7bb0row11_col0{\n",
       "            background-color:  #034e7b;\n",
       "            color:  #f1f1f1;\n",
       "        }#T_b89a689d_b696_11eb_860e_b068e6db7bb0row11_col1{\n",
       "            background-color:  #045e94;\n",
       "            color:  #f1f1f1;\n",
       "        }#T_b89a689d_b696_11eb_860e_b068e6db7bb0row11_col2{\n",
       "            background-color:  #046097;\n",
       "            color:  #f1f1f1;\n",
       "        }#T_b89a689d_b696_11eb_860e_b068e6db7bb0row11_col3{\n",
       "            background-color:  #056caa;\n",
       "            color:  #f1f1f1;\n",
       "        }#T_b89a689d_b696_11eb_860e_b068e6db7bb0row11_col4{\n",
       "            background-color:  #045c90;\n",
       "            color:  #f1f1f1;\n",
       "        }#T_b89a689d_b696_11eb_860e_b068e6db7bb0row12_col0,#T_b89a689d_b696_11eb_860e_b068e6db7bb0row14_col1{\n",
       "            background-color:  #034369;\n",
       "            color:  #f1f1f1;\n",
       "        }#T_b89a689d_b696_11eb_860e_b068e6db7bb0row12_col1,#T_b89a689d_b696_11eb_860e_b068e6db7bb0row14_col3{\n",
       "            background-color:  #034b76;\n",
       "            color:  #f1f1f1;\n",
       "        }#T_b89a689d_b696_11eb_860e_b068e6db7bb0row12_col2{\n",
       "            background-color:  #034c78;\n",
       "            color:  #f1f1f1;\n",
       "        }#T_b89a689d_b696_11eb_860e_b068e6db7bb0row12_col3{\n",
       "            background-color:  #04588a;\n",
       "            color:  #f1f1f1;\n",
       "        }#T_b89a689d_b696_11eb_860e_b068e6db7bb0row12_col4{\n",
       "            background-color:  #034973;\n",
       "            color:  #f1f1f1;\n",
       "        }#T_b89a689d_b696_11eb_860e_b068e6db7bb0row13_col0,#T_b89a689d_b696_11eb_860e_b068e6db7bb0row15_col1,#T_b89a689d_b696_11eb_860e_b068e6db7bb0row15_col2{\n",
       "            background-color:  #023f64;\n",
       "            color:  #f1f1f1;\n",
       "        }#T_b89a689d_b696_11eb_860e_b068e6db7bb0row13_col1{\n",
       "            background-color:  #03476f;\n",
       "            color:  #f1f1f1;\n",
       "        }#T_b89a689d_b696_11eb_860e_b068e6db7bb0row13_col2{\n",
       "            background-color:  #034871;\n",
       "            color:  #f1f1f1;\n",
       "        }#T_b89a689d_b696_11eb_860e_b068e6db7bb0row13_col3{\n",
       "            background-color:  #045280;\n",
       "            color:  #f1f1f1;\n",
       "        }#T_b89a689d_b696_11eb_860e_b068e6db7bb0row13_col4,#T_b89a689d_b696_11eb_860e_b068e6db7bb0row15_col3{\n",
       "            background-color:  #03456c;\n",
       "            color:  #f1f1f1;\n",
       "        }#T_b89a689d_b696_11eb_860e_b068e6db7bb0row14_col0{\n",
       "            background-color:  #023d60;\n",
       "            color:  #f1f1f1;\n",
       "        }#T_b89a689d_b696_11eb_860e_b068e6db7bb0row14_col2{\n",
       "            background-color:  #03446a;\n",
       "            color:  #f1f1f1;\n",
       "        }#T_b89a689d_b696_11eb_860e_b068e6db7bb0row14_col4{\n",
       "            background-color:  #034267;\n",
       "            color:  #f1f1f1;\n",
       "        }#T_b89a689d_b696_11eb_860e_b068e6db7bb0row15_col0,#T_b89a689d_b696_11eb_860e_b068e6db7bb0row16_col1,#T_b89a689d_b696_11eb_860e_b068e6db7bb0row16_col2,#T_b89a689d_b696_11eb_860e_b068e6db7bb0row16_col4{\n",
       "            background-color:  #023b5d;\n",
       "            color:  #f1f1f1;\n",
       "        }#T_b89a689d_b696_11eb_860e_b068e6db7bb0row15_col4,#T_b89a689d_b696_11eb_860e_b068e6db7bb0row16_col3{\n",
       "            background-color:  #023e62;\n",
       "            color:  #f1f1f1;\n",
       "        }#T_b89a689d_b696_11eb_860e_b068e6db7bb0row16_col0{\n",
       "            background-color:  #02395a;\n",
       "            color:  #f1f1f1;\n",
       "        }#T_b89a689d_b696_11eb_860e_b068e6db7bb0row17_col0,#T_b89a689d_b696_11eb_860e_b068e6db7bb0row17_col1,#T_b89a689d_b696_11eb_860e_b068e6db7bb0row17_col2,#T_b89a689d_b696_11eb_860e_b068e6db7bb0row17_col3,#T_b89a689d_b696_11eb_860e_b068e6db7bb0row17_col4{\n",
       "            background-color:  #023858;\n",
       "            color:  #f1f1f1;\n",
       "        }</style><table id=\"T_b89a689d_b696_11eb_860e_b068e6db7bb0\" ><thead>    <tr>        <th class=\"index_name level0\" >Country</th>        <th class=\"col_heading level0 col0\" >China</th>        <th class=\"col_heading level0 col1\" >India</th>        <th class=\"col_heading level0 col2\" >Indonesia</th>        <th class=\"col_heading level0 col3\" >Pakistan</th>        <th class=\"col_heading level0 col4\" >United States</th>    </tr>    <tr>        <th class=\"index_name level0\" >Year</th>        <th class=\"blank\" ></th>        <th class=\"blank\" ></th>        <th class=\"blank\" ></th>        <th class=\"blank\" ></th>        <th class=\"blank\" ></th>    </tr></thead><tbody>\n",
       "                <tr>\n",
       "                        <th id=\"T_b89a689d_b696_11eb_860e_b068e6db7bb0level0_row0\" class=\"row_heading level0 row0\" >1955</th>\n",
       "                        <td id=\"T_b89a689d_b696_11eb_860e_b068e6db7bb0row0_col0\" class=\"data row0 col0\" >612241554</td>\n",
       "                        <td id=\"T_b89a689d_b696_11eb_860e_b068e6db7bb0row0_col1\" class=\"data row0 col1\" >409880595</td>\n",
       "                        <td id=\"T_b89a689d_b696_11eb_860e_b068e6db7bb0row0_col2\" class=\"data row0 col2\" >77273425</td>\n",
       "                        <td id=\"T_b89a689d_b696_11eb_860e_b068e6db7bb0row0_col3\" class=\"data row0 col3\" >40488030</td>\n",
       "                        <td id=\"T_b89a689d_b696_11eb_860e_b068e6db7bb0row0_col4\" class=\"data row0 col4\" >171685336</td>\n",
       "            </tr>\n",
       "            <tr>\n",
       "                        <th id=\"T_b89a689d_b696_11eb_860e_b068e6db7bb0level0_row1\" class=\"row_heading level0 row1\" >1960</th>\n",
       "                        <td id=\"T_b89a689d_b696_11eb_860e_b068e6db7bb0row1_col0\" class=\"data row1 col0\" >660408056</td>\n",
       "                        <td id=\"T_b89a689d_b696_11eb_860e_b068e6db7bb0row1_col1\" class=\"data row1 col1\" >450547679</td>\n",
       "                        <td id=\"T_b89a689d_b696_11eb_860e_b068e6db7bb0row1_col2\" class=\"data row1 col2\" >87751068</td>\n",
       "                        <td id=\"T_b89a689d_b696_11eb_860e_b068e6db7bb0row1_col3\" class=\"data row1 col3\" >44988690</td>\n",
       "                        <td id=\"T_b89a689d_b696_11eb_860e_b068e6db7bb0row1_col4\" class=\"data row1 col4\" >186720571</td>\n",
       "            </tr>\n",
       "            <tr>\n",
       "                        <th id=\"T_b89a689d_b696_11eb_860e_b068e6db7bb0level0_row2\" class=\"row_heading level0 row2\" >1965</th>\n",
       "                        <td id=\"T_b89a689d_b696_11eb_860e_b068e6db7bb0row2_col0\" class=\"data row2 col0\" >724218968</td>\n",
       "                        <td id=\"T_b89a689d_b696_11eb_860e_b068e6db7bb0row2_col1\" class=\"data row2 col1\" >499123324</td>\n",
       "                        <td id=\"T_b89a689d_b696_11eb_860e_b068e6db7bb0row2_col2\" class=\"data row2 col2\" >100267062</td>\n",
       "                        <td id=\"T_b89a689d_b696_11eb_860e_b068e6db7bb0row2_col3\" class=\"data row2 col3\" >50917975</td>\n",
       "                        <td id=\"T_b89a689d_b696_11eb_860e_b068e6db7bb0row2_col4\" class=\"data row2 col4\" >199733676</td>\n",
       "            </tr>\n",
       "            <tr>\n",
       "                        <th id=\"T_b89a689d_b696_11eb_860e_b068e6db7bb0level0_row3\" class=\"row_heading level0 row3\" >1970</th>\n",
       "                        <td id=\"T_b89a689d_b696_11eb_860e_b068e6db7bb0row3_col0\" class=\"data row3 col0\" >827601394</td>\n",
       "                        <td id=\"T_b89a689d_b696_11eb_860e_b068e6db7bb0row3_col1\" class=\"data row3 col1\" >555189792</td>\n",
       "                        <td id=\"T_b89a689d_b696_11eb_860e_b068e6db7bb0row3_col2\" class=\"data row3 col2\" >114793178</td>\n",
       "                        <td id=\"T_b89a689d_b696_11eb_860e_b068e6db7bb0row3_col3\" class=\"data row3 col3\" >58142060</td>\n",
       "                        <td id=\"T_b89a689d_b696_11eb_860e_b068e6db7bb0row3_col4\" class=\"data row3 col4\" >209513341</td>\n",
       "            </tr>\n",
       "            <tr>\n",
       "                        <th id=\"T_b89a689d_b696_11eb_860e_b068e6db7bb0level0_row4\" class=\"row_heading level0 row4\" >1975</th>\n",
       "                        <td id=\"T_b89a689d_b696_11eb_860e_b068e6db7bb0row4_col0\" class=\"data row4 col0\" >926240885</td>\n",
       "                        <td id=\"T_b89a689d_b696_11eb_860e_b068e6db7bb0row4_col1\" class=\"data row4 col1\" >623102897</td>\n",
       "                        <td id=\"T_b89a689d_b696_11eb_860e_b068e6db7bb0row4_col2\" class=\"data row4 col2\" >130680727</td>\n",
       "                        <td id=\"T_b89a689d_b696_11eb_860e_b068e6db7bb0row4_col3\" class=\"data row4 col3\" >66816877</td>\n",
       "                        <td id=\"T_b89a689d_b696_11eb_860e_b068e6db7bb0row4_col4\" class=\"data row4 col4\" >219081251</td>\n",
       "            </tr>\n",
       "            <tr>\n",
       "                        <th id=\"T_b89a689d_b696_11eb_860e_b068e6db7bb0level0_row5\" class=\"row_heading level0 row5\" >1980</th>\n",
       "                        <td id=\"T_b89a689d_b696_11eb_860e_b068e6db7bb0row5_col0\" class=\"data row5 col0\" >1000089235</td>\n",
       "                        <td id=\"T_b89a689d_b696_11eb_860e_b068e6db7bb0row5_col1\" class=\"data row5 col1\" >698952844</td>\n",
       "                        <td id=\"T_b89a689d_b696_11eb_860e_b068e6db7bb0row5_col2\" class=\"data row5 col2\" >147447836</td>\n",
       "                        <td id=\"T_b89a689d_b696_11eb_860e_b068e6db7bb0row5_col3\" class=\"data row5 col3\" >78054343</td>\n",
       "                        <td id=\"T_b89a689d_b696_11eb_860e_b068e6db7bb0row5_col4\" class=\"data row5 col4\" >229476354</td>\n",
       "            </tr>\n",
       "            <tr>\n",
       "                        <th id=\"T_b89a689d_b696_11eb_860e_b068e6db7bb0level0_row6\" class=\"row_heading level0 row6\" >1985</th>\n",
       "                        <td id=\"T_b89a689d_b696_11eb_860e_b068e6db7bb0row6_col0\" class=\"data row6 col0\" >1075589361</td>\n",
       "                        <td id=\"T_b89a689d_b696_11eb_860e_b068e6db7bb0row6_col1\" class=\"data row6 col1\" >784360008</td>\n",
       "                        <td id=\"T_b89a689d_b696_11eb_860e_b068e6db7bb0row6_col2\" class=\"data row6 col2\" >164982451</td>\n",
       "                        <td id=\"T_b89a689d_b696_11eb_860e_b068e6db7bb0row6_col3\" class=\"data row6 col3\" >92191510</td>\n",
       "                        <td id=\"T_b89a689d_b696_11eb_860e_b068e6db7bb0row6_col4\" class=\"data row6 col4\" >240499825</td>\n",
       "            </tr>\n",
       "            <tr>\n",
       "                        <th id=\"T_b89a689d_b696_11eb_860e_b068e6db7bb0level0_row7\" class=\"row_heading level0 row7\" >1990</th>\n",
       "                        <td id=\"T_b89a689d_b696_11eb_860e_b068e6db7bb0row7_col0\" class=\"data row7 col0\" >1176883674</td>\n",
       "                        <td id=\"T_b89a689d_b696_11eb_860e_b068e6db7bb0row7_col1\" class=\"data row7 col1\" >873277798</td>\n",
       "                        <td id=\"T_b89a689d_b696_11eb_860e_b068e6db7bb0row7_col2\" class=\"data row7 col2\" >181413402</td>\n",
       "                        <td id=\"T_b89a689d_b696_11eb_860e_b068e6db7bb0row7_col3\" class=\"data row7 col3\" >107647921</td>\n",
       "                        <td id=\"T_b89a689d_b696_11eb_860e_b068e6db7bb0row7_col4\" class=\"data row7 col4\" >252120309</td>\n",
       "            </tr>\n",
       "            <tr>\n",
       "                        <th id=\"T_b89a689d_b696_11eb_860e_b068e6db7bb0level0_row8\" class=\"row_heading level0 row8\" >1995</th>\n",
       "                        <td id=\"T_b89a689d_b696_11eb_860e_b068e6db7bb0row8_col0\" class=\"data row8 col0\" >1240920535</td>\n",
       "                        <td id=\"T_b89a689d_b696_11eb_860e_b068e6db7bb0row8_col1\" class=\"data row8 col1\" >963922588</td>\n",
       "                        <td id=\"T_b89a689d_b696_11eb_860e_b068e6db7bb0row8_col2\" class=\"data row8 col2\" >196934260</td>\n",
       "                        <td id=\"T_b89a689d_b696_11eb_860e_b068e6db7bb0row8_col3\" class=\"data row8 col3\" >123776839</td>\n",
       "                        <td id=\"T_b89a689d_b696_11eb_860e_b068e6db7bb0row8_col4\" class=\"data row8 col4\" >265163745</td>\n",
       "            </tr>\n",
       "            <tr>\n",
       "                        <th id=\"T_b89a689d_b696_11eb_860e_b068e6db7bb0level0_row9\" class=\"row_heading level0 row9\" >2000</th>\n",
       "                        <td id=\"T_b89a689d_b696_11eb_860e_b068e6db7bb0row9_col0\" class=\"data row9 col0\" >1290550765</td>\n",
       "                        <td id=\"T_b89a689d_b696_11eb_860e_b068e6db7bb0row9_col1\" class=\"data row9 col1\" >1056575549</td>\n",
       "                        <td id=\"T_b89a689d_b696_11eb_860e_b068e6db7bb0row9_col2\" class=\"data row9 col2\" >211513823</td>\n",
       "                        <td id=\"T_b89a689d_b696_11eb_860e_b068e6db7bb0row9_col3\" class=\"data row9 col3\" >142343578</td>\n",
       "                        <td id=\"T_b89a689d_b696_11eb_860e_b068e6db7bb0row9_col4\" class=\"data row9 col4\" >281710909</td>\n",
       "            </tr>\n",
       "            <tr>\n",
       "                        <th id=\"T_b89a689d_b696_11eb_860e_b068e6db7bb0level0_row10\" class=\"row_heading level0 row10\" >2005</th>\n",
       "                        <td id=\"T_b89a689d_b696_11eb_860e_b068e6db7bb0row10_col0\" class=\"data row10 col0\" >1330776380</td>\n",
       "                        <td id=\"T_b89a689d_b696_11eb_860e_b068e6db7bb0row10_col1\" class=\"data row10 col1\" >1147609927</td>\n",
       "                        <td id=\"T_b89a689d_b696_11eb_860e_b068e6db7bb0row10_col2\" class=\"data row10 col2\" >226289470</td>\n",
       "                        <td id=\"T_b89a689d_b696_11eb_860e_b068e6db7bb0row10_col3\" class=\"data row10 col3\" >160304008</td>\n",
       "                        <td id=\"T_b89a689d_b696_11eb_860e_b068e6db7bb0row10_col4\" class=\"data row10 col4\" >294993511</td>\n",
       "            </tr>\n",
       "            <tr>\n",
       "                        <th id=\"T_b89a689d_b696_11eb_860e_b068e6db7bb0level0_row11\" class=\"row_heading level0 row11\" >2010</th>\n",
       "                        <td id=\"T_b89a689d_b696_11eb_860e_b068e6db7bb0row11_col0\" class=\"data row11 col0\" >1368810615</td>\n",
       "                        <td id=\"T_b89a689d_b696_11eb_860e_b068e6db7bb0row11_col1\" class=\"data row11 col1\" >1234281170</td>\n",
       "                        <td id=\"T_b89a689d_b696_11eb_860e_b068e6db7bb0row11_col2\" class=\"data row11 col2\" >241834215</td>\n",
       "                        <td id=\"T_b89a689d_b696_11eb_860e_b068e6db7bb0row11_col3\" class=\"data row11 col3\" >179424641</td>\n",
       "                        <td id=\"T_b89a689d_b696_11eb_860e_b068e6db7bb0row11_col4\" class=\"data row11 col4\" >309011475</td>\n",
       "            </tr>\n",
       "            <tr>\n",
       "                        <th id=\"T_b89a689d_b696_11eb_860e_b068e6db7bb0level0_row12\" class=\"row_heading level0 row12\" >2015</th>\n",
       "                        <td id=\"T_b89a689d_b696_11eb_860e_b068e6db7bb0row12_col0\" class=\"data row12 col0\" >1406847870</td>\n",
       "                        <td id=\"T_b89a689d_b696_11eb_860e_b068e6db7bb0row12_col1\" class=\"data row12 col1\" >1310152403</td>\n",
       "                        <td id=\"T_b89a689d_b696_11eb_860e_b068e6db7bb0row12_col2\" class=\"data row12 col2\" >258383256</td>\n",
       "                        <td id=\"T_b89a689d_b696_11eb_860e_b068e6db7bb0row12_col3\" class=\"data row12 col3\" >199426964</td>\n",
       "                        <td id=\"T_b89a689d_b696_11eb_860e_b068e6db7bb0row12_col4\" class=\"data row12 col4\" >320878310</td>\n",
       "            </tr>\n",
       "            <tr>\n",
       "                        <th id=\"T_b89a689d_b696_11eb_860e_b068e6db7bb0level0_row13\" class=\"row_heading level0 row13\" >2016</th>\n",
       "                        <td id=\"T_b89a689d_b696_11eb_860e_b068e6db7bb0row13_col0\" class=\"data row13 col0\" >1414049351</td>\n",
       "                        <td id=\"T_b89a689d_b696_11eb_860e_b068e6db7bb0row13_col1\" class=\"data row13 col1\" >1324517249</td>\n",
       "                        <td id=\"T_b89a689d_b696_11eb_860e_b068e6db7bb0row13_col2\" class=\"data row13 col2\" >261556381</td>\n",
       "                        <td id=\"T_b89a689d_b696_11eb_860e_b068e6db7bb0row13_col3\" class=\"data row13 col3\" >203631353</td>\n",
       "                        <td id=\"T_b89a689d_b696_11eb_860e_b068e6db7bb0row13_col4\" class=\"data row13 col4\" >323015995</td>\n",
       "            </tr>\n",
       "            <tr>\n",
       "                        <th id=\"T_b89a689d_b696_11eb_860e_b068e6db7bb0level0_row14\" class=\"row_heading level0 row14\" >2017</th>\n",
       "                        <td id=\"T_b89a689d_b696_11eb_860e_b068e6db7bb0row14_col0\" class=\"data row14 col0\" >1421021791</td>\n",
       "                        <td id=\"T_b89a689d_b696_11eb_860e_b068e6db7bb0row14_col1\" class=\"data row14 col1\" >1338676785</td>\n",
       "                        <td id=\"T_b89a689d_b696_11eb_860e_b068e6db7bb0row14_col2\" class=\"data row14 col2\" >264650963</td>\n",
       "                        <td id=\"T_b89a689d_b696_11eb_860e_b068e6db7bb0row14_col3\" class=\"data row14 col3\" >207906209</td>\n",
       "                        <td id=\"T_b89a689d_b696_11eb_860e_b068e6db7bb0row14_col4\" class=\"data row14 col4\" >325084756</td>\n",
       "            </tr>\n",
       "            <tr>\n",
       "                        <th id=\"T_b89a689d_b696_11eb_860e_b068e6db7bb0level0_row15\" class=\"row_heading level0 row15\" >2018</th>\n",
       "                        <td id=\"T_b89a689d_b696_11eb_860e_b068e6db7bb0row15_col0\" class=\"data row15 col0\" >1427647786</td>\n",
       "                        <td id=\"T_b89a689d_b696_11eb_860e_b068e6db7bb0row15_col1\" class=\"data row15 col1\" >1352642280</td>\n",
       "                        <td id=\"T_b89a689d_b696_11eb_860e_b068e6db7bb0row15_col2\" class=\"data row15 col2\" >267670543</td>\n",
       "                        <td id=\"T_b89a689d_b696_11eb_860e_b068e6db7bb0row15_col3\" class=\"data row15 col3\" >212228286</td>\n",
       "                        <td id=\"T_b89a689d_b696_11eb_860e_b068e6db7bb0row15_col4\" class=\"data row15 col4\" >327096265</td>\n",
       "            </tr>\n",
       "            <tr>\n",
       "                        <th id=\"T_b89a689d_b696_11eb_860e_b068e6db7bb0level0_row16\" class=\"row_heading level0 row16\" >2019</th>\n",
       "                        <td id=\"T_b89a689d_b696_11eb_860e_b068e6db7bb0row16_col0\" class=\"data row16 col0\" >1433783686</td>\n",
       "                        <td id=\"T_b89a689d_b696_11eb_860e_b068e6db7bb0row16_col1\" class=\"data row16 col1\" >1366417754</td>\n",
       "                        <td id=\"T_b89a689d_b696_11eb_860e_b068e6db7bb0row16_col2\" class=\"data row16 col2\" >270625568</td>\n",
       "                        <td id=\"T_b89a689d_b696_11eb_860e_b068e6db7bb0row16_col3\" class=\"data row16 col3\" >216565318</td>\n",
       "                        <td id=\"T_b89a689d_b696_11eb_860e_b068e6db7bb0row16_col4\" class=\"data row16 col4\" >329064917</td>\n",
       "            </tr>\n",
       "            <tr>\n",
       "                        <th id=\"T_b89a689d_b696_11eb_860e_b068e6db7bb0level0_row17\" class=\"row_heading level0 row17\" >2020</th>\n",
       "                        <td id=\"T_b89a689d_b696_11eb_860e_b068e6db7bb0row17_col0\" class=\"data row17 col0\" >1439323776</td>\n",
       "                        <td id=\"T_b89a689d_b696_11eb_860e_b068e6db7bb0row17_col1\" class=\"data row17 col1\" >1380004385</td>\n",
       "                        <td id=\"T_b89a689d_b696_11eb_860e_b068e6db7bb0row17_col2\" class=\"data row17 col2\" >273523615</td>\n",
       "                        <td id=\"T_b89a689d_b696_11eb_860e_b068e6db7bb0row17_col3\" class=\"data row17 col3\" >220892340</td>\n",
       "                        <td id=\"T_b89a689d_b696_11eb_860e_b068e6db7bb0row17_col4\" class=\"data row17 col4\" >331002651</td>\n",
       "            </tr>\n",
       "    </tbody></table>"
      ],
      "text/plain": [
       "<pandas.io.formats.style.Styler at 0x215186e3fd0>"
      ]
     },
     "execution_count": 338,
     "metadata": {},
     "output_type": "execute_result"
    }
   ],
   "source": [
    "top5_popultion = population[population['Country'].isin(top_5_countries)][['Year', 'Country', 'Population']]\n",
    "top5_popultion_pivot = top5_popultion.pivot(index='Year', columns='Country', values='Population')\n",
    "top5_popultion_pivot.style.background_gradient(cmap='PuBu')"
   ]
  },
  {
   "cell_type": "markdown",
   "metadata": {},
   "source": [
    "# Top 5 most populated country in the world"
   ]
  },
  {
   "cell_type": "code",
   "execution_count": 339,
   "metadata": {},
   "outputs": [
    {
     "data": {
      "image/png": "[encoded data removed]",
      "text/plain": [
       "<Figure size 1440x720 with 1 Axes>"
      ]
     },
     "metadata": {
      "needs_background": "light"
     },
     "output_type": "display_data"
    }
   ],
   "source": [
    "fig,ax = plt.subplots(figsize=(20, 10))\n",
    "sns.despine()\n",
    "sns.set_context(\"notebook\", font_scale=1.5, rc={\"lines.linewidth\": 2})\n",
    "\n",
    "sns.barplot(x=\"Year\", y=\"Population\", data=top5_popultion, hue='Country')\n",
    "ax.set_ylabel(ylabel = 'Population in Billion', fontsize = 10)\n",
    "ax.set_xlabel(xlabel = 'Year', fontsize = 10)\n",
    "ax.set_title('Top 5 most populated countries in the World')\n",
    "ax.legend();"
   ]
  },
  {
   "cell_type": "code",
   "execution_count": 340,
   "metadata": {},
   "outputs": [],
   "source": [
    "population_2020 = population[population['Year'] == 2020]"
   ]
  },
  {
   "cell_type": "markdown",
   "metadata": {},
   "source": [
    "# The worlds deta in 2020"
   ]
  },
  {
   "cell_type": "code",
   "execution_count": 341,
   "metadata": {
    "scrolled": true
   },
   "outputs": [
    {
     "data": {
      "text/html": [
       "<div>\n",
       "<style scoped>\n",
       "    .dataframe tbody tr th:only-of-type {\n",
       "        vertical-align: middle;\n",
       "    }\n",
       "\n",
       "    .dataframe tbody tr th {\n",
       "        vertical-align: top;\n",
       "    }\n",
       "\n",
       "    .dataframe thead th {\n",
       "        text-align: right;\n",
       "    }\n",
       "</style>\n",
       "<table border=\"1\" class=\"dataframe\">\n",
       "  <thead>\n",
       "    <tr style=\"text-align: right;\">\n",
       "      <th></th>\n",
       "      <th>Year</th>\n",
       "      <th>Country</th>\n",
       "      <th>Population</th>\n",
       "      <th>Yearly % Change</th>\n",
       "      <th>Yearly Change</th>\n",
       "      <th>Migrants (net)</th>\n",
       "      <th>Median Age</th>\n",
       "      <th>Fertility Rate</th>\n",
       "      <th>Density (P/Km²)</th>\n",
       "      <th>Urban Pop %</th>\n",
       "      <th>Urban Population</th>\n",
       "      <th>Country's Share of World Pop %</th>\n",
       "      <th>World Population</th>\n",
       "      <th>Country Global Rank</th>\n",
       "    </tr>\n",
       "  </thead>\n",
       "  <tbody>\n",
       "    <tr>\n",
       "      <th>0</th>\n",
       "      <td>2020</td>\n",
       "      <td>China</td>\n",
       "      <td>1439323776</td>\n",
       "      <td>0.39</td>\n",
       "      <td>5540090</td>\n",
       "      <td>-348399.0</td>\n",
       "      <td>38.4</td>\n",
       "      <td>1.69</td>\n",
       "      <td>153</td>\n",
       "      <td>60.8</td>\n",
       "      <td>875075919.0</td>\n",
       "      <td>18.47</td>\n",
       "      <td>7794798739</td>\n",
       "      <td>1</td>\n",
       "    </tr>\n",
       "    <tr>\n",
       "      <th>18</th>\n",
       "      <td>2020</td>\n",
       "      <td>India</td>\n",
       "      <td>1380004385</td>\n",
       "      <td>0.99</td>\n",
       "      <td>13586631</td>\n",
       "      <td>-532687.0</td>\n",
       "      <td>28.4</td>\n",
       "      <td>2.24</td>\n",
       "      <td>464</td>\n",
       "      <td>35.0</td>\n",
       "      <td>483098640.0</td>\n",
       "      <td>17.70</td>\n",
       "      <td>7794798739</td>\n",
       "      <td>2</td>\n",
       "    </tr>\n",
       "    <tr>\n",
       "      <th>36</th>\n",
       "      <td>2020</td>\n",
       "      <td>United States</td>\n",
       "      <td>331002651</td>\n",
       "      <td>0.59</td>\n",
       "      <td>1937734</td>\n",
       "      <td>954806.0</td>\n",
       "      <td>38.3</td>\n",
       "      <td>1.78</td>\n",
       "      <td>36</td>\n",
       "      <td>82.8</td>\n",
       "      <td>273975139.0</td>\n",
       "      <td>4.25</td>\n",
       "      <td>7794798739</td>\n",
       "      <td>3</td>\n",
       "    </tr>\n",
       "    <tr>\n",
       "      <th>54</th>\n",
       "      <td>2020</td>\n",
       "      <td>Indonesia</td>\n",
       "      <td>273523615</td>\n",
       "      <td>1.07</td>\n",
       "      <td>2898047</td>\n",
       "      <td>-98955.0</td>\n",
       "      <td>29.7</td>\n",
       "      <td>2.32</td>\n",
       "      <td>151</td>\n",
       "      <td>56.4</td>\n",
       "      <td>154188546.0</td>\n",
       "      <td>3.51</td>\n",
       "      <td>7794798739</td>\n",
       "      <td>4</td>\n",
       "    </tr>\n",
       "    <tr>\n",
       "      <th>72</th>\n",
       "      <td>2020</td>\n",
       "      <td>Pakistan</td>\n",
       "      <td>220892340</td>\n",
       "      <td>2.00</td>\n",
       "      <td>4327022</td>\n",
       "      <td>-233379.0</td>\n",
       "      <td>22.8</td>\n",
       "      <td>3.55</td>\n",
       "      <td>287</td>\n",
       "      <td>35.1</td>\n",
       "      <td>77437729.0</td>\n",
       "      <td>2.83</td>\n",
       "      <td>7794798739</td>\n",
       "      <td>5</td>\n",
       "    </tr>\n",
       "    <tr>\n",
       "      <th>...</th>\n",
       "      <td>...</td>\n",
       "      <td>...</td>\n",
       "      <td>...</td>\n",
       "      <td>...</td>\n",
       "      <td>...</td>\n",
       "      <td>...</td>\n",
       "      <td>...</td>\n",
       "      <td>...</td>\n",
       "      <td>...</td>\n",
       "      <td>...</td>\n",
       "      <td>...</td>\n",
       "      <td>...</td>\n",
       "      <td>...</td>\n",
       "      <td>...</td>\n",
       "    </tr>\n",
       "    <tr>\n",
       "      <th>3527</th>\n",
       "      <td>2020</td>\n",
       "      <td>Aruba</td>\n",
       "      <td>106766</td>\n",
       "      <td>0.43</td>\n",
       "      <td>452</td>\n",
       "      <td>201.0</td>\n",
       "      <td>41.0</td>\n",
       "      <td>1.90</td>\n",
       "      <td>593</td>\n",
       "      <td>43.6</td>\n",
       "      <td>46511.0</td>\n",
       "      <td>0.00</td>\n",
       "      <td>7794798739</td>\n",
       "      <td>197</td>\n",
       "    </tr>\n",
       "    <tr>\n",
       "      <th>3545</th>\n",
       "      <td>2020</td>\n",
       "      <td>Tonga</td>\n",
       "      <td>105695</td>\n",
       "      <td>1.15</td>\n",
       "      <td>1201</td>\n",
       "      <td>-800.0</td>\n",
       "      <td>22.4</td>\n",
       "      <td>3.58</td>\n",
       "      <td>147</td>\n",
       "      <td>24.3</td>\n",
       "      <td>25648.0</td>\n",
       "      <td>0.00</td>\n",
       "      <td>7794798739</td>\n",
       "      <td>198</td>\n",
       "    </tr>\n",
       "    <tr>\n",
       "      <th>3563</th>\n",
       "      <td>2020</td>\n",
       "      <td>U.S. Virgin Islands</td>\n",
       "      <td>104425</td>\n",
       "      <td>-0.15</td>\n",
       "      <td>-153</td>\n",
       "      <td>-451.0</td>\n",
       "      <td>42.6</td>\n",
       "      <td>2.05</td>\n",
       "      <td>298</td>\n",
       "      <td>96.3</td>\n",
       "      <td>100599.0</td>\n",
       "      <td>0.00</td>\n",
       "      <td>7794798739</td>\n",
       "      <td>199</td>\n",
       "    </tr>\n",
       "    <tr>\n",
       "      <th>3581</th>\n",
       "      <td>2020</td>\n",
       "      <td>Seychelles</td>\n",
       "      <td>98347</td>\n",
       "      <td>0.62</td>\n",
       "      <td>608</td>\n",
       "      <td>-200.0</td>\n",
       "      <td>34.2</td>\n",
       "      <td>2.46</td>\n",
       "      <td>214</td>\n",
       "      <td>56.2</td>\n",
       "      <td>55308.0</td>\n",
       "      <td>0.00</td>\n",
       "      <td>7794798739</td>\n",
       "      <td>200</td>\n",
       "    </tr>\n",
       "    <tr>\n",
       "      <th>3599</th>\n",
       "      <td>2020</td>\n",
       "      <td>Antigua and Barbuda</td>\n",
       "      <td>97929</td>\n",
       "      <td>0.84</td>\n",
       "      <td>811</td>\n",
       "      <td>0.0</td>\n",
       "      <td>34.0</td>\n",
       "      <td>2.00</td>\n",
       "      <td>223</td>\n",
       "      <td>26.2</td>\n",
       "      <td>25682.0</td>\n",
       "      <td>0.00</td>\n",
       "      <td>7794798739</td>\n",
       "      <td>201</td>\n",
       "    </tr>\n",
       "  </tbody>\n",
       "</table>\n",
       "<p>200 rows × 14 columns</p>\n",
       "</div>"
      ],
      "text/plain": [
       "      Year              Country  Population  Yearly % Change  Yearly Change  \\\n",
       "0     2020                China  1439323776             0.39        5540090   \n",
       "18    2020                India  1380004385             0.99       13586631   \n",
       "36    2020        United States   331002651             0.59        1937734   \n",
       "54    2020            Indonesia   273523615             1.07        2898047   \n",
       "72    2020             Pakistan   220892340             2.00        4327022   \n",
       "...    ...                  ...         ...              ...            ...   \n",
       "3527  2020                Aruba      106766             0.43            452   \n",
       "3545  2020                Tonga      105695             1.15           1201   \n",
       "3563  2020  U.S. Virgin Islands      104425            -0.15           -153   \n",
       "3581  2020           Seychelles       98347             0.62            608   \n",
       "3599  2020  Antigua and Barbuda       97929             0.84            811   \n",
       "\n",
       "      Migrants (net)  Median Age  Fertility Rate Density (P/Km²)  Urban Pop %  \\\n",
       "0          -348399.0        38.4            1.69             153         60.8   \n",
       "18         -532687.0        28.4            2.24             464         35.0   \n",
       "36          954806.0        38.3            1.78              36         82.8   \n",
       "54          -98955.0        29.7            2.32             151         56.4   \n",
       "72         -233379.0        22.8            3.55             287         35.1   \n",
       "...              ...         ...             ...             ...          ...   \n",
       "3527           201.0        41.0            1.90             593         43.6   \n",
       "3545          -800.0        22.4            3.58             147         24.3   \n",
       "3563          -451.0        42.6            2.05             298         96.3   \n",
       "3581          -200.0        34.2            2.46             214         56.2   \n",
       "3599             0.0        34.0            2.00             223         26.2   \n",
       "\n",
       "      Urban Population  Country's Share of World Pop %  World Population  \\\n",
       "0          875075919.0                           18.47        7794798739   \n",
       "18         483098640.0                           17.70        7794798739   \n",
       "36         273975139.0                            4.25        7794798739   \n",
       "54         154188546.0                            3.51        7794798739   \n",
       "72          77437729.0                            2.83        7794798739   \n",
       "...                ...                             ...               ...   \n",
       "3527           46511.0                            0.00        7794798739   \n",
       "3545           25648.0                            0.00        7794798739   \n",
       "3563          100599.0                            0.00        7794798739   \n",
       "3581           55308.0                            0.00        7794798739   \n",
       "3599           25682.0                            0.00        7794798739   \n",
       "\n",
       "      Country Global Rank  \n",
       "0                       1  \n",
       "18                      2  \n",
       "36                      3  \n",
       "54                      4  \n",
       "72                      5  \n",
       "...                   ...  \n",
       "3527                  197  \n",
       "3545                  198  \n",
       "3563                  199  \n",
       "3581                  200  \n",
       "3599                  201  \n",
       "\n",
       "[200 rows x 14 columns]"
      ]
     },
     "execution_count": 341,
     "metadata": {},
     "output_type": "execute_result"
    }
   ],
   "source": [
    "population_2020"
   ]
  },
  {
   "cell_type": "markdown",
   "metadata": {},
   "source": [
    "# Density of the Countries in 2021"
   ]
  },
  {
   "cell_type": "code",
   "execution_count": 19,
   "metadata": {
    "scrolled": true
   },
   "outputs": [
    {
     "ename": "NameError",
     "evalue": "name 'population_2020' is not defined",
     "output_type": "error",
     "traceback": [
      "\u001b[1;31m---------------------------------------------------------------------------\u001b[0m",
      "\u001b[1;31mNameError\u001b[0m                                 Traceback (most recent call last)",
      "\u001b[1;32m<ipython-input-19-ca232268cfa6>\u001b[0m in \u001b[0;36m<module>\u001b[1;34m\u001b[0m\n\u001b[0;32m      1\u001b[0m \u001b[1;32mimport\u001b[0m \u001b[0mplotly\u001b[0m\u001b[1;33m.\u001b[0m\u001b[0mexpress\u001b[0m \u001b[1;32mas\u001b[0m \u001b[0mpx\u001b[0m\u001b[1;33m\u001b[0m\u001b[1;33m\u001b[0m\u001b[0m\n\u001b[1;32m----> 2\u001b[1;33m fig = px.choropleth(population_2020, locations=\"Country\", \n\u001b[0m\u001b[0;32m      3\u001b[0m                     \u001b[0mlocationmode\u001b[0m\u001b[1;33m=\u001b[0m\u001b[1;34m'country names'\u001b[0m\u001b[1;33m,\u001b[0m \u001b[0mcolor\u001b[0m\u001b[1;33m=\u001b[0m\u001b[1;34m\"Density (P/Km²)\"\u001b[0m\u001b[1;33m,\u001b[0m\u001b[1;33m\u001b[0m\u001b[1;33m\u001b[0m\u001b[0m\n\u001b[0;32m      4\u001b[0m                     \u001b[0mhover_name\u001b[0m\u001b[1;33m=\u001b[0m\u001b[1;34m\"Country\"\u001b[0m\u001b[1;33m,\u001b[0m\u001b[1;33m\u001b[0m\u001b[1;33m\u001b[0m\u001b[0m\n\u001b[0;32m      5\u001b[0m                     \u001b[0mcolor_continuous_scale\u001b[0m\u001b[1;33m=\u001b[0m\u001b[1;34m\"blues\"\u001b[0m\u001b[1;33m,\u001b[0m\u001b[1;33m\u001b[0m\u001b[1;33m\u001b[0m\u001b[0m\n",
      "\u001b[1;31mNameError\u001b[0m: name 'population_2020' is not defined"
     ]
    }
   ],
   "source": [
    "import plotly.express as px\n",
    "fig = px.choropleth(population_2020, locations=\"Country\", \n",
    "                    locationmode='country names', color=\"Density (P/Km²)\", \n",
    "                    hover_name=\"Country\", \n",
    "                    color_continuous_scale=\"blues\", \n",
    "                    title='Density of Countries in 2020')\n",
    "fig.update(layout_coloraxis_showscale=True)\n",
    "fig.show()"
   ]
  },
  {
   "cell_type": "markdown",
   "metadata": {},
   "source": [
    "# The population of Malaysia with respect to Density (P/Km2)"
   ]
  },
  {
   "cell_type": "code",
   "execution_count": 343,
   "metadata": {},
   "outputs": [
    {
     "data": {
      "text/html": [
       "<div>\n",
       "<style scoped>\n",
       "    .dataframe tbody tr th:only-of-type {\n",
       "        vertical-align: middle;\n",
       "    }\n",
       "\n",
       "    .dataframe tbody tr th {\n",
       "        vertical-align: top;\n",
       "    }\n",
       "\n",
       "    .dataframe thead th {\n",
       "        text-align: right;\n",
       "    }\n",
       "</style>\n",
       "<table border=\"1\" class=\"dataframe\">\n",
       "  <thead>\n",
       "    <tr style=\"text-align: right;\">\n",
       "      <th></th>\n",
       "      <th>Country</th>\n",
       "      <th>Density (P/Km²)</th>\n",
       "    </tr>\n",
       "  </thead>\n",
       "  <tbody>\n",
       "    <tr>\n",
       "      <th>792</th>\n",
       "      <td>Malaysia</td>\n",
       "      <td>99</td>\n",
       "    </tr>\n",
       "  </tbody>\n",
       "</table>\n",
       "</div>"
      ],
      "text/plain": [
       "      Country Density (P/Km²)\n",
       "792  Malaysia              99"
      ]
     },
     "execution_count": 343,
     "metadata": {},
     "output_type": "execute_result"
    }
   ],
   "source": [
    "# highest dense country by population\n",
    "population_2020[population_2020['Density (P/Km²)']==population_2020['Density (P/Km²)'].max()][['Country','Density (P/Km²)']]                                                                                                       "
   ]
  },
  {
   "cell_type": "markdown",
   "metadata": {},
   "source": [
    "# The population of Bangladesh with respect to Density (P/Km2)"
   ]
  },
  {
   "cell_type": "code",
   "execution_count": 356,
   "metadata": {},
   "outputs": [
    {
     "data": {
      "text/html": [
       "<div>\n",
       "<style scoped>\n",
       "    .dataframe tbody tr th:only-of-type {\n",
       "        vertical-align: middle;\n",
       "    }\n",
       "\n",
       "    .dataframe tbody tr th {\n",
       "        vertical-align: top;\n",
       "    }\n",
       "\n",
       "    .dataframe thead th {\n",
       "        text-align: right;\n",
       "    }\n",
       "</style>\n",
       "<table border=\"1\" class=\"dataframe\">\n",
       "  <thead>\n",
       "    <tr style=\"text-align: right;\">\n",
       "      <th></th>\n",
       "      <th>Country</th>\n",
       "      <th>Density (P/Km²)</th>\n",
       "    </tr>\n",
       "  </thead>\n",
       "  <tbody>\n",
       "    <tr>\n",
       "      <th>126</th>\n",
       "      <td>Bangladesh</td>\n",
       "      <td>1,265</td>\n",
       "    </tr>\n",
       "  </tbody>\n",
       "</table>\n",
       "</div>"
      ],
      "text/plain": [
       "        Country Density (P/Km²)\n",
       "126  Bangladesh           1,265"
      ]
     },
     "execution_count": 356,
     "metadata": {},
     "output_type": "execute_result"
    }
   ],
   "source": [
    "# lowest dense country by population\n",
    "population_2020[population_2020['Density (P/Km²)']==population_2020['Density (P/Km²)'].min()][['Country','Density (P/Km²)']]"
   ]
  },
  {
   "cell_type": "markdown",
   "metadata": {},
   "source": [
    "# The population of China with respect to Density (P/Km2)"
   ]
  },
  {
   "cell_type": "code",
   "execution_count": null,
   "metadata": {},
   "outputs": [],
   "source": [
    " # highly populated country\n",
    "population_2020[population_2020['Population']==population_2020['Population'].max()][['Country','Population']]"
   ]
  },
  {
   "cell_type": "markdown",
   "metadata": {},
   "source": [
    "# World population in 2020, with World's Map."
   ]
  },
  {
   "cell_type": "code",
   "execution_count": 345,
   "metadata": {},
   "outputs": [
    {
     "data": {
      "application/vnd.plotly.v1+json": {
       "config": {
        "plotlyServerURL": "https://plot.ly"
       },
       "data": [
        {
         "coloraxis": "coloraxis",
         "geo": "geo",
         "hovertemplate": "<b>%{hovertext}</b><br><br>Country=%{location}<br>Population=%{z}<extra></extra>",
         "hovertext": [
          "China",
          "India",
          "United States",
          "Indonesia",
          "Pakistan",
          "Brazil",
          "Nigeria",
          "Bangladesh",
          "Russia",
          "Mexico",
          "Japan",
          "Ethiopia",
          "Philippines",
          "Egypt",
          "Vietnam",
          "DR Congo",
          "Turkey",
          "Iran",
          "Germany",
          "Thailand",
          "United Kingdom",
          "France",
          "Italy",
          "Tanzania",
          "South Africa",
          "Myanmar",
          "Kenya",
          "South Korea",
          "Colombia",
          "Spain",
          "Uganda",
          "Argentina",
          "Algeria",
          "Sudan",
          "Ukraine",
          "Iraq",
          "Afghanistan",
          "Poland",
          "Canada",
          "Morocco",
          "Saudi Arabia",
          "Uzbekistan",
          "Peru",
          "Angola",
          "Malaysia",
          "Mozambique",
          "Ghana",
          "Yemen",
          "Nepal",
          "Venezuela",
          "Madagascar",
          "Cameroon",
          "Côte d'Ivoire",
          "North Korea",
          "Australia",
          "Niger",
          "Taiwan",
          "Sri Lanka",
          "Burkina Faso",
          "Mali",
          "Romania",
          "Malawi",
          "Chile",
          "Kazakhstan",
          "Zambia",
          "Guatemala",
          "Ecuador",
          "Syria",
          "Netherlands",
          "Senegal",
          "Cambodia",
          "Chad",
          "Somalia",
          "Zimbabwe",
          "Guinea",
          "Rwanda",
          "Benin",
          "Burundi",
          "Tunisia",
          "Bolivia",
          "Belgium",
          "Haiti",
          "Cuba",
          "South Sudan",
          "Dominican Republic",
          "Czech Republic (Czechia)",
          "Greece",
          "Jordan",
          "Portugal",
          "Azerbaijan",
          "Sweden",
          "Honduras",
          "United Arab Emirates",
          "Hungary",
          "Tajikistan",
          "Belarus",
          "Austria",
          "Papua New Guinea",
          "Serbia",
          "Israel",
          "Switzerland",
          "Togo",
          "Sierra Leone",
          "Hong Kong",
          "Laos",
          "Paraguay",
          "Bulgaria",
          "Libya",
          "Lebanon",
          "Nicaragua",
          "Kyrgyzstan",
          "El Salvador",
          "Turkmenistan",
          "Singapore",
          "Denmark",
          "Finland",
          "Congo",
          "Slovakia",
          "Norway",
          "Oman",
          "State of Palestine",
          "Costa Rica",
          "Liberia",
          "Ireland",
          "Central African Republic",
          "New Zealand",
          "Mauritania",
          "Panama",
          "Kuwait",
          "Croatia",
          "Moldova",
          "Georgia",
          "Eritrea",
          "Uruguay",
          "Bosnia and Herzegovina",
          "Mongolia",
          "Armenia",
          "Jamaica",
          "Qatar",
          "Albania",
          "Puerto Rico",
          "Lithuania",
          "Namibia",
          "Gambia",
          "Botswana",
          "Gabon",
          "Lesotho",
          "North Macedonia",
          "Slovenia",
          "Guinea-Bissau",
          "Latvia",
          "Bahrain",
          "Equatorial Guinea",
          "Trinidad and Tobago",
          "Estonia",
          "Timor-Leste",
          "Mauritius",
          "Cyprus",
          "Eswatini",
          "Djibouti",
          "Fiji",
          "Réunion",
          "Comoros",
          "Guyana",
          "Bhutan",
          "Solomon Islands",
          "Macao",
          "Montenegro",
          "Luxembourg",
          "Western Sahara",
          "Suriname",
          "Cabo Verde",
          "Maldives",
          "Malta",
          "Brunei ",
          "Guadeloupe",
          "Belize",
          "Bahamas",
          "Martinique",
          "Iceland",
          "Vanuatu",
          "French Guiana",
          "Barbados",
          "New Caledonia",
          "French Polynesia",
          "Mayotte",
          "Sao Tome & Principe",
          "Samoa",
          "Saint Lucia",
          "Channel Islands",
          "Guam",
          "Curaçao",
          "Kiribati",
          "Grenada",
          "St. Vincent & Grenadines",
          "Aruba",
          "Tonga",
          "U.S. Virgin Islands",
          "Seychelles",
          "Antigua and Barbuda"
         ],
         "locationmode": "country names",
         "locations": [
          "China",
          "India",
          "United States",
          "Indonesia",
          "Pakistan",
          "Brazil",
          "Nigeria",
          "Bangladesh",
          "Russia",
          "Mexico",
          "Japan",
          "Ethiopia",
          "Philippines",
          "Egypt",
          "Vietnam",
          "DR Congo",
          "Turkey",
          "Iran",
          "Germany",
          "Thailand",
          "United Kingdom",
          "France",
          "Italy",
          "Tanzania",
          "South Africa",
          "Myanmar",
          "Kenya",
          "South Korea",
          "Colombia",
          "Spain",
          "Uganda",
          "Argentina",
          "Algeria",
          "Sudan",
          "Ukraine",
          "Iraq",
          "Afghanistan",
          "Poland",
          "Canada",
          "Morocco",
          "Saudi Arabia",
          "Uzbekistan",
          "Peru",
          "Angola",
          "Malaysia",
          "Mozambique",
          "Ghana",
          "Yemen",
          "Nepal",
          "Venezuela",
          "Madagascar",
          "Cameroon",
          "Côte d'Ivoire",
          "North Korea",
          "Australia",
          "Niger",
          "Taiwan",
          "Sri Lanka",
          "Burkina Faso",
          "Mali",
          "Romania",
          "Malawi",
          "Chile",
          "Kazakhstan",
          "Zambia",
          "Guatemala",
          "Ecuador",
          "Syria",
          "Netherlands",
          "Senegal",
          "Cambodia",
          "Chad",
          "Somalia",
          "Zimbabwe",
          "Guinea",
          "Rwanda",
          "Benin",
          "Burundi",
          "Tunisia",
          "Bolivia",
          "Belgium",
          "Haiti",
          "Cuba",
          "South Sudan",
          "Dominican Republic",
          "Czech Republic (Czechia)",
          "Greece",
          "Jordan",
          "Portugal",
          "Azerbaijan",
          "Sweden",
          "Honduras",
          "United Arab Emirates",
          "Hungary",
          "Tajikistan",
          "Belarus",
          "Austria",
          "Papua New Guinea",
          "Serbia",
          "Israel",
          "Switzerland",
          "Togo",
          "Sierra Leone",
          "Hong Kong",
          "Laos",
          "Paraguay",
          "Bulgaria",
          "Libya",
          "Lebanon",
          "Nicaragua",
          "Kyrgyzstan",
          "El Salvador",
          "Turkmenistan",
          "Singapore",
          "Denmark",
          "Finland",
          "Congo",
          "Slovakia",
          "Norway",
          "Oman",
          "State of Palestine",
          "Costa Rica",
          "Liberia",
          "Ireland",
          "Central African Republic",
          "New Zealand",
          "Mauritania",
          "Panama",
          "Kuwait",
          "Croatia",
          "Moldova",
          "Georgia",
          "Eritrea",
          "Uruguay",
          "Bosnia and Herzegovina",
          "Mongolia",
          "Armenia",
          "Jamaica",
          "Qatar",
          "Albania",
          "Puerto Rico",
          "Lithuania",
          "Namibia",
          "Gambia",
          "Botswana",
          "Gabon",
          "Lesotho",
          "North Macedonia",
          "Slovenia",
          "Guinea-Bissau",
          "Latvia",
          "Bahrain",
          "Equatorial Guinea",
          "Trinidad and Tobago",
          "Estonia",
          "Timor-Leste",
          "Mauritius",
          "Cyprus",
          "Eswatini",
          "Djibouti",
          "Fiji",
          "Réunion",
          "Comoros",
          "Guyana",
          "Bhutan",
          "Solomon Islands",
          "Macao",
          "Montenegro",
          "Luxembourg",
          "Western Sahara",
          "Suriname",
          "Cabo Verde",
          "Maldives",
          "Malta",
          "Brunei ",
          "Guadeloupe",
          "Belize",
          "Bahamas",
          "Martinique",
          "Iceland",
          "Vanuatu",
          "French Guiana",
          "Barbados",
          "New Caledonia",
          "French Polynesia",
          "Mayotte",
          "Sao Tome & Principe",
          "Samoa",
          "Saint Lucia",
          "Channel Islands",
          "Guam",
          "Curaçao",
          "Kiribati",
          "Grenada",
          "St. Vincent & Grenadines",
          "Aruba",
          "Tonga",
          "U.S. Virgin Islands",
          "Seychelles",
          "Antigua and Barbuda"
         ],
         "name": "",
         "type": "choropleth",
         "z": [
          1439323776,
          1380004385,
          331002651,
          273523615,
          220892340,
          212559417,
          206139589,
          164689383,
          145934462,
          128932753,
          126476461,
          114963588,
          109581078,
          102334404,
          97338579,
          89561403,
          84339067,
          83992949,
          83783942,
          69799978,
          67886011,
          65273511,
          60461826,
          59734218,
          59308690,
          54409800,
          53771296,
          51269185,
          50882891,
          46754778,
          45741007,
          45195774,
          43851044,
          43849260,
          43733762,
          40222493,
          38928346,
          37846611,
          37742154,
          36910560,
          34813871,
          33469203,
          32971854,
          32866272,
          32365999,
          31255435,
          31072940,
          29825964,
          29136808,
          28435940,
          27691018,
          26545863,
          26378274,
          25778816,
          25499884,
          24206644,
          23816775,
          21413249,
          20903273,
          20250833,
          19237691,
          19129952,
          19116201,
          18776707,
          18383955,
          17915568,
          17643054,
          17500658,
          17134872,
          16743927,
          16718965,
          16425864,
          15893222,
          14862924,
          13132795,
          12952218,
          12123200,
          11890784,
          11818619,
          11673021,
          11589623,
          11402528,
          11326616,
          11193725,
          10847910,
          10708981,
          10423054,
          10203134,
          10196709,
          10139177,
          10099265,
          9904607,
          9890402,
          9660351,
          9537645,
          9449323,
          9006398,
          8947024,
          8737371,
          8655535,
          8654622,
          8278724,
          7976983,
          7496981,
          7275560,
          7132538,
          6948445,
          6871292,
          6825445,
          6624554,
          6524195,
          6486205,
          6031200,
          5850342,
          5792202,
          5540720,
          5518087,
          5459642,
          5421241,
          5106626,
          5101414,
          5094118,
          5057681,
          4937786,
          4829767,
          4822233,
          4649658,
          4314767,
          4270571,
          4105267,
          4033963,
          3989167,
          3546421,
          3473730,
          3280819,
          3278290,
          2963243,
          2961167,
          2881053,
          2877797,
          2860853,
          2722289,
          2540905,
          2416668,
          2351627,
          2225734,
          2142249,
          2083374,
          2078938,
          1968001,
          1886198,
          1701575,
          1402985,
          1399488,
          1326535,
          1318445,
          1271768,
          1207359,
          1160164,
          988000,
          896445,
          895312,
          869601,
          786552,
          771608,
          686884,
          649335,
          628066,
          625978,
          597339,
          586632,
          555987,
          540544,
          441543,
          437479,
          400124,
          397628,
          393244,
          375265,
          341243,
          307145,
          298682,
          287375,
          285498,
          280908,
          272815,
          219159,
          198414,
          183627,
          173863,
          168775,
          164093,
          119449,
          112523,
          110940,
          106766,
          105695,
          104425,
          98347,
          97929
         ]
        }
       ],
       "layout": {
        "coloraxis": {
         "colorbar": {
          "title": {
           "text": "Population"
          }
         },
         "colorscale": [
          [
           0,
           "rgb(230, 240, 240)"
          ],
          [
           0.09090909090909091,
           "rgb(191, 221, 229)"
          ],
          [
           0.18181818181818182,
           "rgb(156, 201, 226)"
          ],
          [
           0.2727272727272727,
           "rgb(129, 180, 227)"
          ],
          [
           0.36363636363636365,
           "rgb(115, 154, 228)"
          ],
          [
           0.45454545454545453,
           "rgb(117, 127, 221)"
          ],
          [
           0.5454545454545454,
           "rgb(120, 100, 202)"
          ],
          [
           0.6363636363636364,
           "rgb(119, 74, 175)"
          ],
          [
           0.7272727272727273,
           "rgb(113, 50, 141)"
          ],
          [
           0.8181818181818182,
           "rgb(100, 31, 104)"
          ],
          [
           0.9090909090909091,
           "rgb(80, 20, 66)"
          ],
          [
           1,
           "rgb(54, 14, 36)"
          ]
         ],
         "showscale": true
        },
        "geo": {
         "center": {},
         "domain": {
          "x": [
           0,
           1
          ],
          "y": [
           0,
           1
          ]
         }
        },
        "legend": {
         "tracegroupgap": 0
        },
        "template": {
         "data": {
          "bar": [
           {
            "error_x": {
             "color": "#2a3f5f"
            },
            "error_y": {
             "color": "#2a3f5f"
            },
            "marker": {
             "line": {
              "color": "#E5ECF6",
              "width": 0.5
             }
            },
            "type": "bar"
           }
          ],
          "barpolar": [
           {
            "marker": {
             "line": {
              "color": "#E5ECF6",
              "width": 0.5
             }
            },
            "type": "barpolar"
           }
          ],
          "carpet": [
           {
            "aaxis": {
             "endlinecolor": "#2a3f5f",
             "gridcolor": "white",
             "linecolor": "white",
             "minorgridcolor": "white",
             "startlinecolor": "#2a3f5f"
            },
            "baxis": {
             "endlinecolor": "#2a3f5f",
             "gridcolor": "white",
             "linecolor": "white",
             "minorgridcolor": "white",
             "startlinecolor": "#2a3f5f"
            },
            "type": "carpet"
           }
          ],
          "choropleth": [
           {
            "colorbar": {
             "outlinewidth": 0,
             "ticks": ""
            },
            "type": "choropleth"
           }
          ],
          "contour": [
           {
            "colorbar": {
             "outlinewidth": 0,
             "ticks": ""
            },
            "colorscale": [
             [
              0,
              "#0d0887"
             ],
             [
              0.1111111111111111,
              "#46039f"
             ],
             [
              0.2222222222222222,
              "#7201a8"
             ],
             [
              0.3333333333333333,
              "#9c179e"
             ],
             [
              0.4444444444444444,
              "#bd3786"
             ],
             [
              0.5555555555555556,
              "#d8576b"
             ],
             [
              0.6666666666666666,
              "#ed7953"
             ],
             [
              0.7777777777777778,
              "#fb9f3a"
             ],
             [
              0.8888888888888888,
              "#fdca26"
             ],
             [
              1,
              "#f0f921"
             ]
            ],
            "type": "contour"
           }
          ],
          "contourcarpet": [
           {
            "colorbar": {
             "outlinewidth": 0,
             "ticks": ""
            },
            "type": "contourcarpet"
           }
          ],
          "heatmap": [
           {
            "colorbar": {
             "outlinewidth": 0,
             "ticks": ""
            },
            "colorscale": [
             [
              0,
              "#0d0887"
             ],
             [
              0.1111111111111111,
              "#46039f"
             ],
             [
              0.2222222222222222,
              "#7201a8"
             ],
             [
              0.3333333333333333,
              "#9c179e"
             ],
             [
              0.4444444444444444,
              "#bd3786"
             ],
             [
              0.5555555555555556,
              "#d8576b"
             ],
             [
              0.6666666666666666,
              "#ed7953"
             ],
             [
              0.7777777777777778,
              "#fb9f3a"
             ],
             [
              0.8888888888888888,
              "#fdca26"
             ],
             [
              1,
              "#f0f921"
             ]
            ],
            "type": "heatmap"
           }
          ],
          "heatmapgl": [
           {
            "colorbar": {
             "outlinewidth": 0,
             "ticks": ""
            },
            "colorscale": [
             [
              0,
              "#0d0887"
             ],
             [
              0.1111111111111111,
              "#46039f"
             ],
             [
              0.2222222222222222,
              "#7201a8"
             ],
             [
              0.3333333333333333,
              "#9c179e"
             ],
             [
              0.4444444444444444,
              "#bd3786"
             ],
             [
              0.5555555555555556,
              "#d8576b"
             ],
             [
              0.6666666666666666,
              "#ed7953"
             ],
             [
              0.7777777777777778,
              "#fb9f3a"
             ],
             [
              0.8888888888888888,
              "#fdca26"
             ],
             [
              1,
              "#f0f921"
             ]
            ],
            "type": "heatmapgl"
           }
          ],
          "histogram": [
           {
            "marker": {
             "colorbar": {
              "outlinewidth": 0,
              "ticks": ""
             }
            },
            "type": "histogram"
           }
          ],
          "histogram2d": [
           {
            "colorbar": {
             "outlinewidth": 0,
             "ticks": ""
            },
            "colorscale": [
             [
              0,
              "#0d0887"
             ],
             [
              0.1111111111111111,
              "#46039f"
             ],
             [
              0.2222222222222222,
              "#7201a8"
             ],
             [
              0.3333333333333333,
              "#9c179e"
             ],
             [
              0.4444444444444444,
              "#bd3786"
             ],
             [
              0.5555555555555556,
              "#d8576b"
             ],
             [
              0.6666666666666666,
              "#ed7953"
             ],
             [
              0.7777777777777778,
              "#fb9f3a"
             ],
             [
              0.8888888888888888,
              "#fdca26"
             ],
             [
              1,
              "#f0f921"
             ]
            ],
            "type": "histogram2d"
           }
          ],
          "histogram2dcontour": [
           {
            "colorbar": {
             "outlinewidth": 0,
             "ticks": ""
            },
            "colorscale": [
             [
              0,
              "#0d0887"
             ],
             [
              0.1111111111111111,
              "#46039f"
             ],
             [
              0.2222222222222222,
              "#7201a8"
             ],
             [
              0.3333333333333333,
              "#9c179e"
             ],
             [
              0.4444444444444444,
              "#bd3786"
             ],
             [
              0.5555555555555556,
              "#d8576b"
             ],
             [
              0.6666666666666666,
              "#ed7953"
             ],
             [
              0.7777777777777778,
              "#fb9f3a"
             ],
             [
              0.8888888888888888,
              "#fdca26"
             ],
             [
              1,
              "#f0f921"
             ]
            ],
            "type": "histogram2dcontour"
           }
          ],
          "mesh3d": [
           {
            "colorbar": {
             "outlinewidth": 0,
             "ticks": ""
            },
            "type": "mesh3d"
           }
          ],
          "parcoords": [
           {
            "line": {
             "colorbar": {
              "outlinewidth": 0,
              "ticks": ""
             }
            },
            "type": "parcoords"
           }
          ],
          "pie": [
           {
            "automargin": true,
            "type": "pie"
           }
          ],
          "scatter": [
           {
            "marker": {
             "colorbar": {
              "outlinewidth": 0,
              "ticks": ""
             }
            },
            "type": "scatter"
           }
          ],
          "scatter3d": [
           {
            "line": {
             "colorbar": {
              "outlinewidth": 0,
              "ticks": ""
             }
            },
            "marker": {
             "colorbar": {
              "outlinewidth": 0,
              "ticks": ""
             }
            },
            "type": "scatter3d"
           }
          ],
          "scattercarpet": [
           {
            "marker": {
             "colorbar": {
              "outlinewidth": 0,
              "ticks": ""
             }
            },
            "type": "scattercarpet"
           }
          ],
          "scattergeo": [
           {
            "marker": {
             "colorbar": {
              "outlinewidth": 0,
              "ticks": ""
             }
            },
            "type": "scattergeo"
           }
          ],
          "scattergl": [
           {
            "marker": {
             "colorbar": {
              "outlinewidth": 0,
              "ticks": ""
             }
            },
            "type": "scattergl"
           }
          ],
          "scattermapbox": [
           {
            "marker": {
             "colorbar": {
              "outlinewidth": 0,
              "ticks": ""
             }
            },
            "type": "scattermapbox"
           }
          ],
          "scatterpolar": [
           {
            "marker": {
             "colorbar": {
              "outlinewidth": 0,
              "ticks": ""
             }
            },
            "type": "scatterpolar"
           }
          ],
          "scatterpolargl": [
           {
            "marker": {
             "colorbar": {
              "outlinewidth": 0,
              "ticks": ""
             }
            },
            "type": "scatterpolargl"
           }
          ],
          "scatterternary": [
           {
            "marker": {
             "colorbar": {
              "outlinewidth": 0,
              "ticks": ""
             }
            },
            "type": "scatterternary"
           }
          ],
          "surface": [
           {
            "colorbar": {
             "outlinewidth": 0,
             "ticks": ""
            },
            "colorscale": [
             [
              0,
              "#0d0887"
             ],
             [
              0.1111111111111111,
              "#46039f"
             ],
             [
              0.2222222222222222,
              "#7201a8"
             ],
             [
              0.3333333333333333,
              "#9c179e"
             ],
             [
              0.4444444444444444,
              "#bd3786"
             ],
             [
              0.5555555555555556,
              "#d8576b"
             ],
             [
              0.6666666666666666,
              "#ed7953"
             ],
             [
              0.7777777777777778,
              "#fb9f3a"
             ],
             [
              0.8888888888888888,
              "#fdca26"
             ],
             [
              1,
              "#f0f921"
             ]
            ],
            "type": "surface"
           }
          ],
          "table": [
           {
            "cells": {
             "fill": {
              "color": "#EBF0F8"
             },
             "line": {
              "color": "white"
             }
            },
            "header": {
             "fill": {
              "color": "#C8D4E3"
             },
             "line": {
              "color": "white"
             }
            },
            "type": "table"
           }
          ]
         },
         "layout": {
          "annotationdefaults": {
           "arrowcolor": "#2a3f5f",
           "arrowhead": 0,
           "arrowwidth": 1
          },
          "autotypenumbers": "strict",
          "coloraxis": {
           "colorbar": {
            "outlinewidth": 0,
            "ticks": ""
           }
          },
          "colorscale": {
           "diverging": [
            [
             0,
             "#8e0152"
            ],
            [
             0.1,
             "#c51b7d"
            ],
            [
             0.2,
             "#de77ae"
            ],
            [
             0.3,
             "#f1b6da"
            ],
            [
             0.4,
             "#fde0ef"
            ],
            [
             0.5,
             "#f7f7f7"
            ],
            [
             0.6,
             "#e6f5d0"
            ],
            [
             0.7,
             "#b8e186"
            ],
            [
             0.8,
             "#7fbc41"
            ],
            [
             0.9,
             "#4d9221"
            ],
            [
             1,
             "#276419"
            ]
           ],
           "sequential": [
            [
             0,
             "#0d0887"
            ],
            [
             0.1111111111111111,
             "#46039f"
            ],
            [
             0.2222222222222222,
             "#7201a8"
            ],
            [
             0.3333333333333333,
             "#9c179e"
            ],
            [
             0.4444444444444444,
             "#bd3786"
            ],
            [
             0.5555555555555556,
             "#d8576b"
            ],
            [
             0.6666666666666666,
             "#ed7953"
            ],
            [
             0.7777777777777778,
             "#fb9f3a"
            ],
            [
             0.8888888888888888,
             "#fdca26"
            ],
            [
             1,
             "#f0f921"
            ]
           ],
           "sequentialminus": [
            [
             0,
             "#0d0887"
            ],
            [
             0.1111111111111111,
             "#46039f"
            ],
            [
             0.2222222222222222,
             "#7201a8"
            ],
            [
             0.3333333333333333,
             "#9c179e"
            ],
            [
             0.4444444444444444,
             "#bd3786"
            ],
            [
             0.5555555555555556,
             "#d8576b"
            ],
            [
             0.6666666666666666,
             "#ed7953"
            ],
            [
             0.7777777777777778,
             "#fb9f3a"
            ],
            [
             0.8888888888888888,
             "#fdca26"
            ],
            [
             1,
             "#f0f921"
            ]
           ]
          },
          "colorway": [
           "#636efa",
           "#EF553B",
           "#00cc96",
           "#ab63fa",
           "#FFA15A",
           "#19d3f3",
           "#FF6692",
           "#B6E880",
           "#FF97FF",
           "#FECB52"
          ],
          "font": {
           "color": "#2a3f5f"
          },
          "geo": {
           "bgcolor": "white",
           "lakecolor": "white",
           "landcolor": "#E5ECF6",
           "showlakes": true,
           "showland": true,
           "subunitcolor": "white"
          },
          "hoverlabel": {
           "align": "left"
          },
          "hovermode": "closest",
          "mapbox": {
           "style": "light"
          },
          "paper_bgcolor": "white",
          "plot_bgcolor": "#E5ECF6",
          "polar": {
           "angularaxis": {
            "gridcolor": "white",
            "linecolor": "white",
            "ticks": ""
           },
           "bgcolor": "#E5ECF6",
           "radialaxis": {
            "gridcolor": "white",
            "linecolor": "white",
            "ticks": ""
           }
          },
          "scene": {
           "xaxis": {
            "backgroundcolor": "#E5ECF6",
            "gridcolor": "white",
            "gridwidth": 2,
            "linecolor": "white",
            "showbackground": true,
            "ticks": "",
            "zerolinecolor": "white"
           },
           "yaxis": {
            "backgroundcolor": "#E5ECF6",
            "gridcolor": "white",
            "gridwidth": 2,
            "linecolor": "white",
            "showbackground": true,
            "ticks": "",
            "zerolinecolor": "white"
           },
           "zaxis": {
            "backgroundcolor": "#E5ECF6",
            "gridcolor": "white",
            "gridwidth": 2,
            "linecolor": "white",
            "showbackground": true,
            "ticks": "",
            "zerolinecolor": "white"
           }
          },
          "shapedefaults": {
           "line": {
            "color": "#2a3f5f"
           }
          },
          "ternary": {
           "aaxis": {
            "gridcolor": "white",
            "linecolor": "white",
            "ticks": ""
           },
           "baxis": {
            "gridcolor": "white",
            "linecolor": "white",
            "ticks": ""
           },
           "bgcolor": "#E5ECF6",
           "caxis": {
            "gridcolor": "white",
            "linecolor": "white",
            "ticks": ""
           }
          },
          "title": {
           "x": 0.05
          },
          "xaxis": {
           "automargin": true,
           "gridcolor": "white",
           "linecolor": "white",
           "ticks": "",
           "title": {
            "standoff": 15
           },
           "zerolinecolor": "white",
           "zerolinewidth": 2
          },
          "yaxis": {
           "automargin": true,
           "gridcolor": "white",
           "linecolor": "white",
           "ticks": "",
           "title": {
            "standoff": 15
           },
           "zerolinecolor": "white",
           "zerolinewidth": 2
          }
         }
        },
        "title": {
         "text": "Population of Countries in 2020"
        }
       }
      },
      "text/html": [
       "<div>                            <div id=\"627cc2e1-6bb0-41cd-8ad7-b9634c42edc2\" class=\"plotly-graph-div\" style=\"height:525px; width:100%;\"></div>            <script type=\"text/javascript\">                require([\"plotly\"], function(Plotly) {                    window.PLOTLYENV=window.PLOTLYENV || {};                                    if (document.getElementById(\"627cc2e1-6bb0-41cd-8ad7-b9634c42edc2\")) {                    Plotly.newPlot(                        \"627cc2e1-6bb0-41cd-8ad7-b9634c42edc2\",                        [{\"coloraxis\": \"coloraxis\", \"geo\": \"geo\", \"hovertemplate\": \"<b>%{hovertext}</b><br><br>Country=%{location}<br>Population=%{z}<extra></extra>\", \"hovertext\": [\"China\", \"India\", \"United States\", \"Indonesia\", \"Pakistan\", \"Brazil\", \"Nigeria\", \"Bangladesh\", \"Russia\", \"Mexico\", \"Japan\", \"Ethiopia\", \"Philippines\", \"Egypt\", \"Vietnam\", \"DR Congo\", \"Turkey\", \"Iran\", \"Germany\", \"Thailand\", \"United Kingdom\", \"France\", \"Italy\", \"Tanzania\", \"South Africa\", \"Myanmar\", \"Kenya\", \"South Korea\", \"Colombia\", \"Spain\", \"Uganda\", \"Argentina\", \"Algeria\", \"Sudan\", \"Ukraine\", \"Iraq\", \"Afghanistan\", \"Poland\", \"Canada\", \"Morocco\", \"Saudi Arabia\", \"Uzbekistan\", \"Peru\", \"Angola\", \"Malaysia\", \"Mozambique\", \"Ghana\", \"Yemen\", \"Nepal\", \"Venezuela\", \"Madagascar\", \"Cameroon\", \"C\\u00f4te d'Ivoire\", \"North Korea\", \"Australia\", \"Niger\", \"Taiwan\", \"Sri Lanka\", \"Burkina Faso\", \"Mali\", \"Romania\", \"Malawi\", \"Chile\", \"Kazakhstan\", \"Zambia\", \"Guatemala\", \"Ecuador\", \"Syria\", \"Netherlands\", \"Senegal\", \"Cambodia\", \"Chad\", \"Somalia\", \"Zimbabwe\", \"Guinea\", \"Rwanda\", \"Benin\", \"Burundi\", \"Tunisia\", \"Bolivia\", \"Belgium\", \"Haiti\", \"Cuba\", \"South Sudan\", \"Dominican Republic\", \"Czech Republic (Czechia)\", \"Greece\", \"Jordan\", \"Portugal\", \"Azerbaijan\", \"Sweden\", \"Honduras\", \"United Arab Emirates\", \"Hungary\", \"Tajikistan\", \"Belarus\", \"Austria\", \"Papua New Guinea\", \"Serbia\", \"Israel\", \"Switzerland\", \"Togo\", \"Sierra Leone\", \"Hong Kong\", \"Laos\", \"Paraguay\", \"Bulgaria\", \"Libya\", \"Lebanon\", \"Nicaragua\", \"Kyrgyzstan\", \"El Salvador\", \"Turkmenistan\", \"Singapore\", \"Denmark\", \"Finland\", \"Congo\", \"Slovakia\", \"Norway\", \"Oman\", \"State of Palestine\", \"Costa Rica\", \"Liberia\", \"Ireland\", \"Central African Republic\", \"New Zealand\", \"Mauritania\", \"Panama\", \"Kuwait\", \"Croatia\", \"Moldova\", \"Georgia\", \"Eritrea\", \"Uruguay\", \"Bosnia and Herzegovina\", \"Mongolia\", \"Armenia\", \"Jamaica\", \"Qatar\", \"Albania\", \"Puerto Rico\", \"Lithuania\", \"Namibia\", \"Gambia\", \"Botswana\", \"Gabon\", \"Lesotho\", \"North Macedonia\", \"Slovenia\", \"Guinea-Bissau\", \"Latvia\", \"Bahrain\", \"Equatorial Guinea\", \"Trinidad and Tobago\", \"Estonia\", \"Timor-Leste\", \"Mauritius\", \"Cyprus\", \"Eswatini\", \"Djibouti\", \"Fiji\", \"R\\u00e9union\", \"Comoros\", \"Guyana\", \"Bhutan\", \"Solomon Islands\", \"Macao\", \"Montenegro\", \"Luxembourg\", \"Western Sahara\", \"Suriname\", \"Cabo Verde\", \"Maldives\", \"Malta\", \"Brunei \", \"Guadeloupe\", \"Belize\", \"Bahamas\", \"Martinique\", \"Iceland\", \"Vanuatu\", \"French Guiana\", \"Barbados\", \"New Caledonia\", \"French Polynesia\", \"Mayotte\", \"Sao Tome & Principe\", \"Samoa\", \"Saint Lucia\", \"Channel Islands\", \"Guam\", \"Cura\\u00e7ao\", \"Kiribati\", \"Grenada\", \"St. Vincent & Grenadines\", \"Aruba\", \"Tonga\", \"U.S. Virgin Islands\", \"Seychelles\", \"Antigua and Barbuda\"], \"locationmode\": \"country names\", \"locations\": [\"China\", \"India\", \"United States\", \"Indonesia\", \"Pakistan\", \"Brazil\", \"Nigeria\", \"Bangladesh\", \"Russia\", \"Mexico\", \"Japan\", \"Ethiopia\", \"Philippines\", \"Egypt\", \"Vietnam\", \"DR Congo\", \"Turkey\", \"Iran\", \"Germany\", \"Thailand\", \"United Kingdom\", \"France\", \"Italy\", \"Tanzania\", \"South Africa\", \"Myanmar\", \"Kenya\", \"South Korea\", \"Colombia\", \"Spain\", \"Uganda\", \"Argentina\", \"Algeria\", \"Sudan\", \"Ukraine\", \"Iraq\", \"Afghanistan\", \"Poland\", \"Canada\", \"Morocco\", \"Saudi Arabia\", \"Uzbekistan\", \"Peru\", \"Angola\", \"Malaysia\", \"Mozambique\", \"Ghana\", \"Yemen\", \"Nepal\", \"Venezuela\", \"Madagascar\", \"Cameroon\", \"C\\u00f4te d'Ivoire\", \"North Korea\", \"Australia\", \"Niger\", \"Taiwan\", \"Sri Lanka\", \"Burkina Faso\", \"Mali\", \"Romania\", \"Malawi\", \"Chile\", \"Kazakhstan\", \"Zambia\", \"Guatemala\", \"Ecuador\", \"Syria\", \"Netherlands\", \"Senegal\", \"Cambodia\", \"Chad\", \"Somalia\", \"Zimbabwe\", \"Guinea\", \"Rwanda\", \"Benin\", \"Burundi\", \"Tunisia\", \"Bolivia\", \"Belgium\", \"Haiti\", \"Cuba\", \"South Sudan\", \"Dominican Republic\", \"Czech Republic (Czechia)\", \"Greece\", \"Jordan\", \"Portugal\", \"Azerbaijan\", \"Sweden\", \"Honduras\", \"United Arab Emirates\", \"Hungary\", \"Tajikistan\", \"Belarus\", \"Austria\", \"Papua New Guinea\", \"Serbia\", \"Israel\", \"Switzerland\", \"Togo\", \"Sierra Leone\", \"Hong Kong\", \"Laos\", \"Paraguay\", \"Bulgaria\", \"Libya\", \"Lebanon\", \"Nicaragua\", \"Kyrgyzstan\", \"El Salvador\", \"Turkmenistan\", \"Singapore\", \"Denmark\", \"Finland\", \"Congo\", \"Slovakia\", \"Norway\", \"Oman\", \"State of Palestine\", \"Costa Rica\", \"Liberia\", \"Ireland\", \"Central African Republic\", \"New Zealand\", \"Mauritania\", \"Panama\", \"Kuwait\", \"Croatia\", \"Moldova\", \"Georgia\", \"Eritrea\", \"Uruguay\", \"Bosnia and Herzegovina\", \"Mongolia\", \"Armenia\", \"Jamaica\", \"Qatar\", \"Albania\", \"Puerto Rico\", \"Lithuania\", \"Namibia\", \"Gambia\", \"Botswana\", \"Gabon\", \"Lesotho\", \"North Macedonia\", \"Slovenia\", \"Guinea-Bissau\", \"Latvia\", \"Bahrain\", \"Equatorial Guinea\", \"Trinidad and Tobago\", \"Estonia\", \"Timor-Leste\", \"Mauritius\", \"Cyprus\", \"Eswatini\", \"Djibouti\", \"Fiji\", \"R\\u00e9union\", \"Comoros\", \"Guyana\", \"Bhutan\", \"Solomon Islands\", \"Macao\", \"Montenegro\", \"Luxembourg\", \"Western Sahara\", \"Suriname\", \"Cabo Verde\", \"Maldives\", \"Malta\", \"Brunei \", \"Guadeloupe\", \"Belize\", \"Bahamas\", \"Martinique\", \"Iceland\", \"Vanuatu\", \"French Guiana\", \"Barbados\", \"New Caledonia\", \"French Polynesia\", \"Mayotte\", \"Sao Tome & Principe\", \"Samoa\", \"Saint Lucia\", \"Channel Islands\", \"Guam\", \"Cura\\u00e7ao\", \"Kiribati\", \"Grenada\", \"St. Vincent & Grenadines\", \"Aruba\", \"Tonga\", \"U.S. Virgin Islands\", \"Seychelles\", \"Antigua and Barbuda\"], \"name\": \"\", \"type\": \"choropleth\", \"z\": [1439323776, 1380004385, 331002651, 273523615, 220892340, 212559417, 206139589, 164689383, 145934462, 128932753, 126476461, 114963588, 109581078, 102334404, 97338579, 89561403, 84339067, 83992949, 83783942, 69799978, 67886011, 65273511, 60461826, 59734218, 59308690, 54409800, 53771296, 51269185, 50882891, 46754778, 45741007, 45195774, 43851044, 43849260, 43733762, 40222493, 38928346, 37846611, 37742154, 36910560, 34813871, 33469203, 32971854, 32866272, 32365999, 31255435, 31072940, 29825964, 29136808, 28435940, 27691018, 26545863, 26378274, 25778816, 25499884, 24206644, 23816775, 21413249, 20903273, 20250833, 19237691, 19129952, 19116201, 18776707, 18383955, 17915568, 17643054, 17500658, 17134872, 16743927, 16718965, 16425864, 15893222, 14862924, 13132795, 12952218, 12123200, 11890784, 11818619, 11673021, 11589623, 11402528, 11326616, 11193725, 10847910, 10708981, 10423054, 10203134, 10196709, 10139177, 10099265, 9904607, 9890402, 9660351, 9537645, 9449323, 9006398, 8947024, 8737371, 8655535, 8654622, 8278724, 7976983, 7496981, 7275560, 7132538, 6948445, 6871292, 6825445, 6624554, 6524195, 6486205, 6031200, 5850342, 5792202, 5540720, 5518087, 5459642, 5421241, 5106626, 5101414, 5094118, 5057681, 4937786, 4829767, 4822233, 4649658, 4314767, 4270571, 4105267, 4033963, 3989167, 3546421, 3473730, 3280819, 3278290, 2963243, 2961167, 2881053, 2877797, 2860853, 2722289, 2540905, 2416668, 2351627, 2225734, 2142249, 2083374, 2078938, 1968001, 1886198, 1701575, 1402985, 1399488, 1326535, 1318445, 1271768, 1207359, 1160164, 988000, 896445, 895312, 869601, 786552, 771608, 686884, 649335, 628066, 625978, 597339, 586632, 555987, 540544, 441543, 437479, 400124, 397628, 393244, 375265, 341243, 307145, 298682, 287375, 285498, 280908, 272815, 219159, 198414, 183627, 173863, 168775, 164093, 119449, 112523, 110940, 106766, 105695, 104425, 98347, 97929]}],                        {\"coloraxis\": {\"colorbar\": {\"title\": {\"text\": \"Population\"}}, \"colorscale\": [[0.0, \"rgb(230, 240, 240)\"], [0.09090909090909091, \"rgb(191, 221, 229)\"], [0.18181818181818182, \"rgb(156, 201, 226)\"], [0.2727272727272727, \"rgb(129, 180, 227)\"], [0.36363636363636365, \"rgb(115, 154, 228)\"], [0.45454545454545453, \"rgb(117, 127, 221)\"], [0.5454545454545454, \"rgb(120, 100, 202)\"], [0.6363636363636364, \"rgb(119, 74, 175)\"], [0.7272727272727273, \"rgb(113, 50, 141)\"], [0.8181818181818182, \"rgb(100, 31, 104)\"], [0.9090909090909091, \"rgb(80, 20, 66)\"], [1.0, \"rgb(54, 14, 36)\"]], \"showscale\": true}, \"geo\": {\"center\": {}, \"domain\": {\"x\": [0.0, 1.0], \"y\": [0.0, 1.0]}}, \"legend\": {\"tracegroupgap\": 0}, \"template\": {\"data\": {\"bar\": [{\"error_x\": {\"color\": \"#2a3f5f\"}, \"error_y\": {\"color\": \"#2a3f5f\"}, \"marker\": {\"line\": {\"color\": \"#E5ECF6\", \"width\": 0.5}}, \"type\": \"bar\"}], \"barpolar\": [{\"marker\": {\"line\": {\"color\": \"#E5ECF6\", \"width\": 0.5}}, \"type\": \"barpolar\"}], \"carpet\": [{\"aaxis\": {\"endlinecolor\": \"#2a3f5f\", \"gridcolor\": \"white\", \"linecolor\": \"white\", \"minorgridcolor\": \"white\", \"startlinecolor\": \"#2a3f5f\"}, \"baxis\": {\"endlinecolor\": \"#2a3f5f\", \"gridcolor\": \"white\", \"linecolor\": \"white\", \"minorgridcolor\": \"white\", \"startlinecolor\": \"#2a3f5f\"}, \"type\": \"carpet\"}], \"choropleth\": [{\"colorbar\": {\"outlinewidth\": 0, \"ticks\": \"\"}, \"type\": \"choropleth\"}], \"contour\": [{\"colorbar\": {\"outlinewidth\": 0, \"ticks\": \"\"}, \"colorscale\": [[0.0, \"#0d0887\"], [0.1111111111111111, \"#46039f\"], [0.2222222222222222, \"#7201a8\"], [0.3333333333333333, \"#9c179e\"], [0.4444444444444444, \"#bd3786\"], [0.5555555555555556, \"#d8576b\"], [0.6666666666666666, \"#ed7953\"], [0.7777777777777778, \"#fb9f3a\"], [0.8888888888888888, \"#fdca26\"], [1.0, \"#f0f921\"]], \"type\": \"contour\"}], \"contourcarpet\": [{\"colorbar\": {\"outlinewidth\": 0, \"ticks\": \"\"}, \"type\": \"contourcarpet\"}], \"heatmap\": [{\"colorbar\": {\"outlinewidth\": 0, \"ticks\": \"\"}, \"colorscale\": [[0.0, \"#0d0887\"], [0.1111111111111111, \"#46039f\"], [0.2222222222222222, \"#7201a8\"], [0.3333333333333333, \"#9c179e\"], [0.4444444444444444, \"#bd3786\"], [0.5555555555555556, \"#d8576b\"], [0.6666666666666666, \"#ed7953\"], [0.7777777777777778, \"#fb9f3a\"], [0.8888888888888888, \"#fdca26\"], [1.0, \"#f0f921\"]], \"type\": \"heatmap\"}], \"heatmapgl\": [{\"colorbar\": {\"outlinewidth\": 0, \"ticks\": \"\"}, \"colorscale\": [[0.0, \"#0d0887\"], [0.1111111111111111, \"#46039f\"], [0.2222222222222222, \"#7201a8\"], [0.3333333333333333, \"#9c179e\"], [0.4444444444444444, \"#bd3786\"], [0.5555555555555556, \"#d8576b\"], [0.6666666666666666, \"#ed7953\"], [0.7777777777777778, \"#fb9f3a\"], [0.8888888888888888, \"#fdca26\"], [1.0, \"#f0f921\"]], \"type\": \"heatmapgl\"}], \"histogram\": [{\"marker\": {\"colorbar\": {\"outlinewidth\": 0, \"ticks\": \"\"}}, \"type\": \"histogram\"}], \"histogram2d\": [{\"colorbar\": {\"outlinewidth\": 0, \"ticks\": \"\"}, \"colorscale\": [[0.0, \"#0d0887\"], [0.1111111111111111, \"#46039f\"], [0.2222222222222222, \"#7201a8\"], [0.3333333333333333, \"#9c179e\"], [0.4444444444444444, \"#bd3786\"], [0.5555555555555556, \"#d8576b\"], [0.6666666666666666, \"#ed7953\"], [0.7777777777777778, \"#fb9f3a\"], [0.8888888888888888, \"#fdca26\"], [1.0, \"#f0f921\"]], \"type\": \"histogram2d\"}], \"histogram2dcontour\": [{\"colorbar\": {\"outlinewidth\": 0, \"ticks\": \"\"}, \"colorscale\": [[0.0, \"#0d0887\"], [0.1111111111111111, \"#46039f\"], [0.2222222222222222, \"#7201a8\"], [0.3333333333333333, \"#9c179e\"], [0.4444444444444444, \"#bd3786\"], [0.5555555555555556, \"#d8576b\"], [0.6666666666666666, \"#ed7953\"], [0.7777777777777778, \"#fb9f3a\"], [0.8888888888888888, \"#fdca26\"], [1.0, \"#f0f921\"]], \"type\": \"histogram2dcontour\"}], \"mesh3d\": [{\"colorbar\": {\"outlinewidth\": 0, \"ticks\": \"\"}, \"type\": \"mesh3d\"}], \"parcoords\": [{\"line\": {\"colorbar\": {\"outlinewidth\": 0, \"ticks\": \"\"}}, \"type\": \"parcoords\"}], \"pie\": [{\"automargin\": true, \"type\": \"pie\"}], \"scatter\": [{\"marker\": {\"colorbar\": {\"outlinewidth\": 0, \"ticks\": \"\"}}, \"type\": \"scatter\"}], \"scatter3d\": [{\"line\": {\"colorbar\": {\"outlinewidth\": 0, \"ticks\": \"\"}}, \"marker\": {\"colorbar\": {\"outlinewidth\": 0, \"ticks\": \"\"}}, \"type\": \"scatter3d\"}], \"scattercarpet\": [{\"marker\": {\"colorbar\": {\"outlinewidth\": 0, \"ticks\": \"\"}}, \"type\": \"scattercarpet\"}], \"scattergeo\": [{\"marker\": {\"colorbar\": {\"outlinewidth\": 0, \"ticks\": \"\"}}, \"type\": \"scattergeo\"}], \"scattergl\": [{\"marker\": {\"colorbar\": {\"outlinewidth\": 0, \"ticks\": \"\"}}, \"type\": \"scattergl\"}], \"scattermapbox\": [{\"marker\": {\"colorbar\": {\"outlinewidth\": 0, \"ticks\": \"\"}}, \"type\": \"scattermapbox\"}], \"scatterpolar\": [{\"marker\": {\"colorbar\": {\"outlinewidth\": 0, \"ticks\": \"\"}}, \"type\": \"scatterpolar\"}], \"scatterpolargl\": [{\"marker\": {\"colorbar\": {\"outlinewidth\": 0, \"ticks\": \"\"}}, \"type\": \"scatterpolargl\"}], \"scatterternary\": [{\"marker\": {\"colorbar\": {\"outlinewidth\": 0, \"ticks\": \"\"}}, \"type\": \"scatterternary\"}], \"surface\": [{\"colorbar\": {\"outlinewidth\": 0, \"ticks\": \"\"}, \"colorscale\": [[0.0, \"#0d0887\"], [0.1111111111111111, \"#46039f\"], [0.2222222222222222, \"#7201a8\"], [0.3333333333333333, \"#9c179e\"], [0.4444444444444444, \"#bd3786\"], [0.5555555555555556, \"#d8576b\"], [0.6666666666666666, \"#ed7953\"], [0.7777777777777778, \"#fb9f3a\"], [0.8888888888888888, \"#fdca26\"], [1.0, \"#f0f921\"]], \"type\": \"surface\"}], \"table\": [{\"cells\": {\"fill\": {\"color\": \"#EBF0F8\"}, \"line\": {\"color\": \"white\"}}, \"header\": {\"fill\": {\"color\": \"#C8D4E3\"}, \"line\": {\"color\": \"white\"}}, \"type\": \"table\"}]}, \"layout\": {\"annotationdefaults\": {\"arrowcolor\": \"#2a3f5f\", \"arrowhead\": 0, \"arrowwidth\": 1}, \"autotypenumbers\": \"strict\", \"coloraxis\": {\"colorbar\": {\"outlinewidth\": 0, \"ticks\": \"\"}}, \"colorscale\": {\"diverging\": [[0, \"#8e0152\"], [0.1, \"#c51b7d\"], [0.2, \"#de77ae\"], [0.3, \"#f1b6da\"], [0.4, \"#fde0ef\"], [0.5, \"#f7f7f7\"], [0.6, \"#e6f5d0\"], [0.7, \"#b8e186\"], [0.8, \"#7fbc41\"], [0.9, \"#4d9221\"], [1, \"#276419\"]], \"sequential\": [[0.0, \"#0d0887\"], [0.1111111111111111, \"#46039f\"], [0.2222222222222222, \"#7201a8\"], [0.3333333333333333, \"#9c179e\"], [0.4444444444444444, \"#bd3786\"], [0.5555555555555556, \"#d8576b\"], [0.6666666666666666, \"#ed7953\"], [0.7777777777777778, \"#fb9f3a\"], [0.8888888888888888, \"#fdca26\"], [1.0, \"#f0f921\"]], \"sequentialminus\": [[0.0, \"#0d0887\"], [0.1111111111111111, \"#46039f\"], [0.2222222222222222, \"#7201a8\"], [0.3333333333333333, \"#9c179e\"], [0.4444444444444444, \"#bd3786\"], [0.5555555555555556, \"#d8576b\"], [0.6666666666666666, \"#ed7953\"], [0.7777777777777778, \"#fb9f3a\"], [0.8888888888888888, \"#fdca26\"], [1.0, \"#f0f921\"]]}, \"colorway\": [\"#636efa\", \"#EF553B\", \"#00cc96\", \"#ab63fa\", \"#FFA15A\", \"#19d3f3\", \"#FF6692\", \"#B6E880\", \"#FF97FF\", \"#FECB52\"], \"font\": {\"color\": \"#2a3f5f\"}, \"geo\": {\"bgcolor\": \"white\", \"lakecolor\": \"white\", \"landcolor\": \"#E5ECF6\", \"showlakes\": true, \"showland\": true, \"subunitcolor\": \"white\"}, \"hoverlabel\": {\"align\": \"left\"}, \"hovermode\": \"closest\", \"mapbox\": {\"style\": \"light\"}, \"paper_bgcolor\": \"white\", \"plot_bgcolor\": \"#E5ECF6\", \"polar\": {\"angularaxis\": {\"gridcolor\": \"white\", \"linecolor\": \"white\", \"ticks\": \"\"}, \"bgcolor\": \"#E5ECF6\", \"radialaxis\": {\"gridcolor\": \"white\", \"linecolor\": \"white\", \"ticks\": \"\"}}, \"scene\": {\"xaxis\": {\"backgroundcolor\": \"#E5ECF6\", \"gridcolor\": \"white\", \"gridwidth\": 2, \"linecolor\": \"white\", \"showbackground\": true, \"ticks\": \"\", \"zerolinecolor\": \"white\"}, \"yaxis\": {\"backgroundcolor\": \"#E5ECF6\", \"gridcolor\": \"white\", \"gridwidth\": 2, \"linecolor\": \"white\", \"showbackground\": true, \"ticks\": \"\", \"zerolinecolor\": \"white\"}, \"zaxis\": {\"backgroundcolor\": \"#E5ECF6\", \"gridcolor\": \"white\", \"gridwidth\": 2, \"linecolor\": \"white\", \"showbackground\": true, \"ticks\": \"\", \"zerolinecolor\": \"white\"}}, \"shapedefaults\": {\"line\": {\"color\": \"#2a3f5f\"}}, \"ternary\": {\"aaxis\": {\"gridcolor\": \"white\", \"linecolor\": \"white\", \"ticks\": \"\"}, \"baxis\": {\"gridcolor\": \"white\", \"linecolor\": \"white\", \"ticks\": \"\"}, \"bgcolor\": \"#E5ECF6\", \"caxis\": {\"gridcolor\": \"white\", \"linecolor\": \"white\", \"ticks\": \"\"}}, \"title\": {\"x\": 0.05}, \"xaxis\": {\"automargin\": true, \"gridcolor\": \"white\", \"linecolor\": \"white\", \"ticks\": \"\", \"title\": {\"standoff\": 15}, \"zerolinecolor\": \"white\", \"zerolinewidth\": 2}, \"yaxis\": {\"automargin\": true, \"gridcolor\": \"white\", \"linecolor\": \"white\", \"ticks\": \"\", \"title\": {\"standoff\": 15}, \"zerolinecolor\": \"white\", \"zerolinewidth\": 2}}}, \"title\": {\"text\": \"Population of Countries in 2020\"}},                        {\"responsive\": true}                    ).then(function(){\n",
       "                            \n",
       "var gd = document.getElementById('627cc2e1-6bb0-41cd-8ad7-b9634c42edc2');\n",
       "var x = new MutationObserver(function (mutations, observer) {{\n",
       "        var display = window.getComputedStyle(gd).display;\n",
       "        if (!display || display === 'none') {{\n",
       "            console.log([gd, 'removed!']);\n",
       "            Plotly.purge(gd);\n",
       "            observer.disconnect();\n",
       "        }}\n",
       "}});\n",
       "\n",
       "// Listen for the removal of the full notebook cells\n",
       "var notebookContainer = gd.closest('#notebook-container');\n",
       "if (notebookContainer) {{\n",
       "    x.observe(notebookContainer, {childList: true});\n",
       "}}\n",
       "\n",
       "// Listen for the clearing of the current output cell\n",
       "var outputEl = gd.closest('.output');\n",
       "if (outputEl) {{\n",
       "    x.observe(outputEl, {childList: true});\n",
       "}}\n",
       "\n",
       "                        })                };                });            </script>        </div>"
      ]
     },
     "metadata": {},
     "output_type": "display_data"
    }
   ],
   "source": [
    "fig = px.choropleth(population_2020, locations=\"Country\", \n",
    "                    locationmode='country names', color=\"Population\", \n",
    "                    hover_name=\"Country\",\n",
    "                    color_continuous_scale=\"dense\", \n",
    "                    title='Population of Countries in 2020')\n",
    "fig.update(layout_coloraxis_showscale=True)\n",
    "fig.show()\n"
   ]
  },
  {
   "cell_type": "code",
   "execution_count": 346,
   "metadata": {},
   "outputs": [],
   "source": [
    "population_more_than_one_million = population[(population['Population'] >= 1000000) & (population['Year']==2020)]"
   ]
  },
  {
   "cell_type": "markdown",
   "metadata": {},
   "source": [
    "# population_more_than_one_millions Country"
   ]
  },
  {
   "cell_type": "code",
   "execution_count": 347,
   "metadata": {},
   "outputs": [
    {
     "data": {
      "text/html": [
       "<div>\n",
       "<style scoped>\n",
       "    .dataframe tbody tr th:only-of-type {\n",
       "        vertical-align: middle;\n",
       "    }\n",
       "\n",
       "    .dataframe tbody tr th {\n",
       "        vertical-align: top;\n",
       "    }\n",
       "\n",
       "    .dataframe thead th {\n",
       "        text-align: right;\n",
       "    }\n",
       "</style>\n",
       "<table border=\"1\" class=\"dataframe\">\n",
       "  <thead>\n",
       "    <tr style=\"text-align: right;\">\n",
       "      <th></th>\n",
       "      <th>Year</th>\n",
       "      <th>Country</th>\n",
       "      <th>Population</th>\n",
       "      <th>Yearly % Change</th>\n",
       "      <th>Yearly Change</th>\n",
       "      <th>Migrants (net)</th>\n",
       "      <th>Median Age</th>\n",
       "      <th>Fertility Rate</th>\n",
       "      <th>Density (P/Km²)</th>\n",
       "      <th>Urban Pop %</th>\n",
       "      <th>Urban Population</th>\n",
       "      <th>Country's Share of World Pop %</th>\n",
       "      <th>World Population</th>\n",
       "      <th>Country Global Rank</th>\n",
       "    </tr>\n",
       "  </thead>\n",
       "  <tbody>\n",
       "    <tr>\n",
       "      <th>0</th>\n",
       "      <td>2020</td>\n",
       "      <td>China</td>\n",
       "      <td>1439323776</td>\n",
       "      <td>0.39</td>\n",
       "      <td>5540090</td>\n",
       "      <td>-348399.0</td>\n",
       "      <td>38.4</td>\n",
       "      <td>1.69</td>\n",
       "      <td>153</td>\n",
       "      <td>60.8</td>\n",
       "      <td>875075919.0</td>\n",
       "      <td>18.47</td>\n",
       "      <td>7794798739</td>\n",
       "      <td>1</td>\n",
       "    </tr>\n",
       "    <tr>\n",
       "      <th>18</th>\n",
       "      <td>2020</td>\n",
       "      <td>India</td>\n",
       "      <td>1380004385</td>\n",
       "      <td>0.99</td>\n",
       "      <td>13586631</td>\n",
       "      <td>-532687.0</td>\n",
       "      <td>28.4</td>\n",
       "      <td>2.24</td>\n",
       "      <td>464</td>\n",
       "      <td>35.0</td>\n",
       "      <td>483098640.0</td>\n",
       "      <td>17.70</td>\n",
       "      <td>7794798739</td>\n",
       "      <td>2</td>\n",
       "    </tr>\n",
       "    <tr>\n",
       "      <th>36</th>\n",
       "      <td>2020</td>\n",
       "      <td>United States</td>\n",
       "      <td>331002651</td>\n",
       "      <td>0.59</td>\n",
       "      <td>1937734</td>\n",
       "      <td>954806.0</td>\n",
       "      <td>38.3</td>\n",
       "      <td>1.78</td>\n",
       "      <td>36</td>\n",
       "      <td>82.8</td>\n",
       "      <td>273975139.0</td>\n",
       "      <td>4.25</td>\n",
       "      <td>7794798739</td>\n",
       "      <td>3</td>\n",
       "    </tr>\n",
       "    <tr>\n",
       "      <th>54</th>\n",
       "      <td>2020</td>\n",
       "      <td>Indonesia</td>\n",
       "      <td>273523615</td>\n",
       "      <td>1.07</td>\n",
       "      <td>2898047</td>\n",
       "      <td>-98955.0</td>\n",
       "      <td>29.7</td>\n",
       "      <td>2.32</td>\n",
       "      <td>151</td>\n",
       "      <td>56.4</td>\n",
       "      <td>154188546.0</td>\n",
       "      <td>3.51</td>\n",
       "      <td>7794798739</td>\n",
       "      <td>4</td>\n",
       "    </tr>\n",
       "    <tr>\n",
       "      <th>72</th>\n",
       "      <td>2020</td>\n",
       "      <td>Pakistan</td>\n",
       "      <td>220892340</td>\n",
       "      <td>2.00</td>\n",
       "      <td>4327022</td>\n",
       "      <td>-233379.0</td>\n",
       "      <td>22.8</td>\n",
       "      <td>3.55</td>\n",
       "      <td>287</td>\n",
       "      <td>35.1</td>\n",
       "      <td>77437729.0</td>\n",
       "      <td>2.83</td>\n",
       "      <td>7794798739</td>\n",
       "      <td>5</td>\n",
       "    </tr>\n",
       "    <tr>\n",
       "      <th>...</th>\n",
       "      <td>...</td>\n",
       "      <td>...</td>\n",
       "      <td>...</td>\n",
       "      <td>...</td>\n",
       "      <td>...</td>\n",
       "      <td>...</td>\n",
       "      <td>...</td>\n",
       "      <td>...</td>\n",
       "      <td>...</td>\n",
       "      <td>...</td>\n",
       "      <td>...</td>\n",
       "      <td>...</td>\n",
       "      <td>...</td>\n",
       "      <td>...</td>\n",
       "    </tr>\n",
       "    <tr>\n",
       "      <th>2772</th>\n",
       "      <td>2020</td>\n",
       "      <td>Estonia</td>\n",
       "      <td>1326535</td>\n",
       "      <td>0.07</td>\n",
       "      <td>887</td>\n",
       "      <td>3911.0</td>\n",
       "      <td>42.4</td>\n",
       "      <td>1.59</td>\n",
       "      <td>31</td>\n",
       "      <td>67.9</td>\n",
       "      <td>900365.0</td>\n",
       "      <td>0.02</td>\n",
       "      <td>7794798739</td>\n",
       "      <td>155</td>\n",
       "    </tr>\n",
       "    <tr>\n",
       "      <th>2790</th>\n",
       "      <td>2020</td>\n",
       "      <td>Timor-Leste</td>\n",
       "      <td>1318445</td>\n",
       "      <td>1.96</td>\n",
       "      <td>25326</td>\n",
       "      <td>-5385.0</td>\n",
       "      <td>20.8</td>\n",
       "      <td>4.10</td>\n",
       "      <td>89</td>\n",
       "      <td>32.8</td>\n",
       "      <td>432649.0</td>\n",
       "      <td>0.02</td>\n",
       "      <td>7794798739</td>\n",
       "      <td>156</td>\n",
       "    </tr>\n",
       "    <tr>\n",
       "      <th>2808</th>\n",
       "      <td>2020</td>\n",
       "      <td>Mauritius</td>\n",
       "      <td>1271768</td>\n",
       "      <td>0.17</td>\n",
       "      <td>2100</td>\n",
       "      <td>0.0</td>\n",
       "      <td>37.5</td>\n",
       "      <td>1.39</td>\n",
       "      <td>626</td>\n",
       "      <td>40.8</td>\n",
       "      <td>519330.0</td>\n",
       "      <td>0.02</td>\n",
       "      <td>7794798739</td>\n",
       "      <td>157</td>\n",
       "    </tr>\n",
       "    <tr>\n",
       "      <th>2826</th>\n",
       "      <td>2020</td>\n",
       "      <td>Cyprus</td>\n",
       "      <td>1207359</td>\n",
       "      <td>0.73</td>\n",
       "      <td>8784</td>\n",
       "      <td>5000.0</td>\n",
       "      <td>37.3</td>\n",
       "      <td>1.34</td>\n",
       "      <td>131</td>\n",
       "      <td>66.8</td>\n",
       "      <td>806754.0</td>\n",
       "      <td>0.02</td>\n",
       "      <td>7794798739</td>\n",
       "      <td>158</td>\n",
       "    </tr>\n",
       "    <tr>\n",
       "      <th>2844</th>\n",
       "      <td>2020</td>\n",
       "      <td>Eswatini</td>\n",
       "      <td>1160164</td>\n",
       "      <td>1.05</td>\n",
       "      <td>12034</td>\n",
       "      <td>-8353.0</td>\n",
       "      <td>20.7</td>\n",
       "      <td>3.03</td>\n",
       "      <td>67</td>\n",
       "      <td>30.0</td>\n",
       "      <td>347895.0</td>\n",
       "      <td>0.01</td>\n",
       "      <td>7794798739</td>\n",
       "      <td>159</td>\n",
       "    </tr>\n",
       "  </tbody>\n",
       "</table>\n",
       "<p>159 rows × 14 columns</p>\n",
       "</div>"
      ],
      "text/plain": [
       "      Year        Country  Population  Yearly % Change  Yearly Change  \\\n",
       "0     2020          China  1439323776             0.39        5540090   \n",
       "18    2020          India  1380004385             0.99       13586631   \n",
       "36    2020  United States   331002651             0.59        1937734   \n",
       "54    2020      Indonesia   273523615             1.07        2898047   \n",
       "72    2020       Pakistan   220892340             2.00        4327022   \n",
       "...    ...            ...         ...              ...            ...   \n",
       "2772  2020        Estonia     1326535             0.07            887   \n",
       "2790  2020    Timor-Leste     1318445             1.96          25326   \n",
       "2808  2020      Mauritius     1271768             0.17           2100   \n",
       "2826  2020         Cyprus     1207359             0.73           8784   \n",
       "2844  2020       Eswatini     1160164             1.05          12034   \n",
       "\n",
       "      Migrants (net)  Median Age  Fertility Rate Density (P/Km²)  Urban Pop %  \\\n",
       "0          -348399.0        38.4            1.69             153         60.8   \n",
       "18         -532687.0        28.4            2.24             464         35.0   \n",
       "36          954806.0        38.3            1.78              36         82.8   \n",
       "54          -98955.0        29.7            2.32             151         56.4   \n",
       "72         -233379.0        22.8            3.55             287         35.1   \n",
       "...              ...         ...             ...             ...          ...   \n",
       "2772          3911.0        42.4            1.59              31         67.9   \n",
       "2790         -5385.0        20.8            4.10              89         32.8   \n",
       "2808             0.0        37.5            1.39             626         40.8   \n",
       "2826          5000.0        37.3            1.34             131         66.8   \n",
       "2844         -8353.0        20.7            3.03              67         30.0   \n",
       "\n",
       "      Urban Population  Country's Share of World Pop %  World Population  \\\n",
       "0          875075919.0                           18.47        7794798739   \n",
       "18         483098640.0                           17.70        7794798739   \n",
       "36         273975139.0                            4.25        7794798739   \n",
       "54         154188546.0                            3.51        7794798739   \n",
       "72          77437729.0                            2.83        7794798739   \n",
       "...                ...                             ...               ...   \n",
       "2772          900365.0                            0.02        7794798739   \n",
       "2790          432649.0                            0.02        7794798739   \n",
       "2808          519330.0                            0.02        7794798739   \n",
       "2826          806754.0                            0.02        7794798739   \n",
       "2844          347895.0                            0.01        7794798739   \n",
       "\n",
       "      Country Global Rank  \n",
       "0                       1  \n",
       "18                      2  \n",
       "36                      3  \n",
       "54                      4  \n",
       "72                      5  \n",
       "...                   ...  \n",
       "2772                  155  \n",
       "2790                  156  \n",
       "2808                  157  \n",
       "2826                  158  \n",
       "2844                  159  \n",
       "\n",
       "[159 rows x 14 columns]"
      ]
     },
     "execution_count": 347,
     "metadata": {},
     "output_type": "execute_result"
    }
   ],
   "source": [
    "population_more_than_one_million\n"
   ]
  },
  {
   "cell_type": "code",
   "execution_count": 360,
   "metadata": {},
   "outputs": [
    {
     "name": "stdout",
     "output_type": "stream",
     "text": [
      "There is 159 countries in the world with more than 1 million population.\n"
     ]
    }
   ],
   "source": [
    "number_of_countries = population_more_than_one_million.shape[0]\n",
    "print(\"There is {} countries in the world with more than 1 million population.\".format(number_of_countries))"
   ]
  },
  {
   "cell_type": "markdown",
   "metadata": {},
   "source": [
    "# There is 159 countries in the world with more than 1 million population."
   ]
  },
  {
   "cell_type": "code",
   "execution_count": 350,
   "metadata": {},
   "outputs": [
    {
     "data": {
      "application/vnd.plotly.v1+json": {
       "config": {
        "plotlyServerURL": "https://plot.ly"
       },
       "data": [
        {
         "coloraxis": "coloraxis",
         "geo": "geo",
         "hovertemplate": "<b>%{hovertext}</b><br><br>Country=%{location}<br>Population=%{z}<extra></extra>",
         "hovertext": [
          "China",
          "India",
          "United States",
          "Indonesia",
          "Pakistan",
          "Brazil",
          "Nigeria",
          "Bangladesh",
          "Russia",
          "Mexico",
          "Japan",
          "Ethiopia",
          "Philippines",
          "Egypt",
          "Vietnam",
          "DR Congo",
          "Turkey",
          "Iran",
          "Germany",
          "Thailand",
          "United Kingdom",
          "France",
          "Italy",
          "Tanzania",
          "South Africa",
          "Myanmar",
          "Kenya",
          "South Korea",
          "Colombia",
          "Spain",
          "Uganda",
          "Argentina",
          "Algeria",
          "Sudan",
          "Ukraine",
          "Iraq",
          "Afghanistan",
          "Poland",
          "Canada",
          "Morocco",
          "Saudi Arabia",
          "Uzbekistan",
          "Peru",
          "Angola",
          "Malaysia",
          "Mozambique",
          "Ghana",
          "Yemen",
          "Nepal",
          "Venezuela",
          "Madagascar",
          "Cameroon",
          "Côte d'Ivoire",
          "North Korea",
          "Australia",
          "Niger",
          "Taiwan",
          "Sri Lanka",
          "Burkina Faso",
          "Mali",
          "Romania",
          "Malawi",
          "Chile",
          "Kazakhstan",
          "Zambia",
          "Guatemala",
          "Ecuador",
          "Syria",
          "Netherlands",
          "Senegal",
          "Cambodia",
          "Chad",
          "Somalia",
          "Zimbabwe",
          "Guinea",
          "Rwanda",
          "Benin",
          "Burundi",
          "Tunisia",
          "Bolivia",
          "Belgium",
          "Haiti",
          "Cuba",
          "South Sudan",
          "Dominican Republic",
          "Czech Republic (Czechia)",
          "Greece",
          "Jordan",
          "Portugal",
          "Azerbaijan",
          "Sweden",
          "Honduras",
          "United Arab Emirates",
          "Hungary",
          "Tajikistan",
          "Belarus",
          "Austria",
          "Papua New Guinea",
          "Serbia",
          "Israel",
          "Switzerland",
          "Togo",
          "Sierra Leone",
          "Hong Kong",
          "Laos",
          "Paraguay",
          "Bulgaria",
          "Libya",
          "Lebanon",
          "Nicaragua",
          "Kyrgyzstan",
          "El Salvador",
          "Turkmenistan",
          "Singapore",
          "Denmark",
          "Finland",
          "Congo",
          "Slovakia",
          "Norway",
          "Oman",
          "State of Palestine",
          "Costa Rica",
          "Liberia",
          "Ireland",
          "Central African Republic",
          "New Zealand",
          "Mauritania",
          "Panama",
          "Kuwait",
          "Croatia",
          "Moldova",
          "Georgia",
          "Eritrea",
          "Uruguay",
          "Bosnia and Herzegovina",
          "Mongolia",
          "Armenia",
          "Jamaica",
          "Qatar",
          "Albania",
          "Puerto Rico",
          "Lithuania",
          "Namibia",
          "Gambia",
          "Botswana",
          "Gabon",
          "Lesotho",
          "North Macedonia",
          "Slovenia",
          "Guinea-Bissau",
          "Latvia",
          "Bahrain",
          "Equatorial Guinea",
          "Trinidad and Tobago",
          "Estonia",
          "Timor-Leste",
          "Mauritius",
          "Cyprus",
          "Eswatini"
         ],
         "locationmode": "country names",
         "locations": [
          "China",
          "India",
          "United States",
          "Indonesia",
          "Pakistan",
          "Brazil",
          "Nigeria",
          "Bangladesh",
          "Russia",
          "Mexico",
          "Japan",
          "Ethiopia",
          "Philippines",
          "Egypt",
          "Vietnam",
          "DR Congo",
          "Turkey",
          "Iran",
          "Germany",
          "Thailand",
          "United Kingdom",
          "France",
          "Italy",
          "Tanzania",
          "South Africa",
          "Myanmar",
          "Kenya",
          "South Korea",
          "Colombia",
          "Spain",
          "Uganda",
          "Argentina",
          "Algeria",
          "Sudan",
          "Ukraine",
          "Iraq",
          "Afghanistan",
          "Poland",
          "Canada",
          "Morocco",
          "Saudi Arabia",
          "Uzbekistan",
          "Peru",
          "Angola",
          "Malaysia",
          "Mozambique",
          "Ghana",
          "Yemen",
          "Nepal",
          "Venezuela",
          "Madagascar",
          "Cameroon",
          "Côte d'Ivoire",
          "North Korea",
          "Australia",
          "Niger",
          "Taiwan",
          "Sri Lanka",
          "Burkina Faso",
          "Mali",
          "Romania",
          "Malawi",
          "Chile",
          "Kazakhstan",
          "Zambia",
          "Guatemala",
          "Ecuador",
          "Syria",
          "Netherlands",
          "Senegal",
          "Cambodia",
          "Chad",
          "Somalia",
          "Zimbabwe",
          "Guinea",
          "Rwanda",
          "Benin",
          "Burundi",
          "Tunisia",
          "Bolivia",
          "Belgium",
          "Haiti",
          "Cuba",
          "South Sudan",
          "Dominican Republic",
          "Czech Republic (Czechia)",
          "Greece",
          "Jordan",
          "Portugal",
          "Azerbaijan",
          "Sweden",
          "Honduras",
          "United Arab Emirates",
          "Hungary",
          "Tajikistan",
          "Belarus",
          "Austria",
          "Papua New Guinea",
          "Serbia",
          "Israel",
          "Switzerland",
          "Togo",
          "Sierra Leone",
          "Hong Kong",
          "Laos",
          "Paraguay",
          "Bulgaria",
          "Libya",
          "Lebanon",
          "Nicaragua",
          "Kyrgyzstan",
          "El Salvador",
          "Turkmenistan",
          "Singapore",
          "Denmark",
          "Finland",
          "Congo",
          "Slovakia",
          "Norway",
          "Oman",
          "State of Palestine",
          "Costa Rica",
          "Liberia",
          "Ireland",
          "Central African Republic",
          "New Zealand",
          "Mauritania",
          "Panama",
          "Kuwait",
          "Croatia",
          "Moldova",
          "Georgia",
          "Eritrea",
          "Uruguay",
          "Bosnia and Herzegovina",
          "Mongolia",
          "Armenia",
          "Jamaica",
          "Qatar",
          "Albania",
          "Puerto Rico",
          "Lithuania",
          "Namibia",
          "Gambia",
          "Botswana",
          "Gabon",
          "Lesotho",
          "North Macedonia",
          "Slovenia",
          "Guinea-Bissau",
          "Latvia",
          "Bahrain",
          "Equatorial Guinea",
          "Trinidad and Tobago",
          "Estonia",
          "Timor-Leste",
          "Mauritius",
          "Cyprus",
          "Eswatini"
         ],
         "name": "",
         "type": "choropleth",
         "z": [
          1439323776,
          1380004385,
          331002651,
          273523615,
          220892340,
          212559417,
          206139589,
          164689383,
          145934462,
          128932753,
          126476461,
          114963588,
          109581078,
          102334404,
          97338579,
          89561403,
          84339067,
          83992949,
          83783942,
          69799978,
          67886011,
          65273511,
          60461826,
          59734218,
          59308690,
          54409800,
          53771296,
          51269185,
          50882891,
          46754778,
          45741007,
          45195774,
          43851044,
          43849260,
          43733762,
          40222493,
          38928346,
          37846611,
          37742154,
          36910560,
          34813871,
          33469203,
          32971854,
          32866272,
          32365999,
          31255435,
          31072940,
          29825964,
          29136808,
          28435940,
          27691018,
          26545863,
          26378274,
          25778816,
          25499884,
          24206644,
          23816775,
          21413249,
          20903273,
          20250833,
          19237691,
          19129952,
          19116201,
          18776707,
          18383955,
          17915568,
          17643054,
          17500658,
          17134872,
          16743927,
          16718965,
          16425864,
          15893222,
          14862924,
          13132795,
          12952218,
          12123200,
          11890784,
          11818619,
          11673021,
          11589623,
          11402528,
          11326616,
          11193725,
          10847910,
          10708981,
          10423054,
          10203134,
          10196709,
          10139177,
          10099265,
          9904607,
          9890402,
          9660351,
          9537645,
          9449323,
          9006398,
          8947024,
          8737371,
          8655535,
          8654622,
          8278724,
          7976983,
          7496981,
          7275560,
          7132538,
          6948445,
          6871292,
          6825445,
          6624554,
          6524195,
          6486205,
          6031200,
          5850342,
          5792202,
          5540720,
          5518087,
          5459642,
          5421241,
          5106626,
          5101414,
          5094118,
          5057681,
          4937786,
          4829767,
          4822233,
          4649658,
          4314767,
          4270571,
          4105267,
          4033963,
          3989167,
          3546421,
          3473730,
          3280819,
          3278290,
          2963243,
          2961167,
          2881053,
          2877797,
          2860853,
          2722289,
          2540905,
          2416668,
          2351627,
          2225734,
          2142249,
          2083374,
          2078938,
          1968001,
          1886198,
          1701575,
          1402985,
          1399488,
          1326535,
          1318445,
          1271768,
          1207359,
          1160164
         ]
        }
       ],
       "layout": {
        "coloraxis": {
         "colorbar": {
          "title": {
           "text": "Population"
          }
         },
         "colorscale": [
          [
           0,
           "rgb(247,251,255)"
          ],
          [
           0.125,
           "rgb(222,235,247)"
          ],
          [
           0.25,
           "rgb(198,219,239)"
          ],
          [
           0.375,
           "rgb(158,202,225)"
          ],
          [
           0.5,
           "rgb(107,174,214)"
          ],
          [
           0.625,
           "rgb(66,146,198)"
          ],
          [
           0.75,
           "rgb(33,113,181)"
          ],
          [
           0.875,
           "rgb(8,81,156)"
          ],
          [
           1,
           "rgb(8,48,107)"
          ]
         ],
         "showscale": true
        },
        "geo": {
         "center": {},
         "domain": {
          "x": [
           0,
           1
          ],
          "y": [
           0,
           1
          ]
         }
        },
        "legend": {
         "tracegroupgap": 0
        },
        "template": {
         "data": {
          "bar": [
           {
            "error_x": {
             "color": "#2a3f5f"
            },
            "error_y": {
             "color": "#2a3f5f"
            },
            "marker": {
             "line": {
              "color": "#E5ECF6",
              "width": 0.5
             }
            },
            "type": "bar"
           }
          ],
          "barpolar": [
           {
            "marker": {
             "line": {
              "color": "#E5ECF6",
              "width": 0.5
             }
            },
            "type": "barpolar"
           }
          ],
          "carpet": [
           {
            "aaxis": {
             "endlinecolor": "#2a3f5f",
             "gridcolor": "white",
             "linecolor": "white",
             "minorgridcolor": "white",
             "startlinecolor": "#2a3f5f"
            },
            "baxis": {
             "endlinecolor": "#2a3f5f",
             "gridcolor": "white",
             "linecolor": "white",
             "minorgridcolor": "white",
             "startlinecolor": "#2a3f5f"
            },
            "type": "carpet"
           }
          ],
          "choropleth": [
           {
            "colorbar": {
             "outlinewidth": 0,
             "ticks": ""
            },
            "type": "choropleth"
           }
          ],
          "contour": [
           {
            "colorbar": {
             "outlinewidth": 0,
             "ticks": ""
            },
            "colorscale": [
             [
              0,
              "#0d0887"
             ],
             [
              0.1111111111111111,
              "#46039f"
             ],
             [
              0.2222222222222222,
              "#7201a8"
             ],
             [
              0.3333333333333333,
              "#9c179e"
             ],
             [
              0.4444444444444444,
              "#bd3786"
             ],
             [
              0.5555555555555556,
              "#d8576b"
             ],
             [
              0.6666666666666666,
              "#ed7953"
             ],
             [
              0.7777777777777778,
              "#fb9f3a"
             ],
             [
              0.8888888888888888,
              "#fdca26"
             ],
             [
              1,
              "#f0f921"
             ]
            ],
            "type": "contour"
           }
          ],
          "contourcarpet": [
           {
            "colorbar": {
             "outlinewidth": 0,
             "ticks": ""
            },
            "type": "contourcarpet"
           }
          ],
          "heatmap": [
           {
            "colorbar": {
             "outlinewidth": 0,
             "ticks": ""
            },
            "colorscale": [
             [
              0,
              "#0d0887"
             ],
             [
              0.1111111111111111,
              "#46039f"
             ],
             [
              0.2222222222222222,
              "#7201a8"
             ],
             [
              0.3333333333333333,
              "#9c179e"
             ],
             [
              0.4444444444444444,
              "#bd3786"
             ],
             [
              0.5555555555555556,
              "#d8576b"
             ],
             [
              0.6666666666666666,
              "#ed7953"
             ],
             [
              0.7777777777777778,
              "#fb9f3a"
             ],
             [
              0.8888888888888888,
              "#fdca26"
             ],
             [
              1,
              "#f0f921"
             ]
            ],
            "type": "heatmap"
           }
          ],
          "heatmapgl": [
           {
            "colorbar": {
             "outlinewidth": 0,
             "ticks": ""
            },
            "colorscale": [
             [
              0,
              "#0d0887"
             ],
             [
              0.1111111111111111,
              "#46039f"
             ],
             [
              0.2222222222222222,
              "#7201a8"
             ],
             [
              0.3333333333333333,
              "#9c179e"
             ],
             [
              0.4444444444444444,
              "#bd3786"
             ],
             [
              0.5555555555555556,
              "#d8576b"
             ],
             [
              0.6666666666666666,
              "#ed7953"
             ],
             [
              0.7777777777777778,
              "#fb9f3a"
             ],
             [
              0.8888888888888888,
              "#fdca26"
             ],
             [
              1,
              "#f0f921"
             ]
            ],
            "type": "heatmapgl"
           }
          ],
          "histogram": [
           {
            "marker": {
             "colorbar": {
              "outlinewidth": 0,
              "ticks": ""
             }
            },
            "type": "histogram"
           }
          ],
          "histogram2d": [
           {
            "colorbar": {
             "outlinewidth": 0,
             "ticks": ""
            },
            "colorscale": [
             [
              0,
              "#0d0887"
             ],
             [
              0.1111111111111111,
              "#46039f"
             ],
             [
              0.2222222222222222,
              "#7201a8"
             ],
             [
              0.3333333333333333,
              "#9c179e"
             ],
             [
              0.4444444444444444,
              "#bd3786"
             ],
             [
              0.5555555555555556,
              "#d8576b"
             ],
             [
              0.6666666666666666,
              "#ed7953"
             ],
             [
              0.7777777777777778,
              "#fb9f3a"
             ],
             [
              0.8888888888888888,
              "#fdca26"
             ],
             [
              1,
              "#f0f921"
             ]
            ],
            "type": "histogram2d"
           }
          ],
          "histogram2dcontour": [
           {
            "colorbar": {
             "outlinewidth": 0,
             "ticks": ""
            },
            "colorscale": [
             [
              0,
              "#0d0887"
             ],
             [
              0.1111111111111111,
              "#46039f"
             ],
             [
              0.2222222222222222,
              "#7201a8"
             ],
             [
              0.3333333333333333,
              "#9c179e"
             ],
             [
              0.4444444444444444,
              "#bd3786"
             ],
             [
              0.5555555555555556,
              "#d8576b"
             ],
             [
              0.6666666666666666,
              "#ed7953"
             ],
             [
              0.7777777777777778,
              "#fb9f3a"
             ],
             [
              0.8888888888888888,
              "#fdca26"
             ],
             [
              1,
              "#f0f921"
             ]
            ],
            "type": "histogram2dcontour"
           }
          ],
          "mesh3d": [
           {
            "colorbar": {
             "outlinewidth": 0,
             "ticks": ""
            },
            "type": "mesh3d"
           }
          ],
          "parcoords": [
           {
            "line": {
             "colorbar": {
              "outlinewidth": 0,
              "ticks": ""
             }
            },
            "type": "parcoords"
           }
          ],
          "pie": [
           {
            "automargin": true,
            "type": "pie"
           }
          ],
          "scatter": [
           {
            "marker": {
             "colorbar": {
              "outlinewidth": 0,
              "ticks": ""
             }
            },
            "type": "scatter"
           }
          ],
          "scatter3d": [
           {
            "line": {
             "colorbar": {
              "outlinewidth": 0,
              "ticks": ""
             }
            },
            "marker": {
             "colorbar": {
              "outlinewidth": 0,
              "ticks": ""
             }
            },
            "type": "scatter3d"
           }
          ],
          "scattercarpet": [
           {
            "marker": {
             "colorbar": {
              "outlinewidth": 0,
              "ticks": ""
             }
            },
            "type": "scattercarpet"
           }
          ],
          "scattergeo": [
           {
            "marker": {
             "colorbar": {
              "outlinewidth": 0,
              "ticks": ""
             }
            },
            "type": "scattergeo"
           }
          ],
          "scattergl": [
           {
            "marker": {
             "colorbar": {
              "outlinewidth": 0,
              "ticks": ""
             }
            },
            "type": "scattergl"
           }
          ],
          "scattermapbox": [
           {
            "marker": {
             "colorbar": {
              "outlinewidth": 0,
              "ticks": ""
             }
            },
            "type": "scattermapbox"
           }
          ],
          "scatterpolar": [
           {
            "marker": {
             "colorbar": {
              "outlinewidth": 0,
              "ticks": ""
             }
            },
            "type": "scatterpolar"
           }
          ],
          "scatterpolargl": [
           {
            "marker": {
             "colorbar": {
              "outlinewidth": 0,
              "ticks": ""
             }
            },
            "type": "scatterpolargl"
           }
          ],
          "scatterternary": [
           {
            "marker": {
             "colorbar": {
              "outlinewidth": 0,
              "ticks": ""
             }
            },
            "type": "scatterternary"
           }
          ],
          "surface": [
           {
            "colorbar": {
             "outlinewidth": 0,
             "ticks": ""
            },
            "colorscale": [
             [
              0,
              "#0d0887"
             ],
             [
              0.1111111111111111,
              "#46039f"
             ],
             [
              0.2222222222222222,
              "#7201a8"
             ],
             [
              0.3333333333333333,
              "#9c179e"
             ],
             [
              0.4444444444444444,
              "#bd3786"
             ],
             [
              0.5555555555555556,
              "#d8576b"
             ],
             [
              0.6666666666666666,
              "#ed7953"
             ],
             [
              0.7777777777777778,
              "#fb9f3a"
             ],
             [
              0.8888888888888888,
              "#fdca26"
             ],
             [
              1,
              "#f0f921"
             ]
            ],
            "type": "surface"
           }
          ],
          "table": [
           {
            "cells": {
             "fill": {
              "color": "#EBF0F8"
             },
             "line": {
              "color": "white"
             }
            },
            "header": {
             "fill": {
              "color": "#C8D4E3"
             },
             "line": {
              "color": "white"
             }
            },
            "type": "table"
           }
          ]
         },
         "layout": {
          "annotationdefaults": {
           "arrowcolor": "#2a3f5f",
           "arrowhead": 0,
           "arrowwidth": 1
          },
          "autotypenumbers": "strict",
          "coloraxis": {
           "colorbar": {
            "outlinewidth": 0,
            "ticks": ""
           }
          },
          "colorscale": {
           "diverging": [
            [
             0,
             "#8e0152"
            ],
            [
             0.1,
             "#c51b7d"
            ],
            [
             0.2,
             "#de77ae"
            ],
            [
             0.3,
             "#f1b6da"
            ],
            [
             0.4,
             "#fde0ef"
            ],
            [
             0.5,
             "#f7f7f7"
            ],
            [
             0.6,
             "#e6f5d0"
            ],
            [
             0.7,
             "#b8e186"
            ],
            [
             0.8,
             "#7fbc41"
            ],
            [
             0.9,
             "#4d9221"
            ],
            [
             1,
             "#276419"
            ]
           ],
           "sequential": [
            [
             0,
             "#0d0887"
            ],
            [
             0.1111111111111111,
             "#46039f"
            ],
            [
             0.2222222222222222,
             "#7201a8"
            ],
            [
             0.3333333333333333,
             "#9c179e"
            ],
            [
             0.4444444444444444,
             "#bd3786"
            ],
            [
             0.5555555555555556,
             "#d8576b"
            ],
            [
             0.6666666666666666,
             "#ed7953"
            ],
            [
             0.7777777777777778,
             "#fb9f3a"
            ],
            [
             0.8888888888888888,
             "#fdca26"
            ],
            [
             1,
             "#f0f921"
            ]
           ],
           "sequentialminus": [
            [
             0,
             "#0d0887"
            ],
            [
             0.1111111111111111,
             "#46039f"
            ],
            [
             0.2222222222222222,
             "#7201a8"
            ],
            [
             0.3333333333333333,
             "#9c179e"
            ],
            [
             0.4444444444444444,
             "#bd3786"
            ],
            [
             0.5555555555555556,
             "#d8576b"
            ],
            [
             0.6666666666666666,
             "#ed7953"
            ],
            [
             0.7777777777777778,
             "#fb9f3a"
            ],
            [
             0.8888888888888888,
             "#fdca26"
            ],
            [
             1,
             "#f0f921"
            ]
           ]
          },
          "colorway": [
           "#636efa",
           "#EF553B",
           "#00cc96",
           "#ab63fa",
           "#FFA15A",
           "#19d3f3",
           "#FF6692",
           "#B6E880",
           "#FF97FF",
           "#FECB52"
          ],
          "font": {
           "color": "#2a3f5f"
          },
          "geo": {
           "bgcolor": "white",
           "lakecolor": "white",
           "landcolor": "#E5ECF6",
           "showlakes": true,
           "showland": true,
           "subunitcolor": "white"
          },
          "hoverlabel": {
           "align": "left"
          },
          "hovermode": "closest",
          "mapbox": {
           "style": "light"
          },
          "paper_bgcolor": "white",
          "plot_bgcolor": "#E5ECF6",
          "polar": {
           "angularaxis": {
            "gridcolor": "white",
            "linecolor": "white",
            "ticks": ""
           },
           "bgcolor": "#E5ECF6",
           "radialaxis": {
            "gridcolor": "white",
            "linecolor": "white",
            "ticks": ""
           }
          },
          "scene": {
           "xaxis": {
            "backgroundcolor": "#E5ECF6",
            "gridcolor": "white",
            "gridwidth": 2,
            "linecolor": "white",
            "showbackground": true,
            "ticks": "",
            "zerolinecolor": "white"
           },
           "yaxis": {
            "backgroundcolor": "#E5ECF6",
            "gridcolor": "white",
            "gridwidth": 2,
            "linecolor": "white",
            "showbackground": true,
            "ticks": "",
            "zerolinecolor": "white"
           },
           "zaxis": {
            "backgroundcolor": "#E5ECF6",
            "gridcolor": "white",
            "gridwidth": 2,
            "linecolor": "white",
            "showbackground": true,
            "ticks": "",
            "zerolinecolor": "white"
           }
          },
          "shapedefaults": {
           "line": {
            "color": "#2a3f5f"
           }
          },
          "ternary": {
           "aaxis": {
            "gridcolor": "white",
            "linecolor": "white",
            "ticks": ""
           },
           "baxis": {
            "gridcolor": "white",
            "linecolor": "white",
            "ticks": ""
           },
           "bgcolor": "#E5ECF6",
           "caxis": {
            "gridcolor": "white",
            "linecolor": "white",
            "ticks": ""
           }
          },
          "title": {
           "x": 0.05
          },
          "xaxis": {
           "automargin": true,
           "gridcolor": "white",
           "linecolor": "white",
           "ticks": "",
           "title": {
            "standoff": 15
           },
           "zerolinecolor": "white",
           "zerolinewidth": 2
          },
          "yaxis": {
           "automargin": true,
           "gridcolor": "white",
           "linecolor": "white",
           "ticks": "",
           "title": {
            "standoff": 15
           },
           "zerolinecolor": "white",
           "zerolinewidth": 2
          }
         }
        },
        "title": {
         "text": "Countries with more than 1 million Population"
        }
       }
      },
      "text/html": [
       "<div>                            <div id=\"0a30a674-187a-4ca4-8871-5c3ced5bc0aa\" class=\"plotly-graph-div\" style=\"height:525px; width:100%;\"></div>            <script type=\"text/javascript\">                require([\"plotly\"], function(Plotly) {                    window.PLOTLYENV=window.PLOTLYENV || {};                                    if (document.getElementById(\"0a30a674-187a-4ca4-8871-5c3ced5bc0aa\")) {                    Plotly.newPlot(                        \"0a30a674-187a-4ca4-8871-5c3ced5bc0aa\",                        [{\"coloraxis\": \"coloraxis\", \"geo\": \"geo\", \"hovertemplate\": \"<b>%{hovertext}</b><br><br>Country=%{location}<br>Population=%{z}<extra></extra>\", \"hovertext\": [\"China\", \"India\", \"United States\", \"Indonesia\", \"Pakistan\", \"Brazil\", \"Nigeria\", \"Bangladesh\", \"Russia\", \"Mexico\", \"Japan\", \"Ethiopia\", \"Philippines\", \"Egypt\", \"Vietnam\", \"DR Congo\", \"Turkey\", \"Iran\", \"Germany\", \"Thailand\", \"United Kingdom\", \"France\", \"Italy\", \"Tanzania\", \"South Africa\", \"Myanmar\", \"Kenya\", \"South Korea\", \"Colombia\", \"Spain\", \"Uganda\", \"Argentina\", \"Algeria\", \"Sudan\", \"Ukraine\", \"Iraq\", \"Afghanistan\", \"Poland\", \"Canada\", \"Morocco\", \"Saudi Arabia\", \"Uzbekistan\", \"Peru\", \"Angola\", \"Malaysia\", \"Mozambique\", \"Ghana\", \"Yemen\", \"Nepal\", \"Venezuela\", \"Madagascar\", \"Cameroon\", \"C\\u00f4te d'Ivoire\", \"North Korea\", \"Australia\", \"Niger\", \"Taiwan\", \"Sri Lanka\", \"Burkina Faso\", \"Mali\", \"Romania\", \"Malawi\", \"Chile\", \"Kazakhstan\", \"Zambia\", \"Guatemala\", \"Ecuador\", \"Syria\", \"Netherlands\", \"Senegal\", \"Cambodia\", \"Chad\", \"Somalia\", \"Zimbabwe\", \"Guinea\", \"Rwanda\", \"Benin\", \"Burundi\", \"Tunisia\", \"Bolivia\", \"Belgium\", \"Haiti\", \"Cuba\", \"South Sudan\", \"Dominican Republic\", \"Czech Republic (Czechia)\", \"Greece\", \"Jordan\", \"Portugal\", \"Azerbaijan\", \"Sweden\", \"Honduras\", \"United Arab Emirates\", \"Hungary\", \"Tajikistan\", \"Belarus\", \"Austria\", \"Papua New Guinea\", \"Serbia\", \"Israel\", \"Switzerland\", \"Togo\", \"Sierra Leone\", \"Hong Kong\", \"Laos\", \"Paraguay\", \"Bulgaria\", \"Libya\", \"Lebanon\", \"Nicaragua\", \"Kyrgyzstan\", \"El Salvador\", \"Turkmenistan\", \"Singapore\", \"Denmark\", \"Finland\", \"Congo\", \"Slovakia\", \"Norway\", \"Oman\", \"State of Palestine\", \"Costa Rica\", \"Liberia\", \"Ireland\", \"Central African Republic\", \"New Zealand\", \"Mauritania\", \"Panama\", \"Kuwait\", \"Croatia\", \"Moldova\", \"Georgia\", \"Eritrea\", \"Uruguay\", \"Bosnia and Herzegovina\", \"Mongolia\", \"Armenia\", \"Jamaica\", \"Qatar\", \"Albania\", \"Puerto Rico\", \"Lithuania\", \"Namibia\", \"Gambia\", \"Botswana\", \"Gabon\", \"Lesotho\", \"North Macedonia\", \"Slovenia\", \"Guinea-Bissau\", \"Latvia\", \"Bahrain\", \"Equatorial Guinea\", \"Trinidad and Tobago\", \"Estonia\", \"Timor-Leste\", \"Mauritius\", \"Cyprus\", \"Eswatini\"], \"locationmode\": \"country names\", \"locations\": [\"China\", \"India\", \"United States\", \"Indonesia\", \"Pakistan\", \"Brazil\", \"Nigeria\", \"Bangladesh\", \"Russia\", \"Mexico\", \"Japan\", \"Ethiopia\", \"Philippines\", \"Egypt\", \"Vietnam\", \"DR Congo\", \"Turkey\", \"Iran\", \"Germany\", \"Thailand\", \"United Kingdom\", \"France\", \"Italy\", \"Tanzania\", \"South Africa\", \"Myanmar\", \"Kenya\", \"South Korea\", \"Colombia\", \"Spain\", \"Uganda\", \"Argentina\", \"Algeria\", \"Sudan\", \"Ukraine\", \"Iraq\", \"Afghanistan\", \"Poland\", \"Canada\", \"Morocco\", \"Saudi Arabia\", \"Uzbekistan\", \"Peru\", \"Angola\", \"Malaysia\", \"Mozambique\", \"Ghana\", \"Yemen\", \"Nepal\", \"Venezuela\", \"Madagascar\", \"Cameroon\", \"C\\u00f4te d'Ivoire\", \"North Korea\", \"Australia\", \"Niger\", \"Taiwan\", \"Sri Lanka\", \"Burkina Faso\", \"Mali\", \"Romania\", \"Malawi\", \"Chile\", \"Kazakhstan\", \"Zambia\", \"Guatemala\", \"Ecuador\", \"Syria\", \"Netherlands\", \"Senegal\", \"Cambodia\", \"Chad\", \"Somalia\", \"Zimbabwe\", \"Guinea\", \"Rwanda\", \"Benin\", \"Burundi\", \"Tunisia\", \"Bolivia\", \"Belgium\", \"Haiti\", \"Cuba\", \"South Sudan\", \"Dominican Republic\", \"Czech Republic (Czechia)\", \"Greece\", \"Jordan\", \"Portugal\", \"Azerbaijan\", \"Sweden\", \"Honduras\", \"United Arab Emirates\", \"Hungary\", \"Tajikistan\", \"Belarus\", \"Austria\", \"Papua New Guinea\", \"Serbia\", \"Israel\", \"Switzerland\", \"Togo\", \"Sierra Leone\", \"Hong Kong\", \"Laos\", \"Paraguay\", \"Bulgaria\", \"Libya\", \"Lebanon\", \"Nicaragua\", \"Kyrgyzstan\", \"El Salvador\", \"Turkmenistan\", \"Singapore\", \"Denmark\", \"Finland\", \"Congo\", \"Slovakia\", \"Norway\", \"Oman\", \"State of Palestine\", \"Costa Rica\", \"Liberia\", \"Ireland\", \"Central African Republic\", \"New Zealand\", \"Mauritania\", \"Panama\", \"Kuwait\", \"Croatia\", \"Moldova\", \"Georgia\", \"Eritrea\", \"Uruguay\", \"Bosnia and Herzegovina\", \"Mongolia\", \"Armenia\", \"Jamaica\", \"Qatar\", \"Albania\", \"Puerto Rico\", \"Lithuania\", \"Namibia\", \"Gambia\", \"Botswana\", \"Gabon\", \"Lesotho\", \"North Macedonia\", \"Slovenia\", \"Guinea-Bissau\", \"Latvia\", \"Bahrain\", \"Equatorial Guinea\", \"Trinidad and Tobago\", \"Estonia\", \"Timor-Leste\", \"Mauritius\", \"Cyprus\", \"Eswatini\"], \"name\": \"\", \"type\": \"choropleth\", \"z\": [1439323776, 1380004385, 331002651, 273523615, 220892340, 212559417, 206139589, 164689383, 145934462, 128932753, 126476461, 114963588, 109581078, 102334404, 97338579, 89561403, 84339067, 83992949, 83783942, 69799978, 67886011, 65273511, 60461826, 59734218, 59308690, 54409800, 53771296, 51269185, 50882891, 46754778, 45741007, 45195774, 43851044, 43849260, 43733762, 40222493, 38928346, 37846611, 37742154, 36910560, 34813871, 33469203, 32971854, 32866272, 32365999, 31255435, 31072940, 29825964, 29136808, 28435940, 27691018, 26545863, 26378274, 25778816, 25499884, 24206644, 23816775, 21413249, 20903273, 20250833, 19237691, 19129952, 19116201, 18776707, 18383955, 17915568, 17643054, 17500658, 17134872, 16743927, 16718965, 16425864, 15893222, 14862924, 13132795, 12952218, 12123200, 11890784, 11818619, 11673021, 11589623, 11402528, 11326616, 11193725, 10847910, 10708981, 10423054, 10203134, 10196709, 10139177, 10099265, 9904607, 9890402, 9660351, 9537645, 9449323, 9006398, 8947024, 8737371, 8655535, 8654622, 8278724, 7976983, 7496981, 7275560, 7132538, 6948445, 6871292, 6825445, 6624554, 6524195, 6486205, 6031200, 5850342, 5792202, 5540720, 5518087, 5459642, 5421241, 5106626, 5101414, 5094118, 5057681, 4937786, 4829767, 4822233, 4649658, 4314767, 4270571, 4105267, 4033963, 3989167, 3546421, 3473730, 3280819, 3278290, 2963243, 2961167, 2881053, 2877797, 2860853, 2722289, 2540905, 2416668, 2351627, 2225734, 2142249, 2083374, 2078938, 1968001, 1886198, 1701575, 1402985, 1399488, 1326535, 1318445, 1271768, 1207359, 1160164]}],                        {\"coloraxis\": {\"colorbar\": {\"title\": {\"text\": \"Population\"}}, \"colorscale\": [[0.0, \"rgb(247,251,255)\"], [0.125, \"rgb(222,235,247)\"], [0.25, \"rgb(198,219,239)\"], [0.375, \"rgb(158,202,225)\"], [0.5, \"rgb(107,174,214)\"], [0.625, \"rgb(66,146,198)\"], [0.75, \"rgb(33,113,181)\"], [0.875, \"rgb(8,81,156)\"], [1.0, \"rgb(8,48,107)\"]], \"showscale\": true}, \"geo\": {\"center\": {}, \"domain\": {\"x\": [0.0, 1.0], \"y\": [0.0, 1.0]}}, \"legend\": {\"tracegroupgap\": 0}, \"template\": {\"data\": {\"bar\": [{\"error_x\": {\"color\": \"#2a3f5f\"}, \"error_y\": {\"color\": \"#2a3f5f\"}, \"marker\": {\"line\": {\"color\": \"#E5ECF6\", \"width\": 0.5}}, \"type\": \"bar\"}], \"barpolar\": [{\"marker\": {\"line\": {\"color\": \"#E5ECF6\", \"width\": 0.5}}, \"type\": \"barpolar\"}], \"carpet\": [{\"aaxis\": {\"endlinecolor\": \"#2a3f5f\", \"gridcolor\": \"white\", \"linecolor\": \"white\", \"minorgridcolor\": \"white\", \"startlinecolor\": \"#2a3f5f\"}, \"baxis\": {\"endlinecolor\": \"#2a3f5f\", \"gridcolor\": \"white\", \"linecolor\": \"white\", \"minorgridcolor\": \"white\", \"startlinecolor\": \"#2a3f5f\"}, \"type\": \"carpet\"}], \"choropleth\": [{\"colorbar\": {\"outlinewidth\": 0, \"ticks\": \"\"}, \"type\": \"choropleth\"}], \"contour\": [{\"colorbar\": {\"outlinewidth\": 0, \"ticks\": \"\"}, \"colorscale\": [[0.0, \"#0d0887\"], [0.1111111111111111, \"#46039f\"], [0.2222222222222222, \"#7201a8\"], [0.3333333333333333, \"#9c179e\"], [0.4444444444444444, \"#bd3786\"], [0.5555555555555556, \"#d8576b\"], [0.6666666666666666, \"#ed7953\"], [0.7777777777777778, \"#fb9f3a\"], [0.8888888888888888, \"#fdca26\"], [1.0, \"#f0f921\"]], \"type\": \"contour\"}], \"contourcarpet\": [{\"colorbar\": {\"outlinewidth\": 0, \"ticks\": \"\"}, \"type\": \"contourcarpet\"}], \"heatmap\": [{\"colorbar\": {\"outlinewidth\": 0, \"ticks\": \"\"}, \"colorscale\": [[0.0, \"#0d0887\"], [0.1111111111111111, \"#46039f\"], [0.2222222222222222, \"#7201a8\"], [0.3333333333333333, \"#9c179e\"], [0.4444444444444444, \"#bd3786\"], [0.5555555555555556, \"#d8576b\"], [0.6666666666666666, \"#ed7953\"], [0.7777777777777778, \"#fb9f3a\"], [0.8888888888888888, \"#fdca26\"], [1.0, \"#f0f921\"]], \"type\": \"heatmap\"}], \"heatmapgl\": [{\"colorbar\": {\"outlinewidth\": 0, \"ticks\": \"\"}, \"colorscale\": [[0.0, \"#0d0887\"], [0.1111111111111111, \"#46039f\"], [0.2222222222222222, \"#7201a8\"], [0.3333333333333333, \"#9c179e\"], [0.4444444444444444, \"#bd3786\"], [0.5555555555555556, \"#d8576b\"], [0.6666666666666666, \"#ed7953\"], [0.7777777777777778, \"#fb9f3a\"], [0.8888888888888888, \"#fdca26\"], [1.0, \"#f0f921\"]], \"type\": \"heatmapgl\"}], \"histogram\": [{\"marker\": {\"colorbar\": {\"outlinewidth\": 0, \"ticks\": \"\"}}, \"type\": \"histogram\"}], \"histogram2d\": [{\"colorbar\": {\"outlinewidth\": 0, \"ticks\": \"\"}, \"colorscale\": [[0.0, \"#0d0887\"], [0.1111111111111111, \"#46039f\"], [0.2222222222222222, \"#7201a8\"], [0.3333333333333333, \"#9c179e\"], [0.4444444444444444, \"#bd3786\"], [0.5555555555555556, \"#d8576b\"], [0.6666666666666666, \"#ed7953\"], [0.7777777777777778, \"#fb9f3a\"], [0.8888888888888888, \"#fdca26\"], [1.0, \"#f0f921\"]], \"type\": \"histogram2d\"}], \"histogram2dcontour\": [{\"colorbar\": {\"outlinewidth\": 0, \"ticks\": \"\"}, \"colorscale\": [[0.0, \"#0d0887\"], [0.1111111111111111, \"#46039f\"], [0.2222222222222222, \"#7201a8\"], [0.3333333333333333, \"#9c179e\"], [0.4444444444444444, \"#bd3786\"], [0.5555555555555556, \"#d8576b\"], [0.6666666666666666, \"#ed7953\"], [0.7777777777777778, \"#fb9f3a\"], [0.8888888888888888, \"#fdca26\"], [1.0, \"#f0f921\"]], \"type\": \"histogram2dcontour\"}], \"mesh3d\": [{\"colorbar\": {\"outlinewidth\": 0, \"ticks\": \"\"}, \"type\": \"mesh3d\"}], \"parcoords\": [{\"line\": {\"colorbar\": {\"outlinewidth\": 0, \"ticks\": \"\"}}, \"type\": \"parcoords\"}], \"pie\": [{\"automargin\": true, \"type\": \"pie\"}], \"scatter\": [{\"marker\": {\"colorbar\": {\"outlinewidth\": 0, \"ticks\": \"\"}}, \"type\": \"scatter\"}], \"scatter3d\": [{\"line\": {\"colorbar\": {\"outlinewidth\": 0, \"ticks\": \"\"}}, \"marker\": {\"colorbar\": {\"outlinewidth\": 0, \"ticks\": \"\"}}, \"type\": \"scatter3d\"}], \"scattercarpet\": [{\"marker\": {\"colorbar\": {\"outlinewidth\": 0, \"ticks\": \"\"}}, \"type\": \"scattercarpet\"}], \"scattergeo\": [{\"marker\": {\"colorbar\": {\"outlinewidth\": 0, \"ticks\": \"\"}}, \"type\": \"scattergeo\"}], \"scattergl\": [{\"marker\": {\"colorbar\": {\"outlinewidth\": 0, \"ticks\": \"\"}}, \"type\": \"scattergl\"}], \"scattermapbox\": [{\"marker\": {\"colorbar\": {\"outlinewidth\": 0, \"ticks\": \"\"}}, \"type\": \"scattermapbox\"}], \"scatterpolar\": [{\"marker\": {\"colorbar\": {\"outlinewidth\": 0, \"ticks\": \"\"}}, \"type\": \"scatterpolar\"}], \"scatterpolargl\": [{\"marker\": {\"colorbar\": {\"outlinewidth\": 0, \"ticks\": \"\"}}, \"type\": \"scatterpolargl\"}], \"scatterternary\": [{\"marker\": {\"colorbar\": {\"outlinewidth\": 0, \"ticks\": \"\"}}, \"type\": \"scatterternary\"}], \"surface\": [{\"colorbar\": {\"outlinewidth\": 0, \"ticks\": \"\"}, \"colorscale\": [[0.0, \"#0d0887\"], [0.1111111111111111, \"#46039f\"], [0.2222222222222222, \"#7201a8\"], [0.3333333333333333, \"#9c179e\"], [0.4444444444444444, \"#bd3786\"], [0.5555555555555556, \"#d8576b\"], [0.6666666666666666, \"#ed7953\"], [0.7777777777777778, \"#fb9f3a\"], [0.8888888888888888, \"#fdca26\"], [1.0, \"#f0f921\"]], \"type\": \"surface\"}], \"table\": [{\"cells\": {\"fill\": {\"color\": \"#EBF0F8\"}, \"line\": {\"color\": \"white\"}}, \"header\": {\"fill\": {\"color\": \"#C8D4E3\"}, \"line\": {\"color\": \"white\"}}, \"type\": \"table\"}]}, \"layout\": {\"annotationdefaults\": {\"arrowcolor\": \"#2a3f5f\", \"arrowhead\": 0, \"arrowwidth\": 1}, \"autotypenumbers\": \"strict\", \"coloraxis\": {\"colorbar\": {\"outlinewidth\": 0, \"ticks\": \"\"}}, \"colorscale\": {\"diverging\": [[0, \"#8e0152\"], [0.1, \"#c51b7d\"], [0.2, \"#de77ae\"], [0.3, \"#f1b6da\"], [0.4, \"#fde0ef\"], [0.5, \"#f7f7f7\"], [0.6, \"#e6f5d0\"], [0.7, \"#b8e186\"], [0.8, \"#7fbc41\"], [0.9, \"#4d9221\"], [1, \"#276419\"]], \"sequential\": [[0.0, \"#0d0887\"], [0.1111111111111111, \"#46039f\"], [0.2222222222222222, \"#7201a8\"], [0.3333333333333333, \"#9c179e\"], [0.4444444444444444, \"#bd3786\"], [0.5555555555555556, \"#d8576b\"], [0.6666666666666666, \"#ed7953\"], [0.7777777777777778, \"#fb9f3a\"], [0.8888888888888888, \"#fdca26\"], [1.0, \"#f0f921\"]], \"sequentialminus\": [[0.0, \"#0d0887\"], [0.1111111111111111, \"#46039f\"], [0.2222222222222222, \"#7201a8\"], [0.3333333333333333, \"#9c179e\"], [0.4444444444444444, \"#bd3786\"], [0.5555555555555556, \"#d8576b\"], [0.6666666666666666, \"#ed7953\"], [0.7777777777777778, \"#fb9f3a\"], [0.8888888888888888, \"#fdca26\"], [1.0, \"#f0f921\"]]}, \"colorway\": [\"#636efa\", \"#EF553B\", \"#00cc96\", \"#ab63fa\", \"#FFA15A\", \"#19d3f3\", \"#FF6692\", \"#B6E880\", \"#FF97FF\", \"#FECB52\"], \"font\": {\"color\": \"#2a3f5f\"}, \"geo\": {\"bgcolor\": \"white\", \"lakecolor\": \"white\", \"landcolor\": \"#E5ECF6\", \"showlakes\": true, \"showland\": true, \"subunitcolor\": \"white\"}, \"hoverlabel\": {\"align\": \"left\"}, \"hovermode\": \"closest\", \"mapbox\": {\"style\": \"light\"}, \"paper_bgcolor\": \"white\", \"plot_bgcolor\": \"#E5ECF6\", \"polar\": {\"angularaxis\": {\"gridcolor\": \"white\", \"linecolor\": \"white\", \"ticks\": \"\"}, \"bgcolor\": \"#E5ECF6\", \"radialaxis\": {\"gridcolor\": \"white\", \"linecolor\": \"white\", \"ticks\": \"\"}}, \"scene\": {\"xaxis\": {\"backgroundcolor\": \"#E5ECF6\", \"gridcolor\": \"white\", \"gridwidth\": 2, \"linecolor\": \"white\", \"showbackground\": true, \"ticks\": \"\", \"zerolinecolor\": \"white\"}, \"yaxis\": {\"backgroundcolor\": \"#E5ECF6\", \"gridcolor\": \"white\", \"gridwidth\": 2, \"linecolor\": \"white\", \"showbackground\": true, \"ticks\": \"\", \"zerolinecolor\": \"white\"}, \"zaxis\": {\"backgroundcolor\": \"#E5ECF6\", \"gridcolor\": \"white\", \"gridwidth\": 2, \"linecolor\": \"white\", \"showbackground\": true, \"ticks\": \"\", \"zerolinecolor\": \"white\"}}, \"shapedefaults\": {\"line\": {\"color\": \"#2a3f5f\"}}, \"ternary\": {\"aaxis\": {\"gridcolor\": \"white\", \"linecolor\": \"white\", \"ticks\": \"\"}, \"baxis\": {\"gridcolor\": \"white\", \"linecolor\": \"white\", \"ticks\": \"\"}, \"bgcolor\": \"#E5ECF6\", \"caxis\": {\"gridcolor\": \"white\", \"linecolor\": \"white\", \"ticks\": \"\"}}, \"title\": {\"x\": 0.05}, \"xaxis\": {\"automargin\": true, \"gridcolor\": \"white\", \"linecolor\": \"white\", \"ticks\": \"\", \"title\": {\"standoff\": 15}, \"zerolinecolor\": \"white\", \"zerolinewidth\": 2}, \"yaxis\": {\"automargin\": true, \"gridcolor\": \"white\", \"linecolor\": \"white\", \"ticks\": \"\", \"title\": {\"standoff\": 15}, \"zerolinecolor\": \"white\", \"zerolinewidth\": 2}}}, \"title\": {\"text\": \"Countries with more than 1 million Population\"}},                        {\"responsive\": true}                    ).then(function(){\n",
       "                            \n",
       "var gd = document.getElementById('0a30a674-187a-4ca4-8871-5c3ced5bc0aa');\n",
       "var x = new MutationObserver(function (mutations, observer) {{\n",
       "        var display = window.getComputedStyle(gd).display;\n",
       "        if (!display || display === 'none') {{\n",
       "            console.log([gd, 'removed!']);\n",
       "            Plotly.purge(gd);\n",
       "            observer.disconnect();\n",
       "        }}\n",
       "}});\n",
       "\n",
       "// Listen for the removal of the full notebook cells\n",
       "var notebookContainer = gd.closest('#notebook-container');\n",
       "if (notebookContainer) {{\n",
       "    x.observe(notebookContainer, {childList: true});\n",
       "}}\n",
       "\n",
       "// Listen for the clearing of the current output cell\n",
       "var outputEl = gd.closest('.output');\n",
       "if (outputEl) {{\n",
       "    x.observe(outputEl, {childList: true});\n",
       "}}\n",
       "\n",
       "                        })                };                });            </script>        </div>"
      ]
     },
     "metadata": {},
     "output_type": "display_data"
    }
   ],
   "source": [
    "fig = px.choropleth(population_more_than_one_million, locations=\"Country\", \n",
    "                    locationmode='country names', color=\"Population\", \n",
    "                    hover_name=\"Country\",\n",
    "                    color_continuous_scale=\"blues\", \n",
    "                    title='Countries with more than 1 million Population')\n",
    "fig.update(layout_coloraxis_showscale=True)\n",
    "fig.show()"
   ]
  },
  {
   "cell_type": "code",
   "execution_count": 351,
   "metadata": {},
   "outputs": [],
   "source": [
    "population_more_than_one_billion = population[(population['Population'] >= 1000000000) & (population['Year']==2020)]"
   ]
  },
  {
   "cell_type": "code",
   "execution_count": 352,
   "metadata": {},
   "outputs": [
    {
     "data": {
      "text/html": [
       "<div>\n",
       "<style scoped>\n",
       "    .dataframe tbody tr th:only-of-type {\n",
       "        vertical-align: middle;\n",
       "    }\n",
       "\n",
       "    .dataframe tbody tr th {\n",
       "        vertical-align: top;\n",
       "    }\n",
       "\n",
       "    .dataframe thead th {\n",
       "        text-align: right;\n",
       "    }\n",
       "</style>\n",
       "<table border=\"1\" class=\"dataframe\">\n",
       "  <thead>\n",
       "    <tr style=\"text-align: right;\">\n",
       "      <th></th>\n",
       "      <th>Year</th>\n",
       "      <th>Country</th>\n",
       "      <th>Population</th>\n",
       "      <th>Yearly % Change</th>\n",
       "      <th>Yearly Change</th>\n",
       "      <th>Migrants (net)</th>\n",
       "      <th>Median Age</th>\n",
       "      <th>Fertility Rate</th>\n",
       "      <th>Density (P/Km²)</th>\n",
       "      <th>Urban Pop %</th>\n",
       "      <th>Urban Population</th>\n",
       "      <th>Country's Share of World Pop %</th>\n",
       "      <th>World Population</th>\n",
       "      <th>Country Global Rank</th>\n",
       "    </tr>\n",
       "  </thead>\n",
       "  <tbody>\n",
       "    <tr>\n",
       "      <th>0</th>\n",
       "      <td>2020</td>\n",
       "      <td>China</td>\n",
       "      <td>1439323776</td>\n",
       "      <td>0.39</td>\n",
       "      <td>5540090</td>\n",
       "      <td>-348399.0</td>\n",
       "      <td>38.4</td>\n",
       "      <td>1.69</td>\n",
       "      <td>153</td>\n",
       "      <td>60.8</td>\n",
       "      <td>875075919.0</td>\n",
       "      <td>18.47</td>\n",
       "      <td>7794798739</td>\n",
       "      <td>1</td>\n",
       "    </tr>\n",
       "    <tr>\n",
       "      <th>18</th>\n",
       "      <td>2020</td>\n",
       "      <td>India</td>\n",
       "      <td>1380004385</td>\n",
       "      <td>0.99</td>\n",
       "      <td>13586631</td>\n",
       "      <td>-532687.0</td>\n",
       "      <td>28.4</td>\n",
       "      <td>2.24</td>\n",
       "      <td>464</td>\n",
       "      <td>35.0</td>\n",
       "      <td>483098640.0</td>\n",
       "      <td>17.70</td>\n",
       "      <td>7794798739</td>\n",
       "      <td>2</td>\n",
       "    </tr>\n",
       "  </tbody>\n",
       "</table>\n",
       "</div>"
      ],
      "text/plain": [
       "    Year Country  Population  Yearly % Change  Yearly Change  Migrants (net)  \\\n",
       "0   2020   China  1439323776             0.39        5540090       -348399.0   \n",
       "18  2020   India  1380004385             0.99       13586631       -532687.0   \n",
       "\n",
       "    Median Age  Fertility Rate Density (P/Km²)  Urban Pop %  Urban Population  \\\n",
       "0         38.4            1.69             153         60.8       875075919.0   \n",
       "18        28.4            2.24             464         35.0       483098640.0   \n",
       "\n",
       "    Country's Share of World Pop %  World Population  Country Global Rank  \n",
       "0                            18.47        7794798739                    1  \n",
       "18                           17.70        7794798739                    2  "
      ]
     },
     "execution_count": 352,
     "metadata": {},
     "output_type": "execute_result"
    }
   ],
   "source": [
    "population_more_than_one_billion"
   ]
  },
  {
   "cell_type": "code",
   "execution_count": 353,
   "metadata": {},
   "outputs": [
    {
     "name": "stdout",
     "output_type": "stream",
     "text": [
      "There is 2 countries in the world with more than 1 Billion population.\n"
     ]
    }
   ],
   "source": [
    "number_of_countries = population_more_than_one_billion.shape[0]\n",
    "print(\"There is {} countries in the world with more than 1 Billion population.\".format(number_of_countries))"
   ]
  },
  {
   "cell_type": "markdown",
   "metadata": {},
   "source": [
    "# Countries with more then 1 billion population."
   ]
  },
  {
   "cell_type": "code",
   "execution_count": 361,
   "metadata": {},
   "outputs": [
    {
     "data": {
      "application/vnd.plotly.v1+json": {
       "config": {
        "plotlyServerURL": "https://plot.ly"
       },
       "data": [
        {
         "coloraxis": "coloraxis",
         "geo": "geo",
         "hovertemplate": "<b>%{hovertext}</b><br><br>Country=%{location}<br>Population=%{z}<extra></extra>",
         "hovertext": [
          "China",
          "India"
         ],
         "locationmode": "country names",
         "locations": [
          "China",
          "India"
         ],
         "name": "",
         "type": "choropleth",
         "z": [
          1439323776,
          1380004385
         ]
        }
       ],
       "layout": {
        "coloraxis": {
         "colorbar": {
          "title": {
           "text": "Population"
          }
         },
         "colorscale": [
          [
           0,
           "rgb(255,245,240)"
          ],
          [
           0.125,
           "rgb(254,224,210)"
          ],
          [
           0.25,
           "rgb(252,187,161)"
          ],
          [
           0.375,
           "rgb(252,146,114)"
          ],
          [
           0.5,
           "rgb(251,106,74)"
          ],
          [
           0.625,
           "rgb(239,59,44)"
          ],
          [
           0.75,
           "rgb(203,24,29)"
          ],
          [
           0.875,
           "rgb(165,15,21)"
          ],
          [
           1,
           "rgb(103,0,13)"
          ]
         ],
         "showscale": true
        },
        "geo": {
         "center": {},
         "domain": {
          "x": [
           0,
           1
          ],
          "y": [
           0,
           1
          ]
         }
        },
        "legend": {
         "tracegroupgap": 0
        },
        "template": {
         "data": {
          "bar": [
           {
            "error_x": {
             "color": "#2a3f5f"
            },
            "error_y": {
             "color": "#2a3f5f"
            },
            "marker": {
             "line": {
              "color": "#E5ECF6",
              "width": 0.5
             }
            },
            "type": "bar"
           }
          ],
          "barpolar": [
           {
            "marker": {
             "line": {
              "color": "#E5ECF6",
              "width": 0.5
             }
            },
            "type": "barpolar"
           }
          ],
          "carpet": [
           {
            "aaxis": {
             "endlinecolor": "#2a3f5f",
             "gridcolor": "white",
             "linecolor": "white",
             "minorgridcolor": "white",
             "startlinecolor": "#2a3f5f"
            },
            "baxis": {
             "endlinecolor": "#2a3f5f",
             "gridcolor": "white",
             "linecolor": "white",
             "minorgridcolor": "white",
             "startlinecolor": "#2a3f5f"
            },
            "type": "carpet"
           }
          ],
          "choropleth": [
           {
            "colorbar": {
             "outlinewidth": 0,
             "ticks": ""
            },
            "type": "choropleth"
           }
          ],
          "contour": [
           {
            "colorbar": {
             "outlinewidth": 0,
             "ticks": ""
            },
            "colorscale": [
             [
              0,
              "#0d0887"
             ],
             [
              0.1111111111111111,
              "#46039f"
             ],
             [
              0.2222222222222222,
              "#7201a8"
             ],
             [
              0.3333333333333333,
              "#9c179e"
             ],
             [
              0.4444444444444444,
              "#bd3786"
             ],
             [
              0.5555555555555556,
              "#d8576b"
             ],
             [
              0.6666666666666666,
              "#ed7953"
             ],
             [
              0.7777777777777778,
              "#fb9f3a"
             ],
             [
              0.8888888888888888,
              "#fdca26"
             ],
             [
              1,
              "#f0f921"
             ]
            ],
            "type": "contour"
           }
          ],
          "contourcarpet": [
           {
            "colorbar": {
             "outlinewidth": 0,
             "ticks": ""
            },
            "type": "contourcarpet"
           }
          ],
          "heatmap": [
           {
            "colorbar": {
             "outlinewidth": 0,
             "ticks": ""
            },
            "colorscale": [
             [
              0,
              "#0d0887"
             ],
             [
              0.1111111111111111,
              "#46039f"
             ],
             [
              0.2222222222222222,
              "#7201a8"
             ],
             [
              0.3333333333333333,
              "#9c179e"
             ],
             [
              0.4444444444444444,
              "#bd3786"
             ],
             [
              0.5555555555555556,
              "#d8576b"
             ],
             [
              0.6666666666666666,
              "#ed7953"
             ],
             [
              0.7777777777777778,
              "#fb9f3a"
             ],
             [
              0.8888888888888888,
              "#fdca26"
             ],
             [
              1,
              "#f0f921"
             ]
            ],
            "type": "heatmap"
           }
          ],
          "heatmapgl": [
           {
            "colorbar": {
             "outlinewidth": 0,
             "ticks": ""
            },
            "colorscale": [
             [
              0,
              "#0d0887"
             ],
             [
              0.1111111111111111,
              "#46039f"
             ],
             [
              0.2222222222222222,
              "#7201a8"
             ],
             [
              0.3333333333333333,
              "#9c179e"
             ],
             [
              0.4444444444444444,
              "#bd3786"
             ],
             [
              0.5555555555555556,
              "#d8576b"
             ],
             [
              0.6666666666666666,
              "#ed7953"
             ],
             [
              0.7777777777777778,
              "#fb9f3a"
             ],
             [
              0.8888888888888888,
              "#fdca26"
             ],
             [
              1,
              "#f0f921"
             ]
            ],
            "type": "heatmapgl"
           }
          ],
          "histogram": [
           {
            "marker": {
             "colorbar": {
              "outlinewidth": 0,
              "ticks": ""
             }
            },
            "type": "histogram"
           }
          ],
          "histogram2d": [
           {
            "colorbar": {
             "outlinewidth": 0,
             "ticks": ""
            },
            "colorscale": [
             [
              0,
              "#0d0887"
             ],
             [
              0.1111111111111111,
              "#46039f"
             ],
             [
              0.2222222222222222,
              "#7201a8"
             ],
             [
              0.3333333333333333,
              "#9c179e"
             ],
             [
              0.4444444444444444,
              "#bd3786"
             ],
             [
              0.5555555555555556,
              "#d8576b"
             ],
             [
              0.6666666666666666,
              "#ed7953"
             ],
             [
              0.7777777777777778,
              "#fb9f3a"
             ],
             [
              0.8888888888888888,
              "#fdca26"
             ],
             [
              1,
              "#f0f921"
             ]
            ],
            "type": "histogram2d"
           }
          ],
          "histogram2dcontour": [
           {
            "colorbar": {
             "outlinewidth": 0,
             "ticks": ""
            },
            "colorscale": [
             [
              0,
              "#0d0887"
             ],
             [
              0.1111111111111111,
              "#46039f"
             ],
             [
              0.2222222222222222,
              "#7201a8"
             ],
             [
              0.3333333333333333,
              "#9c179e"
             ],
             [
              0.4444444444444444,
              "#bd3786"
             ],
             [
              0.5555555555555556,
              "#d8576b"
             ],
             [
              0.6666666666666666,
              "#ed7953"
             ],
             [
              0.7777777777777778,
              "#fb9f3a"
             ],
             [
              0.8888888888888888,
              "#fdca26"
             ],
             [
              1,
              "#f0f921"
             ]
            ],
            "type": "histogram2dcontour"
           }
          ],
          "mesh3d": [
           {
            "colorbar": {
             "outlinewidth": 0,
             "ticks": ""
            },
            "type": "mesh3d"
           }
          ],
          "parcoords": [
           {
            "line": {
             "colorbar": {
              "outlinewidth": 0,
              "ticks": ""
             }
            },
            "type": "parcoords"
           }
          ],
          "pie": [
           {
            "automargin": true,
            "type": "pie"
           }
          ],
          "scatter": [
           {
            "marker": {
             "colorbar": {
              "outlinewidth": 0,
              "ticks": ""
             }
            },
            "type": "scatter"
           }
          ],
          "scatter3d": [
           {
            "line": {
             "colorbar": {
              "outlinewidth": 0,
              "ticks": ""
             }
            },
            "marker": {
             "colorbar": {
              "outlinewidth": 0,
              "ticks": ""
             }
            },
            "type": "scatter3d"
           }
          ],
          "scattercarpet": [
           {
            "marker": {
             "colorbar": {
              "outlinewidth": 0,
              "ticks": ""
             }
            },
            "type": "scattercarpet"
           }
          ],
          "scattergeo": [
           {
            "marker": {
             "colorbar": {
              "outlinewidth": 0,
              "ticks": ""
             }
            },
            "type": "scattergeo"
           }
          ],
          "scattergl": [
           {
            "marker": {
             "colorbar": {
              "outlinewidth": 0,
              "ticks": ""
             }
            },
            "type": "scattergl"
           }
          ],
          "scattermapbox": [
           {
            "marker": {
             "colorbar": {
              "outlinewidth": 0,
              "ticks": ""
             }
            },
            "type": "scattermapbox"
           }
          ],
          "scatterpolar": [
           {
            "marker": {
             "colorbar": {
              "outlinewidth": 0,
              "ticks": ""
             }
            },
            "type": "scatterpolar"
           }
          ],
          "scatterpolargl": [
           {
            "marker": {
             "colorbar": {
              "outlinewidth": 0,
              "ticks": ""
             }
            },
            "type": "scatterpolargl"
           }
          ],
          "scatterternary": [
           {
            "marker": {
             "colorbar": {
              "outlinewidth": 0,
              "ticks": ""
             }
            },
            "type": "scatterternary"
           }
          ],
          "surface": [
           {
            "colorbar": {
             "outlinewidth": 0,
             "ticks": ""
            },
            "colorscale": [
             [
              0,
              "#0d0887"
             ],
             [
              0.1111111111111111,
              "#46039f"
             ],
             [
              0.2222222222222222,
              "#7201a8"
             ],
             [
              0.3333333333333333,
              "#9c179e"
             ],
             [
              0.4444444444444444,
              "#bd3786"
             ],
             [
              0.5555555555555556,
              "#d8576b"
             ],
             [
              0.6666666666666666,
              "#ed7953"
             ],
             [
              0.7777777777777778,
              "#fb9f3a"
             ],
             [
              0.8888888888888888,
              "#fdca26"
             ],
             [
              1,
              "#f0f921"
             ]
            ],
            "type": "surface"
           }
          ],
          "table": [
           {
            "cells": {
             "fill": {
              "color": "#EBF0F8"
             },
             "line": {
              "color": "white"
             }
            },
            "header": {
             "fill": {
              "color": "#C8D4E3"
             },
             "line": {
              "color": "white"
             }
            },
            "type": "table"
           }
          ]
         },
         "layout": {
          "annotationdefaults": {
           "arrowcolor": "#2a3f5f",
           "arrowhead": 0,
           "arrowwidth": 1
          },
          "autotypenumbers": "strict",
          "coloraxis": {
           "colorbar": {
            "outlinewidth": 0,
            "ticks": ""
           }
          },
          "colorscale": {
           "diverging": [
            [
             0,
             "#8e0152"
            ],
            [
             0.1,
             "#c51b7d"
            ],
            [
             0.2,
             "#de77ae"
            ],
            [
             0.3,
             "#f1b6da"
            ],
            [
             0.4,
             "#fde0ef"
            ],
            [
             0.5,
             "#f7f7f7"
            ],
            [
             0.6,
             "#e6f5d0"
            ],
            [
             0.7,
             "#b8e186"
            ],
            [
             0.8,
             "#7fbc41"
            ],
            [
             0.9,
             "#4d9221"
            ],
            [
             1,
             "#276419"
            ]
           ],
           "sequential": [
            [
             0,
             "#0d0887"
            ],
            [
             0.1111111111111111,
             "#46039f"
            ],
            [
             0.2222222222222222,
             "#7201a8"
            ],
            [
             0.3333333333333333,
             "#9c179e"
            ],
            [
             0.4444444444444444,
             "#bd3786"
            ],
            [
             0.5555555555555556,
             "#d8576b"
            ],
            [
             0.6666666666666666,
             "#ed7953"
            ],
            [
             0.7777777777777778,
             "#fb9f3a"
            ],
            [
             0.8888888888888888,
             "#fdca26"
            ],
            [
             1,
             "#f0f921"
            ]
           ],
           "sequentialminus": [
            [
             0,
             "#0d0887"
            ],
            [
             0.1111111111111111,
             "#46039f"
            ],
            [
             0.2222222222222222,
             "#7201a8"
            ],
            [
             0.3333333333333333,
             "#9c179e"
            ],
            [
             0.4444444444444444,
             "#bd3786"
            ],
            [
             0.5555555555555556,
             "#d8576b"
            ],
            [
             0.6666666666666666,
             "#ed7953"
            ],
            [
             0.7777777777777778,
             "#fb9f3a"
            ],
            [
             0.8888888888888888,
             "#fdca26"
            ],
            [
             1,
             "#f0f921"
            ]
           ]
          },
          "colorway": [
           "#636efa",
           "#EF553B",
           "#00cc96",
           "#ab63fa",
           "#FFA15A",
           "#19d3f3",
           "#FF6692",
           "#B6E880",
           "#FF97FF",
           "#FECB52"
          ],
          "font": {
           "color": "#2a3f5f"
          },
          "geo": {
           "bgcolor": "white",
           "lakecolor": "white",
           "landcolor": "#E5ECF6",
           "showlakes": true,
           "showland": true,
           "subunitcolor": "white"
          },
          "hoverlabel": {
           "align": "left"
          },
          "hovermode": "closest",
          "mapbox": {
           "style": "light"
          },
          "paper_bgcolor": "white",
          "plot_bgcolor": "#E5ECF6",
          "polar": {
           "angularaxis": {
            "gridcolor": "white",
            "linecolor": "white",
            "ticks": ""
           },
           "bgcolor": "#E5ECF6",
           "radialaxis": {
            "gridcolor": "white",
            "linecolor": "white",
            "ticks": ""
           }
          },
          "scene": {
           "xaxis": {
            "backgroundcolor": "#E5ECF6",
            "gridcolor": "white",
            "gridwidth": 2,
            "linecolor": "white",
            "showbackground": true,
            "ticks": "",
            "zerolinecolor": "white"
           },
           "yaxis": {
            "backgroundcolor": "#E5ECF6",
            "gridcolor": "white",
            "gridwidth": 2,
            "linecolor": "white",
            "showbackground": true,
            "ticks": "",
            "zerolinecolor": "white"
           },
           "zaxis": {
            "backgroundcolor": "#E5ECF6",
            "gridcolor": "white",
            "gridwidth": 2,
            "linecolor": "white",
            "showbackground": true,
            "ticks": "",
            "zerolinecolor": "white"
           }
          },
          "shapedefaults": {
           "line": {
            "color": "#2a3f5f"
           }
          },
          "ternary": {
           "aaxis": {
            "gridcolor": "white",
            "linecolor": "white",
            "ticks": ""
           },
           "baxis": {
            "gridcolor": "white",
            "linecolor": "white",
            "ticks": ""
           },
           "bgcolor": "#E5ECF6",
           "caxis": {
            "gridcolor": "white",
            "linecolor": "white",
            "ticks": ""
           }
          },
          "title": {
           "x": 0.05
          },
          "xaxis": {
           "automargin": true,
           "gridcolor": "white",
           "linecolor": "white",
           "ticks": "",
           "title": {
            "standoff": 15
           },
           "zerolinecolor": "white",
           "zerolinewidth": 2
          },
          "yaxis": {
           "automargin": true,
           "gridcolor": "white",
           "linecolor": "white",
           "ticks": "",
           "title": {
            "standoff": 15
           },
           "zerolinecolor": "white",
           "zerolinewidth": 2
          }
         }
        },
        "title": {
         "text": "Countries with more than 1 billion Population"
        }
       }
      },
      "text/html": [
       "<div>                            <div id=\"ee0843e6-87c1-4265-8e27-f8c34f06a0a0\" class=\"plotly-graph-div\" style=\"height:525px; width:100%;\"></div>            <script type=\"text/javascript\">                require([\"plotly\"], function(Plotly) {                    window.PLOTLYENV=window.PLOTLYENV || {};                                    if (document.getElementById(\"ee0843e6-87c1-4265-8e27-f8c34f06a0a0\")) {                    Plotly.newPlot(                        \"ee0843e6-87c1-4265-8e27-f8c34f06a0a0\",                        [{\"coloraxis\": \"coloraxis\", \"geo\": \"geo\", \"hovertemplate\": \"<b>%{hovertext}</b><br><br>Country=%{location}<br>Population=%{z}<extra></extra>\", \"hovertext\": [\"China\", \"India\"], \"locationmode\": \"country names\", \"locations\": [\"China\", \"India\"], \"name\": \"\", \"type\": \"choropleth\", \"z\": [1439323776, 1380004385]}],                        {\"coloraxis\": {\"colorbar\": {\"title\": {\"text\": \"Population\"}}, \"colorscale\": [[0.0, \"rgb(255,245,240)\"], [0.125, \"rgb(254,224,210)\"], [0.25, \"rgb(252,187,161)\"], [0.375, \"rgb(252,146,114)\"], [0.5, \"rgb(251,106,74)\"], [0.625, \"rgb(239,59,44)\"], [0.75, \"rgb(203,24,29)\"], [0.875, \"rgb(165,15,21)\"], [1.0, \"rgb(103,0,13)\"]], \"showscale\": true}, \"geo\": {\"center\": {}, \"domain\": {\"x\": [0.0, 1.0], \"y\": [0.0, 1.0]}}, \"legend\": {\"tracegroupgap\": 0}, \"template\": {\"data\": {\"bar\": [{\"error_x\": {\"color\": \"#2a3f5f\"}, \"error_y\": {\"color\": \"#2a3f5f\"}, \"marker\": {\"line\": {\"color\": \"#E5ECF6\", \"width\": 0.5}}, \"type\": \"bar\"}], \"barpolar\": [{\"marker\": {\"line\": {\"color\": \"#E5ECF6\", \"width\": 0.5}}, \"type\": \"barpolar\"}], \"carpet\": [{\"aaxis\": {\"endlinecolor\": \"#2a3f5f\", \"gridcolor\": \"white\", \"linecolor\": \"white\", \"minorgridcolor\": \"white\", \"startlinecolor\": \"#2a3f5f\"}, \"baxis\": {\"endlinecolor\": \"#2a3f5f\", \"gridcolor\": \"white\", \"linecolor\": \"white\", \"minorgridcolor\": \"white\", \"startlinecolor\": \"#2a3f5f\"}, \"type\": \"carpet\"}], \"choropleth\": [{\"colorbar\": {\"outlinewidth\": 0, \"ticks\": \"\"}, \"type\": \"choropleth\"}], \"contour\": [{\"colorbar\": {\"outlinewidth\": 0, \"ticks\": \"\"}, \"colorscale\": [[0.0, \"#0d0887\"], [0.1111111111111111, \"#46039f\"], [0.2222222222222222, \"#7201a8\"], [0.3333333333333333, \"#9c179e\"], [0.4444444444444444, \"#bd3786\"], [0.5555555555555556, \"#d8576b\"], [0.6666666666666666, \"#ed7953\"], [0.7777777777777778, \"#fb9f3a\"], [0.8888888888888888, \"#fdca26\"], [1.0, \"#f0f921\"]], \"type\": \"contour\"}], \"contourcarpet\": [{\"colorbar\": {\"outlinewidth\": 0, \"ticks\": \"\"}, \"type\": \"contourcarpet\"}], \"heatmap\": [{\"colorbar\": {\"outlinewidth\": 0, \"ticks\": \"\"}, \"colorscale\": [[0.0, \"#0d0887\"], [0.1111111111111111, \"#46039f\"], [0.2222222222222222, \"#7201a8\"], [0.3333333333333333, \"#9c179e\"], [0.4444444444444444, \"#bd3786\"], [0.5555555555555556, \"#d8576b\"], [0.6666666666666666, \"#ed7953\"], [0.7777777777777778, \"#fb9f3a\"], [0.8888888888888888, \"#fdca26\"], [1.0, \"#f0f921\"]], \"type\": \"heatmap\"}], \"heatmapgl\": [{\"colorbar\": {\"outlinewidth\": 0, \"ticks\": \"\"}, \"colorscale\": [[0.0, \"#0d0887\"], [0.1111111111111111, \"#46039f\"], [0.2222222222222222, \"#7201a8\"], [0.3333333333333333, \"#9c179e\"], [0.4444444444444444, \"#bd3786\"], [0.5555555555555556, \"#d8576b\"], [0.6666666666666666, \"#ed7953\"], [0.7777777777777778, \"#fb9f3a\"], [0.8888888888888888, \"#fdca26\"], [1.0, \"#f0f921\"]], \"type\": \"heatmapgl\"}], \"histogram\": [{\"marker\": {\"colorbar\": {\"outlinewidth\": 0, \"ticks\": \"\"}}, \"type\": \"histogram\"}], \"histogram2d\": [{\"colorbar\": {\"outlinewidth\": 0, \"ticks\": \"\"}, \"colorscale\": [[0.0, \"#0d0887\"], [0.1111111111111111, \"#46039f\"], [0.2222222222222222, \"#7201a8\"], [0.3333333333333333, \"#9c179e\"], [0.4444444444444444, \"#bd3786\"], [0.5555555555555556, \"#d8576b\"], [0.6666666666666666, \"#ed7953\"], [0.7777777777777778, \"#fb9f3a\"], [0.8888888888888888, \"#fdca26\"], [1.0, \"#f0f921\"]], \"type\": \"histogram2d\"}], \"histogram2dcontour\": [{\"colorbar\": {\"outlinewidth\": 0, \"ticks\": \"\"}, \"colorscale\": [[0.0, \"#0d0887\"], [0.1111111111111111, \"#46039f\"], [0.2222222222222222, \"#7201a8\"], [0.3333333333333333, \"#9c179e\"], [0.4444444444444444, \"#bd3786\"], [0.5555555555555556, \"#d8576b\"], [0.6666666666666666, \"#ed7953\"], [0.7777777777777778, \"#fb9f3a\"], [0.8888888888888888, \"#fdca26\"], [1.0, \"#f0f921\"]], \"type\": \"histogram2dcontour\"}], \"mesh3d\": [{\"colorbar\": {\"outlinewidth\": 0, \"ticks\": \"\"}, \"type\": \"mesh3d\"}], \"parcoords\": [{\"line\": {\"colorbar\": {\"outlinewidth\": 0, \"ticks\": \"\"}}, \"type\": \"parcoords\"}], \"pie\": [{\"automargin\": true, \"type\": \"pie\"}], \"scatter\": [{\"marker\": {\"colorbar\": {\"outlinewidth\": 0, \"ticks\": \"\"}}, \"type\": \"scatter\"}], \"scatter3d\": [{\"line\": {\"colorbar\": {\"outlinewidth\": 0, \"ticks\": \"\"}}, \"marker\": {\"colorbar\": {\"outlinewidth\": 0, \"ticks\": \"\"}}, \"type\": \"scatter3d\"}], \"scattercarpet\": [{\"marker\": {\"colorbar\": {\"outlinewidth\": 0, \"ticks\": \"\"}}, \"type\": \"scattercarpet\"}], \"scattergeo\": [{\"marker\": {\"colorbar\": {\"outlinewidth\": 0, \"ticks\": \"\"}}, \"type\": \"scattergeo\"}], \"scattergl\": [{\"marker\": {\"colorbar\": {\"outlinewidth\": 0, \"ticks\": \"\"}}, \"type\": \"scattergl\"}], \"scattermapbox\": [{\"marker\": {\"colorbar\": {\"outlinewidth\": 0, \"ticks\": \"\"}}, \"type\": \"scattermapbox\"}], \"scatterpolar\": [{\"marker\": {\"colorbar\": {\"outlinewidth\": 0, \"ticks\": \"\"}}, \"type\": \"scatterpolar\"}], \"scatterpolargl\": [{\"marker\": {\"colorbar\": {\"outlinewidth\": 0, \"ticks\": \"\"}}, \"type\": \"scatterpolargl\"}], \"scatterternary\": [{\"marker\": {\"colorbar\": {\"outlinewidth\": 0, \"ticks\": \"\"}}, \"type\": \"scatterternary\"}], \"surface\": [{\"colorbar\": {\"outlinewidth\": 0, \"ticks\": \"\"}, \"colorscale\": [[0.0, \"#0d0887\"], [0.1111111111111111, \"#46039f\"], [0.2222222222222222, \"#7201a8\"], [0.3333333333333333, \"#9c179e\"], [0.4444444444444444, \"#bd3786\"], [0.5555555555555556, \"#d8576b\"], [0.6666666666666666, \"#ed7953\"], [0.7777777777777778, \"#fb9f3a\"], [0.8888888888888888, \"#fdca26\"], [1.0, \"#f0f921\"]], \"type\": \"surface\"}], \"table\": [{\"cells\": {\"fill\": {\"color\": \"#EBF0F8\"}, \"line\": {\"color\": \"white\"}}, \"header\": {\"fill\": {\"color\": \"#C8D4E3\"}, \"line\": {\"color\": \"white\"}}, \"type\": \"table\"}]}, \"layout\": {\"annotationdefaults\": {\"arrowcolor\": \"#2a3f5f\", \"arrowhead\": 0, \"arrowwidth\": 1}, \"autotypenumbers\": \"strict\", \"coloraxis\": {\"colorbar\": {\"outlinewidth\": 0, \"ticks\": \"\"}}, \"colorscale\": {\"diverging\": [[0, \"#8e0152\"], [0.1, \"#c51b7d\"], [0.2, \"#de77ae\"], [0.3, \"#f1b6da\"], [0.4, \"#fde0ef\"], [0.5, \"#f7f7f7\"], [0.6, \"#e6f5d0\"], [0.7, \"#b8e186\"], [0.8, \"#7fbc41\"], [0.9, \"#4d9221\"], [1, \"#276419\"]], \"sequential\": [[0.0, \"#0d0887\"], [0.1111111111111111, \"#46039f\"], [0.2222222222222222, \"#7201a8\"], [0.3333333333333333, \"#9c179e\"], [0.4444444444444444, \"#bd3786\"], [0.5555555555555556, \"#d8576b\"], [0.6666666666666666, \"#ed7953\"], [0.7777777777777778, \"#fb9f3a\"], [0.8888888888888888, \"#fdca26\"], [1.0, \"#f0f921\"]], \"sequentialminus\": [[0.0, \"#0d0887\"], [0.1111111111111111, \"#46039f\"], [0.2222222222222222, \"#7201a8\"], [0.3333333333333333, \"#9c179e\"], [0.4444444444444444, \"#bd3786\"], [0.5555555555555556, \"#d8576b\"], [0.6666666666666666, \"#ed7953\"], [0.7777777777777778, \"#fb9f3a\"], [0.8888888888888888, \"#fdca26\"], [1.0, \"#f0f921\"]]}, \"colorway\": [\"#636efa\", \"#EF553B\", \"#00cc96\", \"#ab63fa\", \"#FFA15A\", \"#19d3f3\", \"#FF6692\", \"#B6E880\", \"#FF97FF\", \"#FECB52\"], \"font\": {\"color\": \"#2a3f5f\"}, \"geo\": {\"bgcolor\": \"white\", \"lakecolor\": \"white\", \"landcolor\": \"#E5ECF6\", \"showlakes\": true, \"showland\": true, \"subunitcolor\": \"white\"}, \"hoverlabel\": {\"align\": \"left\"}, \"hovermode\": \"closest\", \"mapbox\": {\"style\": \"light\"}, \"paper_bgcolor\": \"white\", \"plot_bgcolor\": \"#E5ECF6\", \"polar\": {\"angularaxis\": {\"gridcolor\": \"white\", \"linecolor\": \"white\", \"ticks\": \"\"}, \"bgcolor\": \"#E5ECF6\", \"radialaxis\": {\"gridcolor\": \"white\", \"linecolor\": \"white\", \"ticks\": \"\"}}, \"scene\": {\"xaxis\": {\"backgroundcolor\": \"#E5ECF6\", \"gridcolor\": \"white\", \"gridwidth\": 2, \"linecolor\": \"white\", \"showbackground\": true, \"ticks\": \"\", \"zerolinecolor\": \"white\"}, \"yaxis\": {\"backgroundcolor\": \"#E5ECF6\", \"gridcolor\": \"white\", \"gridwidth\": 2, \"linecolor\": \"white\", \"showbackground\": true, \"ticks\": \"\", \"zerolinecolor\": \"white\"}, \"zaxis\": {\"backgroundcolor\": \"#E5ECF6\", \"gridcolor\": \"white\", \"gridwidth\": 2, \"linecolor\": \"white\", \"showbackground\": true, \"ticks\": \"\", \"zerolinecolor\": \"white\"}}, \"shapedefaults\": {\"line\": {\"color\": \"#2a3f5f\"}}, \"ternary\": {\"aaxis\": {\"gridcolor\": \"white\", \"linecolor\": \"white\", \"ticks\": \"\"}, \"baxis\": {\"gridcolor\": \"white\", \"linecolor\": \"white\", \"ticks\": \"\"}, \"bgcolor\": \"#E5ECF6\", \"caxis\": {\"gridcolor\": \"white\", \"linecolor\": \"white\", \"ticks\": \"\"}}, \"title\": {\"x\": 0.05}, \"xaxis\": {\"automargin\": true, \"gridcolor\": \"white\", \"linecolor\": \"white\", \"ticks\": \"\", \"title\": {\"standoff\": 15}, \"zerolinecolor\": \"white\", \"zerolinewidth\": 2}, \"yaxis\": {\"automargin\": true, \"gridcolor\": \"white\", \"linecolor\": \"white\", \"ticks\": \"\", \"title\": {\"standoff\": 15}, \"zerolinecolor\": \"white\", \"zerolinewidth\": 2}}}, \"title\": {\"text\": \"Countries with more than 1 billion Population\"}},                        {\"responsive\": true}                    ).then(function(){\n",
       "                            \n",
       "var gd = document.getElementById('ee0843e6-87c1-4265-8e27-f8c34f06a0a0');\n",
       "var x = new MutationObserver(function (mutations, observer) {{\n",
       "        var display = window.getComputedStyle(gd).display;\n",
       "        if (!display || display === 'none') {{\n",
       "            console.log([gd, 'removed!']);\n",
       "            Plotly.purge(gd);\n",
       "            observer.disconnect();\n",
       "        }}\n",
       "}});\n",
       "\n",
       "// Listen for the removal of the full notebook cells\n",
       "var notebookContainer = gd.closest('#notebook-container');\n",
       "if (notebookContainer) {{\n",
       "    x.observe(notebookContainer, {childList: true});\n",
       "}}\n",
       "\n",
       "// Listen for the clearing of the current output cell\n",
       "var outputEl = gd.closest('.output');\n",
       "if (outputEl) {{\n",
       "    x.observe(outputEl, {childList: true});\n",
       "}}\n",
       "\n",
       "                        })                };                });            </script>        </div>"
      ]
     },
     "metadata": {},
     "output_type": "display_data"
    }
   ],
   "source": [
    "fig = px.choropleth(population_more_than_one_billion, locations=\"Country\", \n",
    "                    locationmode='country names', color=\"Population\", \n",
    "                    hover_name=\"Country\",\n",
    "                    color_continuous_scale=\"reds\", \n",
    "                    title='Countries with more than 1 billion Population')\n",
    "fig.update(layout_coloraxis_showscale=True)\n",
    "fig.show()"
   ]
  },
  {
   "cell_type": "code",
   "execution_count": 363,
   "metadata": {},
   "outputs": [
    {
     "data": {
      "text/html": [
       "<center><img src=\"https://image.shutterstock.com/image-vector/thank-you-hand-drawn-lettering-260nw-780491263.jpg\" alt=\"Girl in a jacket\" width=\"1000\" height=\"600\"></center>"
      ],
      "text/plain": [
       "<IPython.core.display.HTML object>"
      ]
     },
     "metadata": {},
     "output_type": "display_data"
    }
   ],
   "source": [
    "display(HTML('<center><img src=\"https://image.shutterstock.com/image-vector/thank-you-hand-drawn-lettering-260nw-780491263.jpg\" alt=\"Girl in a jacket\" width=\"1000\" height=\"600\"></center>'))"
   ]
  }
 ],
 "metadata": {
  "kernelspec": {
   "display_name": "Python 3",
   "language": "python",
   "name": "python3"
  },
  "language_info": {
   "codemirror_mode": {
    "name": "ipython",
    "version": 3
   },
   "file_extension": ".py",
   "mimetype": "text/x-python",
   "name": "python",
   "nbconvert_exporter": "python",
   "pygments_lexer": "ipython3",
   "version": "3.8.5"
  }
 },
 "nbformat": 4,
 "nbformat_minor": 4
}
